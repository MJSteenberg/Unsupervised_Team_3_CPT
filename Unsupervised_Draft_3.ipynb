{
 "cells": [
  {
   "cell_type": "markdown",
   "metadata": {
    "id": "Sx0gpIuazNU8"
   },
   "source": [
    "# Movie Recommendation Challenge: Team_3_CPT"
   ]
  },
  {
   "cell_type": "markdown",
   "metadata": {
    "id": "adckiCS-zNU-"
   },
   "source": [
    "# Introduction"
   ]
  },
  {
   "cell_type": "markdown",
   "metadata": {
    "id": "amjCVgDAqpnj"
   },
   "source": [
    "**Problem** : Predicting how a user will rate a movie they have not yet viewed based on their historical preferences."
   ]
  },
  {
   "cell_type": "markdown",
   "metadata": {
    "id": "1E3S80u1zNVG"
   },
   "source": [
    "In today’s technology driven world, recommender systems are socially and economically critical for ensuring that individuals can make appropriate choices surrounding the content they engage with on a daily basis. One application where this is especially true surrounds movie content recommendations; where intelligent algorithms can help viewers find great titles from tens of thousands of options.\n",
    "\n",
    "Providing an accurate and robust solution to this challenge has immense economic potential, with users of the system being exposed to content they would like to view or purchase - generating revenue and platform affinity."
   ]
  },
  {
   "cell_type": "markdown",
   "metadata": {
    "id": "jOFmI_FopXxu"
   },
   "source": [
    "# Imports"
   ]
  },
  {
   "cell_type": "code",
   "execution_count": 7,
   "metadata": {
    "id": "4RuGkbsXpGZ7"
   },
   "outputs": [],
   "source": [
    "#Importing the required packages\n",
    "%matplotlib inline\n",
    "import pandas as pd\n",
    "import numpy as np\n",
    "import matplotlib.pyplot as plt\n",
    "import seaborn as sns\n",
    "from scipy import stats\n",
    "from ast import literal_eval\n",
    "from sklearn.feature_extraction.text import TfidfVectorizer, CountVectorizer\n",
    "from sklearn.metrics.pairwise import linear_kernel, cosine_similarity\n",
    "from nltk.stem.snowball import SnowballStemmer\n",
    "from nltk.stem.wordnet import WordNetLemmatizer\n",
    "from nltk.corpus import wordnet\n",
    "import warnings; warnings.simplefilter('ignore')\n",
    "from collections import defaultdict\n",
    "from wordcloud import WordCloud\n",
    "from pandas import Series, DataFrame"
   ]
  },
  {
   "cell_type": "markdown",
   "metadata": {
    "id": "-3X8NnIuzNVR"
   },
   "source": [
    "# The Data"
   ]
  },
  {
   "cell_type": "markdown",
   "metadata": {
    "id": "0WmAn7uaouZG"
   },
   "source": [
    "In this section we will be diving deep into the data and what it offers.\n",
    "We will be doing through analysis and grabbing insights.\n",
    "\n",
    "We will start by:\n",
    "* Loading the data\n",
    "* Viewing the data\n",
    "* Checking for nan values\n",
    "* Checking the shapes\n",
    "* Adding visual comparisons"
   ]
  },
  {
   "cell_type": "code",
   "execution_count": 8,
   "metadata": {
    "id": "T0tmkXHgmQoj",
    "outputId": "0199c3b1-3f90-4f98-9cc9-e92ffac31231"
   },
   "outputs": [
    {
     "data": {
      "text/html": [
       "<div>\n",
       "<style scoped>\n",
       "    .dataframe tbody tr th:only-of-type {\n",
       "        vertical-align: middle;\n",
       "    }\n",
       "\n",
       "    .dataframe tbody tr th {\n",
       "        vertical-align: top;\n",
       "    }\n",
       "\n",
       "    .dataframe thead th {\n",
       "        text-align: right;\n",
       "    }\n",
       "</style>\n",
       "<table border=\"1\" class=\"dataframe\">\n",
       "  <thead>\n",
       "    <tr style=\"text-align: right;\">\n",
       "      <th></th>\n",
       "      <th>userId</th>\n",
       "      <th>movieId</th>\n",
       "      <th>rating</th>\n",
       "      <th>timestamp</th>\n",
       "    </tr>\n",
       "  </thead>\n",
       "  <tbody>\n",
       "    <tr>\n",
       "      <th>0</th>\n",
       "      <td>5163</td>\n",
       "      <td>57669</td>\n",
       "      <td>4.0</td>\n",
       "      <td>1518349992</td>\n",
       "    </tr>\n",
       "    <tr>\n",
       "      <th>1</th>\n",
       "      <td>106343</td>\n",
       "      <td>5</td>\n",
       "      <td>4.5</td>\n",
       "      <td>1206238739</td>\n",
       "    </tr>\n",
       "    <tr>\n",
       "      <th>2</th>\n",
       "      <td>146790</td>\n",
       "      <td>5459</td>\n",
       "      <td>5.0</td>\n",
       "      <td>1076215539</td>\n",
       "    </tr>\n",
       "    <tr>\n",
       "      <th>3</th>\n",
       "      <td>106362</td>\n",
       "      <td>32296</td>\n",
       "      <td>2.0</td>\n",
       "      <td>1423042565</td>\n",
       "    </tr>\n",
       "    <tr>\n",
       "      <th>4</th>\n",
       "      <td>9041</td>\n",
       "      <td>366</td>\n",
       "      <td>3.0</td>\n",
       "      <td>833375837</td>\n",
       "    </tr>\n",
       "  </tbody>\n",
       "</table>\n",
       "</div>"
      ],
      "text/plain": [
       "   userId  movieId  rating   timestamp\n",
       "0    5163    57669     4.0  1518349992\n",
       "1  106343        5     4.5  1206238739\n",
       "2  146790     5459     5.0  1076215539\n",
       "3  106362    32296     2.0  1423042565\n",
       "4    9041      366     3.0   833375837"
      ]
     },
     "execution_count": 8,
     "metadata": {},
     "output_type": "execute_result"
    }
   ],
   "source": [
    "# Loading the data\n",
    "train = pd.read_csv('../input/edsa-recommender-system-predict/train.csv')\n",
    "test = pd.read_csv('../input/edsa-recommender-system-predict/test.csv')\n",
    "movies = pd.read_csv('../input/edsa-recommender-system-predict/movies.csv')\n",
    "imdb = pd.read_csv('../input/edsa-recommender-system-predict/imdb_data.csv')\n",
    "# Viewing the data\n",
    "train.head()\n"
   ]
  },
  {
   "cell_type": "code",
   "execution_count": null,
   "metadata": {
    "id": "0u0Q6Dqluf2Q"
   },
   "outputs": [],
   "source": [
    "# Checking the shape\n",
    "train.shape\n"
   ]
  },
  {
   "cell_type": "code",
   "execution_count": null,
   "metadata": {
    "id": "Glron82LqIuC",
    "outputId": "4952a2a2-dd7d-4fee-efad-056409ceeb3f"
   },
   "outputs": [],
   "source": [
    "# Looking for nan values\n",
    "train.isna().sum()\n"
   ]
  },
  {
   "cell_type": "code",
   "execution_count": null,
   "metadata": {
    "id": "evh7ahxozNVp",
    "outputId": "d1cefe5d-3555-414b-febb-a21def4f6505"
   },
   "outputs": [],
   "source": [
    "# Checking the shape\n",
    "test.shape\n"
   ]
  },
  {
   "cell_type": "code",
   "execution_count": null,
   "metadata": {
    "id": "xlDQigDczNVw",
    "outputId": "90bd1a69-244b-4166-908f-06e298caab52"
   },
   "outputs": [],
   "source": [
    "# Looking for nan values\n",
    "test.isna().sum()\n"
   ]
  },
  {
   "cell_type": "markdown",
   "metadata": {
    "id": "33qr6K1fE64Y"
   },
   "source": [
    "Conclusion: both the train and test datasets contain no null values."
   ]
  },
  {
   "cell_type": "code",
   "execution_count": 3,
   "metadata": {
    "id": "CTyk29BfzNV9"
   },
   "outputs": [],
   "source": [
    "# Function for changing the labels.\n",
    "def changingLabels(number):\n",
    "    return str(number/10**6) + \"M\"\n",
    "    "
   ]
  },
  {
   "cell_type": "code",
   "execution_count": null,
   "metadata": {
    "id": "NewmynsmzNWC",
    "outputId": "d1e53250-1c3f-4fb5-fa2a-518e333ccc79"
   },
   "outputs": [],
   "source": [
    "# Plotting a bar graph to visualise distribution of ratings in the train data\n",
    "plt.figure(figsize=(12, 8))\n",
    "ax = sns.countplot(x=\"rating\", data=train)\n",
    "ax.set_yticklabels([changingLabels(num) for num in ax.get_yticks()])\n",
    "plt.tick_params(labelsize=15)\n",
    "plt.title(\"Distribution of Ratings in Train data\", fontsize=20)\n",
    "plt.xlabel(\"Rating\", fontsize=20)\n",
    "plt.ylabel(\"Number of Ratings (Millions)\", fontsize=20)\n",
    "plt.show()\n"
   ]
  },
  {
   "cell_type": "markdown",
   "metadata": {
    "id": "OyHIbmUxzNWK"
   },
   "source": [
    "We can clearly see that Ratings equal to 4.0 are most common.\n",
    "\n",
    "We believe that the reasons for this might be because it is likely that people who truely enjoyed a specific movie will never be 100% satisfied with the movie. Giving a 5.0 rating would indicate a truly perfect movie from the watchers perspective, which is very rare. The closest best thing to 5.0 without seeming bias is 4.0, therefore 4.0 ratings are most common."
   ]
  },
  {
   "cell_type": "code",
   "execution_count": null,
   "metadata": {
    "id": "eBmqvIS_zNWL"
   },
   "outputs": [],
   "source": [
    "no_of_ratings_per_movie = train.groupby(by=\"movieId\")[\"rating\"].count().sort_values(ascending=False)\n"
   ]
  },
  {
   "cell_type": "code",
   "execution_count": null,
   "metadata": {
    "id": "nwQMm2_izNWT",
    "outputId": "ba8388af-d3b2-4d91-f8e2-83803538ccce"
   },
   "outputs": [],
   "source": [
    "fig = plt.figure(figsize=(12, 6))\n",
    "axes = fig.add_axes([0.1, 0.1, 1, 1])\n",
    "plt.title(\"Number of Ratings Per Movie\", fontsize=20)\n",
    "plt.xlabel(\"Movie\", fontsize=20)\n",
    "plt.ylabel(\"Count of Ratings\", fontsize=20)\n",
    "plt.plot(no_of_ratings_per_movie.values)\n",
    "plt.tick_params(labelsize=5)\n",
    "axes.set_xticklabels([])\n",
    "plt.show()\n"
   ]
  },
  {
   "cell_type": "markdown",
   "metadata": {
    "id": "34Ztyq_wzNWc"
   },
   "source": [
    "The above line graph shows that there are some movies that receive many ratings and some movies that receive very little votes.\n",
    "\n",
    "We believe the reason for this can be the fact that some mainstream movies are way more popular and therefore receive a lot of attention compared to the other movies. "
   ]
  },
  {
   "cell_type": "code",
   "execution_count": 39,
   "metadata": {
    "id": "7pEqN5WGzNWd",
    "outputId": "71df4fe1-868d-4d14-d9f5-a2472df16926"
   },
   "outputs": [
    {
     "data": {
      "text/plain": [
       "userId\n",
       "72315     12952\n",
       "80974      3680\n",
       "137293     3588\n",
       "33844      3208\n",
       "20055      3050\n",
       "109731     2671\n",
       "49403      2670\n",
       "92046      2579\n",
       "110971     2288\n",
       "30879      2284\n",
       "Name: rating, dtype: int64"
      ]
     },
     "execution_count": 39,
     "metadata": {},
     "output_type": "execute_result"
    }
   ],
   "source": [
    "no_of_rated_movies_per_user = train.groupby(by=\"userId\")[\"rating\"].count().sort_values(ascending=False)\n",
    "no_of_rated_movies_per_user.head(10)\n"
   ]
  },
  {
   "cell_type": "code",
   "execution_count": 40,
   "metadata": {
    "id": "JcKcYY5DzNWj",
    "outputId": "fdbc9084-a8c4-448b-cc20-b3e9b4212857"
   },
   "outputs": [
    {
     "data": {
      "image/png": "[encoded data removed]",
      "text/plain": [
       "<Figure size 1008x504 with 2 Axes>"
      ]
     },
     "metadata": {
      "needs_background": "light"
     },
     "output_type": "display_data"
    }
   ],
   "source": [
    "fig, axes = plt.subplots(nrows=1, ncols=2, figsize=(14, 7))\n",
    "\n",
    "sns.kdeplot(no_of_rated_movies_per_user.values, shade=True, ax=axes[0])\n",
    "axes[0].set_title(\"PDF\", fontsize=18)\n",
    "axes[0].set_xlabel(\"Number of Ratings by user\", fontsize=18)\n",
    "axes[0].tick_params(labelsize=15)\n",
    "\n",
    "sns.kdeplot(no_of_rated_movies_per_user.values, shade=True, cumulative=True, ax=axes[1])\n",
    "axes[1].set_title(\"CDF\", fontsize=18)\n",
    "axes[1].set_xlabel(\"Number of Ratings by user\", fontsize=18)\n",
    "axes[1].tick_params(labelsize=15)\n",
    "\n",
    "fig.subplots_adjust(wspace=2)\n",
    "plt.tight_layout()\n",
    "plt.show()\n"
   ]
  },
  {
   "cell_type": "markdown",
   "metadata": {},
   "source": [
    "* **Above PDF graph shows that almost all of the users give very few ratings. There are very few users who's ratings count is high.**\n",
    "\n",
    "* **The CDF graph shows that almost 99% of users give very few ratings**"
   ]
  },
  {
   "cell_type": "code",
   "execution_count": 41,
   "metadata": {
    "id": "XLxgKxrczNWo"
   },
   "outputs": [],
   "source": [
    "quantiles = no_of_rated_movies_per_user.quantile(np.arange(0, 1.01, 0.01))\n"
   ]
  },
  {
   "cell_type": "code",
   "execution_count": 42,
   "metadata": {
    "id": "XFMgw806zNWv",
    "outputId": "3b324600-cebb-4d02-e71e-c9efc4957536"
   },
   "outputs": [
    {
     "data": {
      "image/png": "[encoded data removed]",
      "text/plain": [
       "<Figure size 720x432 with 1 Axes>"
      ]
     },
     "metadata": {
      "needs_background": "light"
     },
     "output_type": "display_data"
    }
   ],
   "source": [
    "fig = plt.figure(figsize=(10, 6))\n",
    "\n",
    "axes = fig.add_axes([0.1, 0.1, 1, 1])\n",
    "axes.set_title(\"Quantile values of Ratings Per User\", fontsize=20)\n",
    "axes.set_xlabel(\"Quantiles\", fontsize=20)\n",
    "axes.set_ylabel(\"Ratings Per User\", fontsize=20)\n",
    "axes.plot(quantiles)\n",
    "\n",
    "plt.scatter(x=quantiles.index[::5], y=quantiles.values[::5], c=\"blue\", s=70, label=\"quantiles with 0.05 intervals\")\n",
    "plt.scatter(x=quantiles.index[::25], y=quantiles.values[::25], c=\"red\", s=70, label=\"quantiles with 0.25 intervals\")\n",
    "plt.legend(loc='upper left', fontsize=20)\n",
    "\n",
    "for x, y in zip(quantiles.index[::25], quantiles.values[::25]):\n",
    "    plt.annotate(s='({},{})'.format(x, y), xy=(x, y), fontweight='bold', fontsize=16, xytext=(x-0.05, y+180))\n",
    "    \n",
    "axes.tick_params(labelsize=15)\n"
   ]
  },
  {
   "cell_type": "markdown",
   "metadata": {},
   "source": [
    "Total number of ratings per user below 75th percentile are less or equal to 65 and total number of ratings per user above 75th percentile are greater than 65."
   ]
  },
  {
   "cell_type": "code",
   "execution_count": null,
   "metadata": {},
   "outputs": [],
   "source": [
    "quantiles[::5]"
   ]
  },
  {
   "cell_type": "markdown",
   "metadata": {},
   "source": [
    " More than 75% of users rated above 65"
   ]
  },
  {
   "cell_type": "code",
   "execution_count": 44,
   "metadata": {},
   "outputs": [
    {
     "name": "stdout",
     "output_type": "stream",
     "text": [
      "Total number of ratings below 75th percentile = 122281\n",
      "Total number of ratings above 75th percentile = 40260\n"
     ]
    }
   ],
   "source": [
    "print(\"Total number of ratings below 75th percentile = \"+str(sum(no_of_rated_movies_per_user.values<=65)))\n",
    "print(\"Total number of ratings above 75th percentile = \"+str(sum(no_of_rated_movies_per_user.values>65)))"
   ]
  },
  {
   "cell_type": "markdown",
   "metadata": {
    "id": "LLjI-Fd2zNW0"
   },
   "source": [
    "**Finding the most popular genre:**\n",
    "\n",
    "We began by creating a list of all the genres."
   ]
  },
  {
   "cell_type": "code",
   "execution_count": 5,
   "metadata": {
    "id": "FVttKImGzNW1",
    "outputId": "d13a02ad-a6ce-41a8-81bc-e50fbb507bec"
   },
   "outputs": [
    {
     "data": {
      "text/plain": [
       "['Children',\n",
       " 'Adventure',\n",
       " 'Western',\n",
       " 'Comedy',\n",
       " 'Crime',\n",
       " 'Animation',\n",
       " 'Drama',\n",
       " 'Fantasy',\n",
       " 'Horror',\n",
       " 'Thriller',\n",
       " 'War',\n",
       " 'Musical',\n",
       " 'Mystery',\n",
       " 'Film-Noir',\n",
       " 'Romance',\n",
       " 'Action',\n",
       " 'Documentary',\n",
       " '(no genres listed)',\n",
       " 'Sci-Fi',\n",
       " 'IMAX']"
      ]
     },
     "execution_count": 5,
     "metadata": {},
     "output_type": "execute_result"
    }
   ],
   "source": [
    "temp = \"\"\n",
    "for i in movies.genres:\n",
    "    temp = temp+'|'+i\n",
    "\n",
    "genres_list = list(set(temp.split('|')))\n",
    "del genres_list[0]  # Data Cleaning\n",
    "genres_list\n"
   ]
  },
  {
   "cell_type": "code",
   "execution_count": 10,
   "metadata": {},
   "outputs": [],
   "source": [
    "# Split genres and create a new entry for each of the genre a movie falls into\n",
    "s = movies['genres'].str.split('|').apply(Series, 1).stack()\n",
    "s.index = s.index.droplevel(-1)\n",
    "s.name = 'genres'\n",
    "del movies['genres']\n",
    "movies_split_genres = movies.join(s)"
   ]
  },
  {
   "cell_type": "code",
   "execution_count": 11,
   "metadata": {},
   "outputs": [
    {
     "data": {
      "text/html": [
       "<div>\n",
       "<style scoped>\n",
       "    .dataframe tbody tr th:only-of-type {\n",
       "        vertical-align: middle;\n",
       "    }\n",
       "\n",
       "    .dataframe tbody tr th {\n",
       "        vertical-align: top;\n",
       "    }\n",
       "\n",
       "    .dataframe thead th {\n",
       "        text-align: right;\n",
       "    }\n",
       "</style>\n",
       "<table border=\"1\" class=\"dataframe\">\n",
       "  <thead>\n",
       "    <tr style=\"text-align: right;\">\n",
       "      <th></th>\n",
       "      <th>movieId</th>\n",
       "      <th>title</th>\n",
       "      <th>genres</th>\n",
       "    </tr>\n",
       "  </thead>\n",
       "  <tbody>\n",
       "    <tr>\n",
       "      <th>0</th>\n",
       "      <td>1</td>\n",
       "      <td>Toy Story (1995)</td>\n",
       "      <td>Adventure</td>\n",
       "    </tr>\n",
       "    <tr>\n",
       "      <th>0</th>\n",
       "      <td>1</td>\n",
       "      <td>Toy Story (1995)</td>\n",
       "      <td>Animation</td>\n",
       "    </tr>\n",
       "    <tr>\n",
       "      <th>0</th>\n",
       "      <td>1</td>\n",
       "      <td>Toy Story (1995)</td>\n",
       "      <td>Children</td>\n",
       "    </tr>\n",
       "    <tr>\n",
       "      <th>0</th>\n",
       "      <td>1</td>\n",
       "      <td>Toy Story (1995)</td>\n",
       "      <td>Comedy</td>\n",
       "    </tr>\n",
       "    <tr>\n",
       "      <th>0</th>\n",
       "      <td>1</td>\n",
       "      <td>Toy Story (1995)</td>\n",
       "      <td>Fantasy</td>\n",
       "    </tr>\n",
       "  </tbody>\n",
       "</table>\n",
       "</div>"
      ],
      "text/plain": [
       "   movieId             title     genres\n",
       "0        1  Toy Story (1995)  Adventure\n",
       "0        1  Toy Story (1995)  Animation\n",
       "0        1  Toy Story (1995)   Children\n",
       "0        1  Toy Story (1995)     Comedy\n",
       "0        1  Toy Story (1995)    Fantasy"
      ]
     },
     "execution_count": 11,
     "metadata": {},
     "output_type": "execute_result"
    }
   ],
   "source": [
    "movies_split_genres.head()"
   ]
  },
  {
   "cell_type": "code",
   "execution_count": 13,
   "metadata": {},
   "outputs": [
    {
     "data": {
      "text/plain": [
       "array(['Adventure', 'Animation', 'Children', 'Comedy', 'Fantasy',\n",
       "       'Romance', 'Drama', 'Action', 'Crime', 'Thriller', 'Horror',\n",
       "       'Mystery', 'Sci-Fi', 'IMAX', 'Documentary', 'War', 'Musical',\n",
       "       'Western', 'Film-Noir', '(no genres listed)'], dtype=object)"
      ]
     },
     "execution_count": 13,
     "metadata": {},
     "output_type": "execute_result"
    }
   ],
   "source": [
    "# How many different genres do we have?\n",
    "movies_split_genres['genres'].unique()"
   ]
  },
  {
   "cell_type": "code",
   "execution_count": 14,
   "metadata": {},
   "outputs": [
    {
     "data": {
      "text/plain": [
       "20"
      ]
     },
     "execution_count": 14,
     "metadata": {},
     "output_type": "execute_result"
    }
   ],
   "source": [
    "len(movies_split_genres['genres'].unique())"
   ]
  },
  {
   "cell_type": "markdown",
   "metadata": {},
   "source": [
    "Overall, we have movies from 20 unique genres."
   ]
  },
  {
   "cell_type": "code",
   "execution_count": 15,
   "metadata": {},
   "outputs": [
    {
     "data": {
      "text/html": [
       "<div>\n",
       "<style scoped>\n",
       "    .dataframe tbody tr th:only-of-type {\n",
       "        vertical-align: middle;\n",
       "    }\n",
       "\n",
       "    .dataframe tbody tr th {\n",
       "        vertical-align: top;\n",
       "    }\n",
       "\n",
       "    .dataframe thead th {\n",
       "        text-align: right;\n",
       "    }\n",
       "</style>\n",
       "<table border=\"1\" class=\"dataframe\">\n",
       "  <thead>\n",
       "    <tr style=\"text-align: right;\">\n",
       "      <th></th>\n",
       "      <th>title</th>\n",
       "    </tr>\n",
       "    <tr>\n",
       "      <th>genres</th>\n",
       "      <th></th>\n",
       "    </tr>\n",
       "  </thead>\n",
       "  <tbody>\n",
       "    <tr>\n",
       "      <th>IMAX</th>\n",
       "      <td>195</td>\n",
       "    </tr>\n",
       "    <tr>\n",
       "      <th>Film-Noir</th>\n",
       "      <td>353</td>\n",
       "    </tr>\n",
       "    <tr>\n",
       "      <th>Musical</th>\n",
       "      <td>1054</td>\n",
       "    </tr>\n",
       "    <tr>\n",
       "      <th>Western</th>\n",
       "      <td>1399</td>\n",
       "    </tr>\n",
       "    <tr>\n",
       "      <th>War</th>\n",
       "      <td>1874</td>\n",
       "    </tr>\n",
       "    <tr>\n",
       "      <th>Fantasy</th>\n",
       "      <td>2731</td>\n",
       "    </tr>\n",
       "    <tr>\n",
       "      <th>Mystery</th>\n",
       "      <td>2925</td>\n",
       "    </tr>\n",
       "    <tr>\n",
       "      <th>Animation</th>\n",
       "      <td>2928</td>\n",
       "    </tr>\n",
       "    <tr>\n",
       "      <th>Children</th>\n",
       "      <td>2934</td>\n",
       "    </tr>\n",
       "    <tr>\n",
       "      <th>Sci-Fi</th>\n",
       "      <td>3591</td>\n",
       "    </tr>\n",
       "    <tr>\n",
       "      <th>Adventure</th>\n",
       "      <td>4142</td>\n",
       "    </tr>\n",
       "    <tr>\n",
       "      <th>(no genres listed)</th>\n",
       "      <td>5062</td>\n",
       "    </tr>\n",
       "    <tr>\n",
       "      <th>Crime</th>\n",
       "      <td>5316</td>\n",
       "    </tr>\n",
       "    <tr>\n",
       "      <th>Documentary</th>\n",
       "      <td>5603</td>\n",
       "    </tr>\n",
       "    <tr>\n",
       "      <th>Horror</th>\n",
       "      <td>5983</td>\n",
       "    </tr>\n",
       "    <tr>\n",
       "      <th>Action</th>\n",
       "      <td>7346</td>\n",
       "    </tr>\n",
       "    <tr>\n",
       "      <th>Romance</th>\n",
       "      <td>7716</td>\n",
       "    </tr>\n",
       "    <tr>\n",
       "      <th>Thriller</th>\n",
       "      <td>8641</td>\n",
       "    </tr>\n",
       "    <tr>\n",
       "      <th>Comedy</th>\n",
       "      <td>16861</td>\n",
       "    </tr>\n",
       "    <tr>\n",
       "      <th>Drama</th>\n",
       "      <td>25581</td>\n",
       "    </tr>\n",
       "  </tbody>\n",
       "</table>\n",
       "</div>"
      ],
      "text/plain": [
       "                    title\n",
       "genres                   \n",
       "IMAX                  195\n",
       "Film-Noir             353\n",
       "Musical              1054\n",
       "Western              1399\n",
       "War                  1874\n",
       "Fantasy              2731\n",
       "Mystery              2925\n",
       "Animation            2928\n",
       "Children             2934\n",
       "Sci-Fi               3591\n",
       "Adventure            4142\n",
       "(no genres listed)   5062\n",
       "Crime                5316\n",
       "Documentary          5603\n",
       "Horror               5983\n",
       "Action               7346\n",
       "Romance              7716\n",
       "Thriller             8641\n",
       "Comedy              16861\n",
       "Drama               25581"
      ]
     },
     "execution_count": 15,
     "metadata": {},
     "output_type": "execute_result"
    }
   ],
   "source": [
    "# Group movies by genre using title as unique identifier and display all genres.\n",
    "movies_genre = (pd.DataFrame(movies_split_genres.groupby('genres').title.nunique())).sort_values('title', ascending=True)\n",
    "movies_genre.head(20)\n"
   ]
  },
  {
   "cell_type": "code",
   "execution_count": 16,
   "metadata": {},
   "outputs": [
    {
     "data": {
      "image/png": "[encoded data removed]",
      "text/plain": [
       "<Figure size 720x720 with 1 Axes>"
      ]
     },
     "metadata": {},
     "output_type": "display_data"
    }
   ],
   "source": [
    "movies_genre['title'].plot.pie(title= 'Movies per Genre in %', figsize=(10,10), autopct='%1.1f%%',fontsize=15);"
   ]
  },
  {
   "cell_type": "markdown",
   "metadata": {},
   "source": [
    "\n",
    "Drama, Comedy, Thriller, and Romance are the most popular genres in general. \n",
    "The pie chart is a better visual since we can assess that these top 4 genres make up about 50% of all movies."
   ]
  },
  {
   "cell_type": "code",
   "execution_count": 17,
   "metadata": {},
   "outputs": [
    {
     "data": {
      "image/png": "[encoded data removed]",
      "text/plain": [
       "<Figure size 720x648 with 1 Axes>"
      ]
     },
     "metadata": {
      "needs_background": "light"
     },
     "output_type": "display_data"
    }
   ],
   "source": [
    "# Display in bar chart\n",
    "movies_genre['title'].plot.barh(title = 'Movies per Genre',color='DarkBlue', figsize=(10, 9));"
   ]
  },
  {
   "cell_type": "markdown",
   "metadata": {},
   "source": [
    "The most common genres are Drama (25581 movies, 22.8%) , Comedy (16861 movies, 15.0%) and Thriller (8641 movies, 7.7%)."
   ]
  },
  {
   "cell_type": "code",
   "execution_count": 18,
   "metadata": {
    "id": "Z6ASPgXLzNXR",
    "outputId": "47f61af8-aabf-494b-f82a-8a014243b7b0"
   },
   "outputs": [
    {
     "data": {
      "text/html": [
       "<div>\n",
       "<style scoped>\n",
       "    .dataframe tbody tr th:only-of-type {\n",
       "        vertical-align: middle;\n",
       "    }\n",
       "\n",
       "    .dataframe tbody tr th {\n",
       "        vertical-align: top;\n",
       "    }\n",
       "\n",
       "    .dataframe thead th {\n",
       "        text-align: right;\n",
       "    }\n",
       "</style>\n",
       "<table border=\"1\" class=\"dataframe\">\n",
       "  <thead>\n",
       "    <tr style=\"text-align: right;\">\n",
       "      <th></th>\n",
       "      <th>movieId</th>\n",
       "      <th>title</th>\n",
       "      <th>title_cast</th>\n",
       "      <th>director</th>\n",
       "      <th>runtime</th>\n",
       "      <th>budget</th>\n",
       "      <th>plot_keywords</th>\n",
       "    </tr>\n",
       "  </thead>\n",
       "  <tbody>\n",
       "    <tr>\n",
       "      <th>0</th>\n",
       "      <td>1</td>\n",
       "      <td>Toy Story (1995)</td>\n",
       "      <td>Tom Hanks|Tim Allen|Don Rickles|Jim Varney|Wal...</td>\n",
       "      <td>John Lasseter</td>\n",
       "      <td>81.0</td>\n",
       "      <td>$30,000,000</td>\n",
       "      <td>toy|rivalry|cowboy|cgi animation</td>\n",
       "    </tr>\n",
       "    <tr>\n",
       "      <th>1</th>\n",
       "      <td>2</td>\n",
       "      <td>Jumanji (1995)</td>\n",
       "      <td>Robin Williams|Jonathan Hyde|Kirsten Dunst|Bra...</td>\n",
       "      <td>Jonathan Hensleigh</td>\n",
       "      <td>104.0</td>\n",
       "      <td>$65,000,000</td>\n",
       "      <td>board game|adventurer|fight|game</td>\n",
       "    </tr>\n",
       "    <tr>\n",
       "      <th>2</th>\n",
       "      <td>3</td>\n",
       "      <td>Grumpier Old Men (1995)</td>\n",
       "      <td>Walter Matthau|Jack Lemmon|Sophia Loren|Ann-Ma...</td>\n",
       "      <td>Mark Steven Johnson</td>\n",
       "      <td>101.0</td>\n",
       "      <td>$25,000,000</td>\n",
       "      <td>boat|lake|neighbor|rivalry</td>\n",
       "    </tr>\n",
       "    <tr>\n",
       "      <th>3</th>\n",
       "      <td>4</td>\n",
       "      <td>Waiting to Exhale (1995)</td>\n",
       "      <td>Whitney Houston|Angela Bassett|Loretta Devine|...</td>\n",
       "      <td>Terry McMillan</td>\n",
       "      <td>124.0</td>\n",
       "      <td>$16,000,000</td>\n",
       "      <td>black american|husband wife relationship|betra...</td>\n",
       "    </tr>\n",
       "    <tr>\n",
       "      <th>4</th>\n",
       "      <td>5</td>\n",
       "      <td>Father of the Bride Part II (1995)</td>\n",
       "      <td>Steve Martin|Diane Keaton|Martin Short|Kimberl...</td>\n",
       "      <td>Albert Hackett</td>\n",
       "      <td>106.0</td>\n",
       "      <td>$30,000,000</td>\n",
       "      <td>fatherhood|doberman|dog|mansion</td>\n",
       "    </tr>\n",
       "  </tbody>\n",
       "</table>\n",
       "</div>"
      ],
      "text/plain": [
       "   movieId                               title  \\\n",
       "0        1                    Toy Story (1995)   \n",
       "1        2                      Jumanji (1995)   \n",
       "2        3             Grumpier Old Men (1995)   \n",
       "3        4            Waiting to Exhale (1995)   \n",
       "4        5  Father of the Bride Part II (1995)   \n",
       "\n",
       "                                          title_cast             director  \\\n",
       "0  Tom Hanks|Tim Allen|Don Rickles|Jim Varney|Wal...        John Lasseter   \n",
       "1  Robin Williams|Jonathan Hyde|Kirsten Dunst|Bra...   Jonathan Hensleigh   \n",
       "2  Walter Matthau|Jack Lemmon|Sophia Loren|Ann-Ma...  Mark Steven Johnson   \n",
       "3  Whitney Houston|Angela Bassett|Loretta Devine|...       Terry McMillan   \n",
       "4  Steve Martin|Diane Keaton|Martin Short|Kimberl...       Albert Hackett   \n",
       "\n",
       "   runtime       budget                                      plot_keywords  \n",
       "0     81.0  $30,000,000                   toy|rivalry|cowboy|cgi animation  \n",
       "1    104.0  $65,000,000                   board game|adventurer|fight|game  \n",
       "2    101.0  $25,000,000                         boat|lake|neighbor|rivalry  \n",
       "3    124.0  $16,000,000  black american|husband wife relationship|betra...  \n",
       "4    106.0  $30,000,000                    fatherhood|doberman|dog|mansion  "
      ]
     },
     "execution_count": 18,
     "metadata": {},
     "output_type": "execute_result"
    }
   ],
   "source": [
    "imd_movies = movies.merge(imdb, on='movieId')\n",
    "imd_movies.head()\n"
   ]
  },
  {
   "cell_type": "code",
   "execution_count": 33,
   "metadata": {},
   "outputs": [],
   "source": [
    "# Split genres and create a new entry for each of the genre a movie falls into\n",
    "z = imd_movies['title_cast'].str.split('|').apply(Series, 1).stack()\n",
    "z.index = z.index.droplevel(-1)\n",
    "z.name = 'title_cast'\n",
    "del imd_movies['title_cast']\n",
    "imd_movies_split_title_cast = imd_movies.join(z)"
   ]
  },
  {
   "cell_type": "markdown",
   "metadata": {},
   "source": [
    "**Which actors have starred in the most movies?**"
   ]
  },
  {
   "cell_type": "code",
   "execution_count": 35,
   "metadata": {},
   "outputs": [
    {
     "data": {
      "text/plain": [
       "Samuel L. Jackson     79\n",
       "Steve Buscemi         65\n",
       "Robert De Niro        57\n",
       "Willem Dafoe          55\n",
       "Nicolas Cage          55\n",
       "Gérard Depardieu      55\n",
       "Christopher Walken    54\n",
       "Keith David           54\n",
       "Brian Cox             54\n",
       "Bruce Willis          54\n",
       "Danny Glover          53\n",
       "Richard Jenkins       53\n",
       "Morgan Freeman        53\n",
       "Stanley Tucci         53\n",
       "Tom Wilkinson         53\n",
       "Name: title_cast, dtype: int64"
      ]
     },
     "execution_count": 35,
     "metadata": {},
     "output_type": "execute_result"
    }
   ],
   "source": [
    "imd_movies_split_title_cast['title_cast'].value_counts().head(15)"
   ]
  },
  {
   "cell_type": "markdown",
   "metadata": {},
   "source": [
    "Samuel L. Jackson,Steve Buscemi and Robert De Niro starred in most movies    "
   ]
  },
  {
   "cell_type": "markdown",
   "metadata": {},
   "source": [
    "**Who has directed the most movies?**"
   ]
  },
  {
   "cell_type": "code",
   "execution_count": 37,
   "metadata": {},
   "outputs": [
    {
     "data": {
      "text/plain": [
       "Woody Allen            26\n",
       "Luc Besson             26\n",
       "See full summary       25\n",
       "Stephen King           23\n",
       "William Shakespeare    18\n",
       "Ki-duk Kim             15\n",
       "Tyler Perry            15\n",
       "Lars von Trier         15\n",
       "Robert Rodriguez       14\n",
       "David Mamet            13\n",
       "Alex Gibney            13\n",
       "Peter Farrelly         13\n",
       "Sang-soo Hong          12\n",
       "Takeshi Kitano         12\n",
       "Olivier Assayas        12\n",
       "Name: director, dtype: int64"
      ]
     },
     "execution_count": 37,
     "metadata": {},
     "output_type": "execute_result"
    }
   ],
   "source": [
    "imd_movies['director'].value_counts().head(15)"
   ]
  },
  {
   "cell_type": "markdown",
   "metadata": {},
   "source": [
    "Woody Allen,Luc Besson,See full summary and  Stephen King directed the most movies.                \n",
    "       "
   ]
  },
  {
   "cell_type": "markdown",
   "metadata": {
    "id": "kgsDevf6zNXb"
   },
   "source": [
    "# Collaborative Filtering"
   ]
  },
  {
   "cell_type": "markdown",
   "metadata": {
    "id": "ntCzUDcx3K1Q"
   },
   "source": [
    "We will use a technique called collaborative filtering to make recommendations to movie watchers. Collaborative filtering is the most common technique used when it comes to building intelligent recommender systems that can learn to give better recommendations as more information about users is collected.Collaborative filtering provides many advantages over content-based filtering. A few of them are as follows: Not required to understand item content: The content of the items does not necessarily tell the whole story, such as movie type/genre, and so on.\n",
    "\n",
    "We will not be implementing collaborative filtering from scratch. Instead, we will use the Surprise library that used extremely powerful algorithms like Singular Value Decomposition (SVD) to minimise RMSE (Root Mean Square Error) and give great recommendations.\n",
    "\n",
    "Most websites like Amazon, YouTube, and Netflix use collaborative filtering as a part of their sophisticated recommendation systems. We can use this technique to build recommenders that give suggestions to a user on the basis of the likes and dislikes of similar users."
   ]
  },
  {
   "cell_type": "code",
   "execution_count": null,
   "metadata": {
    "id": "5u5JRc_j3sOp",
    "outputId": "7a6578cc-b098-4612-c209-5ac21053d15c"
   },
   "outputs": [],
   "source": [
    "# Run if running from colab\n",
    "!pip install scikit-surprise"
   ]
  },
  {
   "cell_type": "code",
   "execution_count": null,
   "metadata": {
    "id": "zhQSX36r3Hh2"
   },
   "outputs": [],
   "source": [
    "# Importing the surprise packages we need\n",
    "from surprise.model_selection import KFold\n",
    "from surprise import NormalPredictor\n",
    "from surprise import SVD\n",
    "from surprise import Dataset\n",
    "from surprise import accuracy\n",
    "from surprise import Reader\n",
    "from surprise.model_selection import cross_validate\n",
    "reader = Reader(rating_scale=(1, 5))"
   ]
  },
  {
   "cell_type": "code",
   "execution_count": null,
   "metadata": {
    "id": "vYcORx5i3HwD",
    "outputId": "c90183b8-2edd-4fdd-920d-7ed6487cf81d"
   },
   "outputs": [],
   "source": [
    "data = Dataset.load_from_df(train[['userId', 'movieId', 'rating']], reader=reader)\n",
    "cross_validate(NormalPredictor(), data, cv=2)\n"
   ]
  },
  {
   "cell_type": "markdown",
   "metadata": {
    "id": "hg1TtqIhzNXz"
   },
   "source": [
    "# Model Building"
   ]
  },
  {
   "cell_type": "markdown",
   "metadata": {
    "id": "2LKYX9vVzNX0"
   },
   "source": [
    "We chose to use a **Single Value Decomposition (SVD)** algorithm:\n",
    "\n",
    "One way to handle the scalability and sparsity issue created by colaborative filtering is to leverage a latent factor model to capture the similarity between users and items. Essentially, we want to turn the recommendation problem into an optimization problem. We can view it as how good we are in predicting the rating for items given a user. One common metric is Root Mean Square Error (RMSE). The lower the RMSE, the better the performance.\n",
    "\n",
    "The latent factor you might be wondering is a broad idea which describes a property or concept that a user or an item has. SVD decreases the dimension of the utility matrix by extracting its latent factors. Essentially, we map each user and each item into a latent space with dimension r. Therefore, it helps us better understand the relationship between users and items as they become directly comparable. "
   ]
  },
  {
   "cell_type": "code",
   "execution_count": null,
   "metadata": {
    "id": "HIv57T-L3H6k",
    "outputId": "c0c0bd32-fcab-42d9-ecb0-d916f1988055"
   },
   "outputs": [],
   "source": [
    "kf = KFold(n_splits=3)\n",
    "algo = SVD()\n",
    "\n",
    "for trainset, testset in kf.split(data):\n",
    "\n",
    "    # train and test algorithm.\n",
    "    algo.fit(trainset)\n",
    "    predictions = algo.test(testset)\n",
    "\n",
    "    # Compute and print Root Mean Squared Error\n",
    "    accuracy.rmse(predictions, verbose=True)\n"
   ]
  },
  {
   "cell_type": "markdown",
   "metadata": {
    "id": "fIjlPixjzNX7"
   },
   "source": [
    "Fitting our algorithm on the whole dataset."
   ]
  },
  {
   "cell_type": "code",
   "execution_count": null,
   "metadata": {
    "id": "1IAf6Qs8zNX8"
   },
   "outputs": [],
   "source": [
    "# n_epochs=10, lr_all=0.005, reg_all=0.4"
   ]
  },
  {
   "cell_type": "code",
   "execution_count": null,
   "metadata": {
    "id": "_7wStM2vA1L6",
    "outputId": "57d9cf6c-43aa-4040-9d92-15e636ed9ce9"
   },
   "outputs": [],
   "source": [
    "algo.fit(data.build_full_trainset())"
   ]
  },
  {
   "cell_type": "code",
   "execution_count": null,
   "metadata": {
    "id": "D7bI9U5YA9-K",
    "outputId": "1201ca60-235c-4a16-9fab-81cfc91ec064"
   },
   "outputs": [],
   "source": [
    "# This for loop generates a list containing all our predictions.\n",
    "ratings = []\n",
    "for _, row in test.iterrows():\n",
    "    ratings.append(algo.predict(row.userId, row.movieId).est)\n",
    "\n",
    "ratings[0:10]\n"
   ]
  },
  {
   "cell_type": "code",
   "execution_count": null,
   "metadata": {
    "id": "IFLrgi7pzNYN",
    "outputId": "caae9096-172e-4a1b-ab74-4391d41810e0"
   },
   "outputs": [],
   "source": [
    "test['rating'] = ratings\n",
    "test.head()\n"
   ]
  },
  {
   "cell_type": "code",
   "execution_count": null,
   "metadata": {
    "id": "-tD_npO1zNYS"
   },
   "outputs": [],
   "source": [
    "test['Id'] = test[['userId', 'movieId']].astype(str).agg('_'.join, axis=1)\n"
   ]
  },
  {
   "cell_type": "code",
   "execution_count": null,
   "metadata": {
    "id": "Uo-HSd5fzNYX",
    "outputId": "a9e58be8-1ffb-454a-8dbc-3d334f9c9edf"
   },
   "outputs": [],
   "source": [
    "# Creating our submission csv file. Score of 0.81885.\n",
    "test_df = test.copy()\n",
    "test_df.drop(columns=['movieId', 'userId'], inplace=True)\n",
    "test_df.to_csv('Submission_5.csv', index=False)\n",
    "test_df\n"
   ]
  },
  {
   "cell_type": "code",
   "execution_count": null,
   "metadata": {
    "id": "Kp6zq8kDzNYe",
    "outputId": "e4379eb5-c972-4b5f-b4be-9434b5e05d97"
   },
   "outputs": [],
   "source": [
    "ratings_dict = {'itemId': list(train.movieId),\n",
    "                'userId': list(train.userId),\n",
    "                'rating': list(train.rating)}\n",
    "\n",
    "df = pd.DataFrame(ratings_dict)\n",
    "df.head()\n"
   ]
  },
  {
   "cell_type": "markdown",
   "metadata": {
    "id": "ckzI44HszNYj"
   },
   "source": [
    "Let's check how good or bad our predictions are:\n",
    "The following function will create a pandas data frame which will consist of these columns:\n",
    "\n",
    "UID: user-id\n",
    "\n",
    "iid: item id\n",
    "\n",
    "Rui: the rating given by the user\n",
    "\n",
    "est: rating estimated by the model\n",
    "\n",
    "Iu: No of items rated by the user\n",
    "\n",
    "UI: number of users that have rated this item\n",
    "\n",
    "err: abs difference between predicted rating and the actual rating."
   ]
  },
  {
   "cell_type": "code",
   "execution_count": null,
   "metadata": {
    "id": "GfxM9n_wzNYk"
   },
   "outputs": [],
   "source": [
    "def get_Iu(uid):\n",
    "    \"\"\" \n",
    "    args: \n",
    "      uid: the id of the user\n",
    "    returns: \n",
    "      the number of items rated by the user\n",
    "    \"\"\"\n",
    "    try:\n",
    "        return len(trainset.ur[trainset.to_inner_uid(uid)])\n",
    "    except ValueError:  # user was not part of the trainset\n",
    "        return 0\n",
    "    \n",
    "def get_Ui(iid):\n",
    "    \"\"\" \n",
    "    args:\n",
    "      iid: the raw id of the item\n",
    "    returns:\n",
    "      the number of users that have rated the item.\n",
    "    \"\"\"\n",
    "    try: \n",
    "        return len(trainset.ir[trainset.to_inner_iid(iid)])\n",
    "    except ValueError:\n",
    "        return 0\n",
    "\n",
    "    \n",
    "df_predictions = pd.DataFrame(predictions, columns=['uid', 'iid', 'rui', 'est', 'details'])\n",
    "df_predictions['Iu'] = df_predictions.uid.apply(get_Iu)\n",
    "df_predictions['Ui'] = df_predictions.iid.apply(get_Ui)\n",
    "df_predictions['err'] = abs(df_predictions.est - df_predictions.rui)\n"
   ]
  },
  {
   "cell_type": "code",
   "execution_count": null,
   "metadata": {
    "id": "EPilhVFCzNYr",
    "outputId": "f8c95352-f9af-45ed-c322-c9e0fb19dda5"
   },
   "outputs": [],
   "source": [
    "df_predictions.head(10)\n"
   ]
  },
  {
   "cell_type": "markdown",
   "metadata": {
    "id": "40mSEIqJzNYy"
   },
   "source": [
    " # Top 10 best and worst predictions by model"
   ]
  },
  {
   "cell_type": "code",
   "execution_count": null,
   "metadata": {
    "id": "NXwZmRQdzNYz"
   },
   "outputs": [],
   "source": [
    "best_predictions = df_predictions.sort_values(by='err')[:10]\n",
    "worst_predictions = df_predictions.sort_values(by='err')[-10:]\n"
   ]
  },
  {
   "cell_type": "code",
   "execution_count": null,
   "metadata": {
    "id": "iU8Bn8ZnzNY6",
    "outputId": "467626dd-ff2c-4215-a8cb-d6ca24d2ecc7"
   },
   "outputs": [],
   "source": [
    "best_predictions\n"
   ]
  },
  {
   "cell_type": "code",
   "execution_count": null,
   "metadata": {
    "id": "UAHV51WazNZB",
    "outputId": "61b0848a-75b0-4264-9fd7-490c42dd550f"
   },
   "outputs": [],
   "source": [
    "worst_predictions\n"
   ]
  },
  {
   "cell_type": "markdown",
   "metadata": {
    "id": "THtCYq6fzNZH"
   },
   "source": [
    "The worst predictions look pretty surprising. Let's look in more detail of item \"2571\", rated 0.5, our SVD algorithm predicts that user would rate 5.0"
   ]
  },
  {
   "cell_type": "code",
   "execution_count": null,
   "metadata": {
    "id": "d2BS8KTnzNZI",
    "outputId": "bf1cff1b-9db6-4d5c-e4e0-6459e6e3b3f6"
   },
   "outputs": [],
   "source": [
    "df.loc[df['itemId'] == 2571]['rating'].describe()\n"
   ]
  },
  {
   "cell_type": "markdown",
   "metadata": {
    "id": "ygb5ieMXzNZQ"
   },
   "source": [
    "This shows that more than 50% users rated this item 4.5 "
   ]
  },
  {
   "cell_type": "code",
   "execution_count": null,
   "metadata": {
    "id": "5lMczqyDzNZS"
   },
   "outputs": [],
   "source": [
    "# temp = df.loc[df['itemId'] == 4031]['rating']\n",
    "# configure_plotly_browser_state()\n",
    "\n",
    "# # Create trace\n",
    "# trace = go.Histogram(x = temp.values,\n",
    "#                      name = 'Ratings',\n",
    "#                      xbins = dict(start = 0,\n",
    "#                                   end = 5, size=.3))\n",
    "#  # Create layout\n",
    "# layout = go.Layout(title = 'Number of ratings item 4031 has received',\n",
    "#          xaxis = dict(title = 'Number of Ratings Per Item'),\n",
    "#          yaxis = dict(title = 'Count'),           \n",
    "#          bargap = 0.2)\n",
    "\n",
    "# # Create plot\n",
    "# fig = go.Figure(data=[trace], layout=layout)\n",
    "# iplot(fig)\n",
    "# configure_plotly_browser_state()\n",
    "\n",
    "# # Create trace\n",
    "# trace = go.Histogram(x = temp.values,\n",
    "#                      name = 'Ratings',\n",
    "#                      xbins = dict(start = 0,\n",
    "#                                   end = 5, size=.3))\n",
    "#  # Create layout\n",
    "# layout = go.Layout((title = 'Number of ratings item 3996 has received'),\n",
    "#          xaxis = dict(title = 'Number of Ratings Per Item'),\n",
    "#          yaxis = dict(title = 'Count'),\n",
    "#          bargap = 0.2)  \n",
    "\n",
    "# # Create plot\n",
    "# fig = go.Figure(data=[trace], layout=layout)\n",
    "# iplot(fig)"
   ]
  },
  {
   "cell_type": "code",
   "execution_count": null,
   "metadata": {
    "id": "mk7WRCyWzNZX"
   },
   "outputs": [],
   "source": [
    "#It turns out, most of the ratings this Item received between \"3 and 5\",only 1% of the users rated \"0.5\" and one \"2.5\"below 3. It seems that for each prediction, the users are some kind of outliers and the item has been rated very few number of times."
   ]
  },
  {
   "cell_type": "markdown",
   "metadata": {
    "id": "CutMg5P1zNZb"
   },
   "source": [
    "# K Recommendations"
   ]
  },
  {
   "cell_type": "markdown",
   "metadata": {
    "id": "AsGk_hF5zNZc"
   },
   "source": [
    "Recall and precision at K Recall and precision are the classical evaluation metric and are used to evaluate the binary metric and so we have to convert our rating which is scaled from (1-5) into a binary problem relevant and not relevant items."
   ]
  },
  {
   "cell_type": "markdown",
   "metadata": {
    "id": "E2rd4yBRzNZe"
   },
   "source": [
    "#Conversion to binary\n",
    "\n",
    "To do the translation we have to select an arbitrary value on which we can say any rating above that will be considered relevant. There are many methods on selecting that value but for now, we will select 3.5 as the threshold, which means any true rating above 3.5 will be considered relevant and below will be not relevant."
   ]
  },
  {
   "cell_type": "markdown",
   "metadata": {
    "id": "8jr_p608zNZf"
   },
   "source": [
    "Deciding 'k'\n",
    "\n",
    "In recommendation systems, we are interested in showing the top N items to users and so the best way is to compute precision and recall on top N values instead of calculating on all the items."
   ]
  },
  {
   "cell_type": "markdown",
   "metadata": {
    "id": "E7ERZCx6zNZh"
   },
   "source": [
    "Definition of Relevant and Recommended\n",
    "Relevant: True Rating > = 3.5\n",
    "\n",
    "Irrelevant: True Rating < 3.5\n",
    "\n",
    "Recommended item: Predicted Rating > = 3.5\n",
    "\n",
    "Not Recommended item: Predicted Rating > = 3.5"
   ]
  },
  {
   "cell_type": "markdown",
   "metadata": {
    "id": "YvXjroJqzNZi"
   },
   "source": [
    "Definition of Precision and Recall\n",
    "Precision: It tries to answer \"What proportion of positive identifications was actually correct?\" i.e True positive / (True positive+False Positive) in RecSys we can say (number of recommended items at k that are relevant) / (number of recommended items at k)\n",
    "\n",
    "Recall: It tries to answer \"What proportion of actual positives were identified correctly?\" i.e True positive / (True Positive+False Negative) in RecSys we can say (# of recommended items @k that are relevant) / (# of relevant items @k)"
   ]
  },
  {
   "cell_type": "markdown",
   "metadata": {
    "id": "XLQLD9u4zNZk"
   },
   "source": [
    "While recall expresses the ability to find all relevant instances in a dataset, precision expresses the proportion of the data points our model says was relevant actually were relevant."
   ]
  },
  {
   "cell_type": "markdown",
   "metadata": {
    "id": "zD_RSX06zNZm"
   },
   "source": [
    "In some circumstances, we might know that we need to maximize either recall or precision at the cost of the other metric. For example, in disease screening of patients, we would probably want a recall near 1.0 i.e. we want to find all patients who have the disease.\n",
    "\n",
    "However, in cases where we want to obtain an optimal blend of precision and recall, we can use F1 score which is the harmonic mean of precision and recall taking both metrics into account while calculating it.\n",
    "\n",
    "f1 score = 2 * (precision * recall) / (precision + recall)"
   ]
  },
  {
   "cell_type": "markdown",
   "metadata": {
    "id": "c5IbRJ3gzNZn"
   },
   "source": [
    "The below function computes precision and recall and F1 socre as explained above."
   ]
  },
  {
   "cell_type": "code",
   "execution_count": null,
   "metadata": {
    "id": "GFGhyV9OzNZo",
    "outputId": "d5a8a681-4774-4d25-ef17-c03f73c60e6d"
   },
   "outputs": [],
   "source": [
    "#Calculate TP,FP,TN,FN at every threshold level (0.0 - 5.0)\n",
    "final = []\n",
    "\n",
    "for threshold in np.arange(0, 5.5, 0.5):\n",
    "    tp=0\n",
    "    fn=0\n",
    "    fp=0\n",
    "    tn=0\n",
    "    temp = []\n",
    "\n",
    "    for uid, _, true_r, est, _ in predictions:\n",
    "        if(true_r>=threshold):\n",
    "            if(est>=threshold):\n",
    "                tp = tp+1\n",
    "            else:\n",
    "                fn = fn+1\n",
    "        else:\n",
    "            if(est>=threshold):\n",
    "                fp = fp+1\n",
    "            else:\n",
    "                tn = tn+1   \n",
    "\n",
    "        if tp == 0:\n",
    "            precision = 0\n",
    "            recall = 0\n",
    "            f1 = 0\n",
    "        else:\n",
    "            precision = tp / (tp + fp)\n",
    "            recall = tp / (tp + fn)\n",
    "            f1 = 2 * (precision * recall) / (precision + recall)  \n",
    "\n",
    "    temp = [threshold, tp,fp,tn ,fn, precision, recall, f1]\n",
    "    final.append(temp)\n",
    "\n",
    "results = pd.DataFrame(final)\n",
    "results.rename(columns={0:'threshold', 1:'tp', 2: 'fp', 3: 'tn', 4:'fn', 5: 'Precision', 6:'Recall', 7:'F1'}, inplace=True)\n",
    "results"
   ]
  },
  {
   "cell_type": "markdown",
   "metadata": {
    "id": "EIrRALn-zNZu"
   },
   "source": [
    "As per the results above, the optimal value for threshold is 2.5.\n",
    "\n",
    "The next step is to find the optimal K value, and to find if we have to first calculate precision and recall for all the K values(2-10) having threshold value 2.5.\n",
    "\n",
    "Below is the function to calculate precision and recall at K."
   ]
  },
  {
   "cell_type": "code",
   "execution_count": null,
   "metadata": {
    "id": "r0wacnznzNZw"
   },
   "outputs": [],
   "source": [
    "def precision_recall_at_k(predictions, k, threshold):\n",
    "    '''Return precision and recall at k metrics for each user.'''\n",
    "\n",
    "    # First map the predictions to each user.\n",
    "    user_est_true = defaultdict(list)\n",
    "    for uid, _, true_r, est, _ in predictions:\n",
    "        user_est_true[uid].append((est, true_r))\n",
    "\n",
    "    precisions = dict()\n",
    "    recalls = dict()\n",
    "    for uid, user_ratings in user_est_true.items():\n",
    "\n",
    "        # Sort user ratings by estimated value\n",
    "        user_ratings.sort(key=lambda x: x[0], reverse=True)\n",
    "\n",
    "        # Number of relevant items\n",
    "        n_rel = sum((true_r >= threshold) for (_, true_r) in user_ratings)\n",
    "\n",
    "        # Number of recommended items in top k\n",
    "        n_rec_k = sum((est >= threshold) for (est, _) in user_ratings[:k])\n",
    "\n",
    "        # Number of relevant and recommended items in top k\n",
    "        n_rel_and_rec_k = sum(((true_r >= threshold) and (est >= threshold))\n",
    "                              for (est, true_r) in user_ratings[:k])\n",
    "\n",
    "        # Precision@K: Proportion of recommended items that are relevant\n",
    "        precisions[uid] = n_rel_and_rec_k / n_rec_k if n_rec_k != 0 else 1\n",
    "\n",
    "        # Recall@K: Proportion of relevant items that are recommended\n",
    "        recalls[uid] = n_rel_and_rec_k / n_rel if n_rel != 0 else 1\n",
    "\n",
    "    #tp = n_rel_and_rec_k\n",
    "    #fn =  n_rel - tp\n",
    "    #fp = n_rec_k - tp\n",
    "    return precisions, recalls\n",
    "    "
   ]
  },
  {
   "cell_type": "code",
   "execution_count": null,
   "metadata": {
    "id": "8hD7jGUPzNZ0",
    "outputId": "6ea10467-42f5-4ae0-bf03-984cf3480c2a"
   },
   "outputs": [],
   "source": [
    "results=[]\n",
    "for i in range(2, 11):\n",
    "    precisions, recalls = precision_recall_at_k(predictions, k=i, threshold=2.5)\n",
    "\n",
    "    # Precision and recall can then be averaged over all users\n",
    "    prec = sum(prec for prec in precisions.values()) / len(precisions)\n",
    "    rec = sum(rec for rec in recalls.values()) / len(recalls)\n",
    "    results.append({'K': i, 'Precision': prec, 'Recall': rec})\n",
    "    \n",
    "\n",
    "results\n"
   ]
  },
  {
   "cell_type": "code",
   "execution_count": null,
   "metadata": {
    "id": "06oLGgEQzNZ4",
    "outputId": "52df5794-8e41-427d-f1bd-dd9088b88736"
   },
   "outputs": [],
   "source": [
    "Rec = []\n",
    "Precision = []\n",
    "Recall = []\n",
    "for i in range(0, 9):\n",
    "    Rec.append(results[i]['K'])\n",
    "    Precision.append(results[i]['Precision'])\n",
    "    Recall.append(results[i]['Recall'])\n",
    "\n",
    "plt.plot(Rec, Precision)\n",
    "plt.xlabel('# of Recommendations')\n",
    "plt.ylabel('Precision')\n",
    "plt2 = plt.twinx()\n",
    "plt2.plot(Rec, Recall, 'r')\n",
    "plt.ylabel('Recall')\n",
    "\n",
    "for tl in plt2.get_yticklabels():\n",
    "    tl.set_color('r')\n"
   ]
  },
  {
   "cell_type": "markdown",
   "metadata": {
    "id": "gm2wHW8YzNZ9"
   },
   "source": [
    "As the graph states, Precision drops significantly when K=4\n",
    "\n",
    "So we will consider the value of K to be 4."
   ]
  },
  {
   "cell_type": "markdown",
   "metadata": {
    "id": "xw23eYWPzNZ-"
   },
   "source": [
    " #  Testing Model's Recommendation Ability"
   ]
  },
  {
   "cell_type": "markdown",
   "metadata": {
    "id": "0uU3cAtJzNZ_"
   },
   "source": [
    "As we know the optimal number of recommendations to provide, it's time to give recommendations to users. To do so we have to predict ratings for the movies which user have not yet watched."
   ]
  },
  {
   "cell_type": "markdown",
   "metadata": {
    "id": "55_KYU_4zNaA"
   },
   "source": [
    "Here we will be using build_anti_testset() method to get the data for testset as we have to predict ratings for the (user, item) pairs which are not present."
   ]
  },
  {
   "cell_type": "code",
   "execution_count": null,
   "metadata": {
    "id": "zQTlWhudzNaC"
   },
   "outputs": [],
   "source": [
    "# trainset = data.build_full_trainset()   #Build on entire data set\n",
    "# algo = SVD(n_epochs=10, lr_all=0.005, reg_all=0.4)\n",
    "# algo.fit(trainset)\n",
    "\n",
    "# # Predict ratings for all pairs (u, i) that are NOT in the training set.\n",
    "# testset = trainset.build_anti_testset()\n",
    "\n",
    "# #Predicting the ratings for testset\n",
    "# predictions = algo.test(testset)"
   ]
  },
  {
   "cell_type": "code",
   "execution_count": null,
   "metadata": {
    "id": "ic_g24YzzNaG"
   },
   "outputs": [],
   "source": [
    "def get_all_predictions(predictions):\n",
    "    \n",
    "    # First map the predictions to each user.\n",
    "    top_n = defaultdict(list)    \n",
    "    for uid, iid, true_r, est, _ in predictions:\n",
    "        top_n[uid].append((iid, est))\n",
    "\n",
    "    # Then sort the predictions for each user\n",
    "    for uid, user_ratings in top_n.items():\n",
    "        user_ratings.sort(key=lambda x: x[1], reverse=True)\n",
    "\n",
    "    return top_n\n",
    "    "
   ]
  },
  {
   "cell_type": "code",
   "execution_count": null,
   "metadata": {
    "id": "OOCoCqFszNaN"
   },
   "outputs": [],
   "source": [
    "all_pred = get_all_predictions(predictions)\n"
   ]
  },
  {
   "cell_type": "markdown",
   "metadata": {
    "id": "WoLU5WDGzNaW"
   },
   "source": [
    "As we have all the predicted rating, we'll subset to only top K movies for every user, where K is 4"
   ]
  },
  {
   "cell_type": "code",
   "execution_count": null,
   "metadata": {
    "id": "g8J083adzNaX"
   },
   "outputs": [],
   "source": [
    "#To get top 4 recommendation\n",
    "n = 4\n",
    "\n",
    "for uid, user_ratings in all_pred.items():\n",
    "    user_ratings.sort(key=lambda x: x[1], reverse=True)\n",
    "    all_pred[uid] = user_ratings[:n]\n",
    "    "
   ]
  },
  {
   "cell_type": "code",
   "execution_count": null,
   "metadata": {
    "id": "KXSi38E5zNaf"
   },
   "outputs": [],
   "source": [
    "tmp2 = pd.DataFrame(dict([ (k,pd.Series(v)) for k,v in all_pred.items() ]))\n",
    "tmp2\n",
    "tmp_transpose = tmp2.transpose()\n"
   ]
  },
  {
   "cell_type": "code",
   "execution_count": null,
   "metadata": {
    "id": "KFUausRXzNaj",
    "outputId": "63ca4222-ced5-4c84-ca0c-727c6a9eff10"
   },
   "outputs": [],
   "source": [
    "tmp_transpose\n"
   ]
  },
  {
   "cell_type": "markdown",
   "metadata": {
    "id": "af9kJbx_zNao"
   },
   "source": [
    "Now we have a dataframe which consits of top 4 movies recommended to every user.\n",
    "Let's try one example and find recommendations for user 67.\n",
    "\n",
    "Also in our streamlit app."
   ]
  },
  {
   "cell_type": "code",
   "execution_count": null,
   "metadata": {
    "id": "DhQXQC0uzNap"
   },
   "outputs": [],
   "source": [
    "def get_predictions(user_id):\n",
    "    results = tmp_transpose.loc[user_id]\n",
    "    return results\n",
    "    "
   ]
  },
  {
   "cell_type": "code",
   "execution_count": null,
   "metadata": {
    "id": "FwksLDfAzNat",
    "outputId": "4801d593-a569-4c92-ede5-14d3e421a541"
   },
   "outputs": [],
   "source": [
    "user_id = 67\n",
    "results = get_predictions(user_id)\n",
    "results\n"
   ]
  },
  {
   "cell_type": "markdown",
   "metadata": {
    "id": "btNjVdgHzNax"
   },
   "source": [
    "Above matrix is showing top \"4\" recommendations for user 67. (Movie-id, Predicted-Rating).\n",
    "But we just need the movies not the ratings, so let's extract the movie id's from the result."
   ]
  },
  {
   "cell_type": "code",
   "execution_count": null,
   "metadata": {
    "id": "ZkrQts7YzNay",
    "outputId": "49772bb7-37e1-4c6c-f073-7429ecc1b456"
   },
   "outputs": [],
   "source": [
    "recommended_movie_ids = []\n",
    "for x in range(0, n):\n",
    "    recommended_movie_ids.append(results[x][0])\n",
    "\n",
    "recommended_movie_ids\n"
   ]
  },
  {
   "cell_type": "markdown",
   "metadata": {
    "id": "HjB2C1S_zNa5"
   },
   "source": [
    "Now as we have the movie-id's to be recommended, Let's find out the movie details of those id's by reading the movie data."
   ]
  },
  {
   "cell_type": "code",
   "execution_count": null,
   "metadata": {
    "id": "VCR-CStwzNa6",
    "outputId": "5780ff53-2102-4321-be02-ced8e2b49379"
   },
   "outputs": [],
   "source": [
    "movies = pd.read_csv('movies.csv')\n",
    "movies.head()\n",
    "recommended_movies = movies[movies['movieId'].isin(recommended_movie_ids)]\n",
    "recommended_movies\n"
   ]
  },
  {
   "cell_type": "code",
   "execution_count": null,
   "metadata": {
    "id": "-nMnqVdxzNbB",
    "outputId": "beff3a93-269f-47a5-c350-1da4b4c490d3"
   },
   "outputs": [],
   "source": [
    "ratings_dict = {'itemId': list(train.movieId),\n",
    "                'userId': list(train.userId),\n",
    "                'rating': list(train.rating)}\n",
    "\n",
    "df = pd.DataFrame(ratings_dict)\n",
    "df.head()\n"
   ]
  },
  {
   "cell_type": "code",
   "execution_count": null,
   "metadata": {
    "id": "aM0a6aJ6zNbL",
    "outputId": "7860b6ea-6e99-46e7-df32-66dc5561fba9"
   },
   "outputs": [],
   "source": [
    "temp = df[df['userId'] == 67].sort_values(\"rating\", ascending = False)\n",
    "temp.head()\n"
   ]
  },
  {
   "cell_type": "code",
   "execution_count": null,
   "metadata": {
    "id": "x_LjTifSzNbO",
    "outputId": "a3ef509b-2b83-479d-9192-10a430312631"
   },
   "outputs": [],
   "source": [
    "temp.shape\n"
   ]
  },
  {
   "cell_type": "markdown",
   "metadata": {
    "id": "pbPTpI0WzNbT"
   },
   "source": [
    "We can see that user 67 have rated 49 movies"
   ]
  },
  {
   "cell_type": "code",
   "execution_count": null,
   "metadata": {
    "id": "WeaAye2WzNbT"
   },
   "outputs": [],
   "source": [
    "history_movie_ids = temp['itemId']\n",
    "user_history = movies[movies['movieId'].isin(history_movie_ids)]\n"
   ]
  },
  {
   "cell_type": "code",
   "execution_count": null,
   "metadata": {
    "id": "OSHNL7TBzNbX",
    "outputId": "94d2f768-c700-4e1f-c608-b1f436024bba"
   },
   "outputs": [],
   "source": [
    "user_history[:n]\n"
   ]
  },
  {
   "cell_type": "markdown",
   "metadata": {
    "id": "w6A_guk5zNba"
   },
   "source": [
    "Now we can compare the results with the user history and see how relevant the recommendations are.\n",
    "\n",
    "\n",
    "Above is the user history and below the recommended movies"
   ]
  },
  {
   "cell_type": "code",
   "execution_count": null,
   "metadata": {
    "id": "CsvtRxCqzNbb",
    "outputId": "6b584673-63aa-429a-9625-bb7fda7e8614"
   },
   "outputs": [],
   "source": [
    "recommended_movies\n"
   ]
  },
  {
   "cell_type": "markdown",
   "metadata": {
    "id": "-z7xLI-GzNbe"
   },
   "source": [
    "The history of the user tells that they enjoy movies in the Adventure, Children,Animation, Drama, Comedy, Action and War genres. Our model recommends movies in the same genres, this gives us a good indication that our model has very good predictive/recommendation ability."
   ]
  },
  {
   "cell_type": "markdown",
   "metadata": {
    "id": "IhfmzFB5zNbf"
   },
   "source": [
    "# Appendix A"
   ]
  },
  {
   "cell_type": "markdown",
   "metadata": {
    "id": "3hNNKTj_zNbf"
   },
   "source": [
    "This section contains things that might have not worked, our previous models and some testing we did. Feel free to have a look at everything we attempted. \n"
   ]
  },
  {
   "cell_type": "code",
   "execution_count": null,
   "metadata": {
    "id": "iP8ew6_BF7Pv"
   },
   "outputs": [],
   "source": [
    "from surprise.model_selection import GridSearchCV\n",
    "param_grid = {'n_epochs': [5, 10],\n",
    "              'lr_all': [0.002, 0.005],\n",
    "              'reg_all': [0.4, 0.6]}\n",
    "gs = GridSearchCV(SVD, param_grid, measures=['rmse', 'mae'], cv=3)\n",
    "gs.fit(data)\n",
    "\n",
    "# best RMSE score\n",
    "print(gs.best_score['rmse'])\n",
    "\n",
    "# combination of parameters that gave the best RMSE score\n",
    "print(gs.best_params['rmse'])\n"
   ]
  },
  {
   "cell_type": "code",
   "execution_count": null,
   "metadata": {
    "id": "nZhlvHoT8A0S",
    "outputId": "209162c7-f592-4473-ecc9-7779a66e396f"
   },
   "outputs": [],
   "source": [
    "from surprise.model_selection import train_test_split\n",
    "\n",
    "# Setting the data variable and using the Reader() object.\n",
    "data = Dataset.load_from_df(train[['userId', 'movieId', 'rating']], reader=reader)\n",
    "\n",
    "# sample random trainset and testset\n",
    "# test set is made of 25% of the ratings.\n",
    "trainset, testset = train_test_split(data, test_size=.25)\n",
    "\n",
    "# We'll use the famous SVD algorithm.\n",
    "algo = SVD(n_epochs=10, lr_all=0.005, reg_all=0.4)\n",
    "\n",
    "# Train the algorithm on the trainset, and predict ratings for the testset\n",
    "algo.fit(trainset)\n",
    "predictions = algo.test(testset)\n",
    "\n",
    "# Then compute RMSE\n",
    "accuracy.rmse(predictions)"
   ]
  },
  {
   "cell_type": "code",
   "execution_count": null,
   "metadata": {
    "id": "AbfFsEcqIulQ",
    "outputId": "9ec8fc12-e0fc-49f2-d56b-731bee661686"
   },
   "outputs": [],
   "source": [
    "# Using algorithm with best 'rmse'\n",
    "algo = gs.best_estimator['rmse']\n",
    "\n",
    "# Fitting it to our full trainset\n",
    "algo.fit(data.build_full_trainset())"
   ]
  },
  {
   "cell_type": "code",
   "execution_count": null,
   "metadata": {
    "id": "2b5Lruq-9gNQ"
   },
   "outputs": [],
   "source": [
    "ratings = []\n",
    "for _, row in test.iterrows():\n",
    "    ratings.append(algo.predict(row.userId, row.movieId).est)\n",
    "\n",
    "ratings"
   ]
  },
  {
   "cell_type": "code",
   "execution_count": null,
   "metadata": {
    "id": "1vot8YY7LOQk",
    "outputId": "43a37f9c-b9a7-4892-8192-ad967f193b2b"
   },
   "outputs": [],
   "source": [
    "results_df = pd.DataFrame.from_dict(gs.cv_results)\n",
    "results_df"
   ]
  },
  {
   "cell_type": "markdown",
   "metadata": {
    "id": "D35SH_2PurW-"
   },
   "source": [
    "Looking at the other data:"
   ]
  },
  {
   "cell_type": "code",
   "execution_count": null,
   "metadata": {
    "id": "oB8jn_v5uahf"
   },
   "outputs": [],
   "source": [
    "movies = pd.read_csv('movies.csv')\n",
    "genome_scores = pd.read_csv('genome_scores.csv')\n",
    "genome_tags = pd.read_csv('genome_tags.csv')\n",
    "imdb_data = pd.read_csv('imdb_data.csv')\n",
    "tags = pd.read_csv('tags.csv')\n",
    "links = pd.read_csv('links.csv')\n",
    "sample = pd.read_csv('sample_submission.csv')\n"
   ]
  },
  {
   "cell_type": "markdown",
   "metadata": {
    "id": "6olVv7-gU4X7"
   },
   "source": [
    "# Conclusion"
   ]
  },
  {
   "cell_type": "markdown",
   "metadata": {
    "id": "B3TWwZQ9U830"
   },
   "source": [
    "In our experiemnt we have made use of the Singular Value Decomposition (SVD) to minimise RMSE (Root Mean Square Error) and give great recommendations.\n",
    "\n",
    "\n",
    "The performance of the model was rated based on the RMSE and the lower the RMSE, the better. We have managed to successfully optain an RMSE lower than 0.85.\n",
    "\n",
    "As we assessed the overall performance of the model based on other non-statistical aspects we can conclude that the model has a high predictive ability as it recommends movies of similar genres to users.\n",
    "\n",
    "This has an immense economic potential for the service providers and provides a pleasant experience to the consumers of the content."
   ]
  }
 ],
 "metadata": {
  "kernelspec": {
   "display_name": "Python 3",
   "language": "python",
   "name": "python3"
  },
  "language_info": {
   "codemirror_mode": {
    "name": "ipython",
    "version": 3
   },
   "file_extension": ".py",
   "mimetype": "text/x-python",
   "name": "python",
   "nbconvert_exporter": "python",
   "pygments_lexer": "ipython3",
   "version": "3.7.6"
  }
 },
 "nbformat": 4,
 "nbformat_minor": 4
}
