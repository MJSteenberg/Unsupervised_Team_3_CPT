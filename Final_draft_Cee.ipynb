{
  "nbformat": 4,
  "nbformat_minor": 0,
  "metadata": {
    "colab": {
      "name": "Unsupervised_Predict.ipynb",
      "provenance": [],
      "collapsed_sections": []
    },
    "kernelspec": {
      "display_name": "Python 3",
      "language": "python",
      "name": "python3"
    },
    "language_info": {
      "codemirror_mode": {
        "name": "ipython",
        "version": 3
      },
      "file_extension": ".py",
      "mimetype": "text/x-python",
      "name": "python",
      "nbconvert_exporter": "python",
      "pygments_lexer": "ipython3",
      "version": "3.7.6"
    }
  },
  "cells": [
    {
      "cell_type": "markdown",
      "metadata": {
        "id": "Sx0gpIuazNU8",
        "colab_type": "text"
      },
      "source": [
        "# Movie Recommendation Challenge: Team_3_CPT"
      ]
    },
    {
      "cell_type": "markdown",
      "metadata": {
        "id": "adckiCS-zNU-",
        "colab_type": "text"
      },
      "source": [
        "# Introduction"
      ]
    },
    {
      "cell_type": "markdown",
      "metadata": {
        "colab_type": "text",
        "id": "amjCVgDAqpnj"
      },
      "source": [
        "**Problem** : Predicting how a user will rate a movie they have not yet viewed based on their historical preferences."
      ]
    },
    {
      "cell_type": "markdown",
      "metadata": {
        "id": "1E3S80u1zNVG",
        "colab_type": "text"
      },
      "source": [
        "In today’s technology driven world, recommender systems are socially and economically critical for ensuring that individuals can make appropriate choices surrounding the content they engage with on a daily basis. One application where this is especially true surrounds movie content recommendations; where intelligent algorithms can help viewers find great titles from tens of thousands of options.\n",
        "\n",
        "Providing an accurate and robust solution to this challenge has immense economic potential, with users of the system being exposed to content they would like to view or purchase - generating revenue and platform affinity."
      ]
    },
    {
      "cell_type": "markdown",
      "metadata": {
        "colab_type": "text",
        "id": "jOFmI_FopXxu"
      },
      "source": [
        "# Imports"
      ]
    },
    {
      "cell_type": "code",
      "metadata": {
        "colab_type": "code",
        "id": "4RuGkbsXpGZ7",
        "colab": {}
      },
      "source": [
        "#Importing the required packages\n",
        "%matplotlib inline\n",
        "import pandas as pd\n",
        "import numpy as np\n",
        "import matplotlib.pyplot as plt\n",
        "import seaborn as sns\n",
        "from scipy import stats\n",
        "from ast import literal_eval\n",
        "from sklearn.feature_extraction.text import TfidfVectorizer, CountVectorizer\n",
        "from sklearn.metrics.pairwise import linear_kernel, cosine_similarity\n",
        "from nltk.stem.snowball import SnowballStemmer\n",
        "from nltk.stem.wordnet import WordNetLemmatizer\n",
        "from nltk.corpus import wordnet\n",
        "import warnings; warnings.simplefilter('ignore')\n",
        "from collections import defaultdict\n",
        "from wordcloud import WordCloud"
      ],
      "execution_count": null,
      "outputs": []
    },
    {
      "cell_type": "markdown",
      "metadata": {
        "id": "-3X8NnIuzNVR",
        "colab_type": "text"
      },
      "source": [
        "# The Data"
      ]
    },
    {
      "cell_type": "markdown",
      "metadata": {
        "colab_type": "text",
        "id": "0WmAn7uaouZG"
      },
      "source": [
        "In this section we will be diving deep into the data and what it offers.\n",
        "We will be doing through analysis and grabbing insights.\n",
        "\n",
        "We will start by:\n",
        "* Loading the data\n",
        "* Viewing the data\n",
        "* Checking for nan values\n",
        "* Checking the shapes\n",
        "* Adding visual comparisons"
      ]
    },
    {
      "cell_type": "code",
      "metadata": {
        "colab_type": "code",
        "id": "T0tmkXHgmQoj",
        "colab": {
          "base_uri": "https://localhost:8080/",
          "height": 204
        },
        "outputId": "0199c3b1-3f90-4f98-9cc9-e92ffac31231"
      },
      "source": [
        "# Loading the data\n",
        "train = pd.read_csv('train.csv')\n",
        "test = pd.read_csv('test.csv')\n",
        "movies = pd.read_csv('movies.csv')\n",
        "imdb = pd.read_csv('imdb_data.csv')\n",
        "# Viewing the data\n",
        "train.head()\n"
      ],
      "execution_count": null,
      "outputs": [
        {
          "output_type": "execute_result",
          "data": {
            "text/html": [
              "<div>\n",
              "<style scoped>\n",
              "    .dataframe tbody tr th:only-of-type {\n",
              "        vertical-align: middle;\n",
              "    }\n",
              "\n",
              "    .dataframe tbody tr th {\n",
              "        vertical-align: top;\n",
              "    }\n",
              "\n",
              "    .dataframe thead th {\n",
              "        text-align: right;\n",
              "    }\n",
              "</style>\n",
              "<table border=\"1\" class=\"dataframe\">\n",
              "  <thead>\n",
              "    <tr style=\"text-align: right;\">\n",
              "      <th></th>\n",
              "      <th>userId</th>\n",
              "      <th>movieId</th>\n",
              "      <th>rating</th>\n",
              "      <th>timestamp</th>\n",
              "    </tr>\n",
              "  </thead>\n",
              "  <tbody>\n",
              "    <tr>\n",
              "      <th>0</th>\n",
              "      <td>5163</td>\n",
              "      <td>57669</td>\n",
              "      <td>4.0</td>\n",
              "      <td>1518349992</td>\n",
              "    </tr>\n",
              "    <tr>\n",
              "      <th>1</th>\n",
              "      <td>106343</td>\n",
              "      <td>5</td>\n",
              "      <td>4.5</td>\n",
              "      <td>1206238739</td>\n",
              "    </tr>\n",
              "    <tr>\n",
              "      <th>2</th>\n",
              "      <td>146790</td>\n",
              "      <td>5459</td>\n",
              "      <td>5.0</td>\n",
              "      <td>1076215539</td>\n",
              "    </tr>\n",
              "    <tr>\n",
              "      <th>3</th>\n",
              "      <td>106362</td>\n",
              "      <td>32296</td>\n",
              "      <td>2.0</td>\n",
              "      <td>1423042565</td>\n",
              "    </tr>\n",
              "    <tr>\n",
              "      <th>4</th>\n",
              "      <td>9041</td>\n",
              "      <td>366</td>\n",
              "      <td>3.0</td>\n",
              "      <td>833375837</td>\n",
              "    </tr>\n",
              "  </tbody>\n",
              "</table>\n",
              "</div>"
            ],
            "text/plain": [
              "   userId  movieId  rating   timestamp\n",
              "0    5163    57669     4.0  1518349992\n",
              "1  106343        5     4.5  1206238739\n",
              "2  146790     5459     5.0  1076215539\n",
              "3  106362    32296     2.0  1423042565\n",
              "4    9041      366     3.0   833375837"
            ]
          },
          "metadata": {
            "tags": []
          },
          "execution_count": 5
        }
      ]
    },
    {
      "cell_type": "code",
      "metadata": {
        "colab_type": "code",
        "id": "0u0Q6Dqluf2Q",
        "colab": {}
      },
      "source": [
        "# Checking the shape\n",
        "train.shape\n"
      ],
      "execution_count": null,
      "outputs": []
    },
    {
      "cell_type": "code",
      "metadata": {
        "colab_type": "code",
        "id": "Glron82LqIuC",
        "colab": {
          "base_uri": "https://localhost:8080/",
          "height": 102
        },
        "outputId": "4952a2a2-dd7d-4fee-efad-056409ceeb3f"
      },
      "source": [
        "# Looking for nan values\n",
        "train.isna().sum()\n"
      ],
      "execution_count": null,
      "outputs": [
        {
          "output_type": "execute_result",
          "data": {
            "text/plain": [
              "userId       0\n",
              "movieId      0\n",
              "rating       0\n",
              "timestamp    0\n",
              "dtype: int64"
            ]
          },
          "metadata": {
            "tags": []
          },
          "execution_count": 4
        }
      ]
    },
    {
      "cell_type": "code",
      "metadata": {
        "id": "evh7ahxozNVp",
        "colab_type": "code",
        "colab": {},
        "outputId": "d1cefe5d-3555-414b-febb-a21def4f6505"
      },
      "source": [
        "# Checking the shape\n",
        "test.shape\n"
      ],
      "execution_count": null,
      "outputs": [
        {
          "output_type": "execute_result",
          "data": {
            "text/plain": [
              "(5000019, 2)"
            ]
          },
          "metadata": {
            "tags": []
          },
          "execution_count": 5
        }
      ]
    },
    {
      "cell_type": "code",
      "metadata": {
        "id": "xlDQigDczNVw",
        "colab_type": "code",
        "colab": {},
        "outputId": "90bd1a69-244b-4166-908f-06e298caab52"
      },
      "source": [
        "# Looking for nan values\n",
        "test.isna().sum()\n"
      ],
      "execution_count": null,
      "outputs": [
        {
          "output_type": "execute_result",
          "data": {
            "text/plain": [
              "userId     0\n",
              "movieId    0\n",
              "dtype: int64"
            ]
          },
          "metadata": {
            "tags": []
          },
          "execution_count": 6
        }
      ]
    },
    {
      "cell_type": "markdown",
      "metadata": {
        "id": "33qr6K1fE64Y",
        "colab_type": "text"
      },
      "source": [
        "Conclusion: both the train and test datasets contain no null values."
      ]
    },
    {
      "cell_type": "code",
      "metadata": {
        "id": "CTyk29BfzNV9",
        "colab_type": "code",
        "colab": {}
      },
      "source": [
        "# Function for changing the labels.\n",
        "def changingLabels(number):\n",
        "    return str(number/10**6) + \"M\"\n",
        "    "
      ],
      "execution_count": null,
      "outputs": []
    },
    {
      "cell_type": "code",
      "metadata": {
        "id": "NewmynsmzNWC",
        "colab_type": "code",
        "colab": {},
        "outputId": "d1e53250-1c3f-4fb5-fa2a-518e333ccc79"
      },
      "source": [
        "# Plotting a bar graph to visualise distribution of ratings in the train data\n",
        "plt.figure(figsize=(12, 8))\n",
        "ax = sns.countplot(x=\"rating\", data=train)\n",
        "ax.set_yticklabels([changingLabels(num) for num in ax.get_yticks()])\n",
        "plt.tick_params(labelsize=15)\n",
        "plt.title(\"Distribution of Ratings in Train data\", fontsize=20)\n",
        "plt.xlabel(\"Rating\", fontsize=20)\n",
        "plt.ylabel(\"Number of Ratings (Millions)\", fontsize=20)\n",
        "plt.show()\n"
      ],
      "execution_count": null,
      "outputs": [
        {
          "output_type": "display_data",
          "data": {
            "image/png": "[encoded data removed]",
            "text/plain": [
              "<Figure size 864x576 with 1 Axes>"
            ]
          },
          "metadata": {
            "tags": [],
            "needs_background": "light"
          }
        }
      ]
    },
    {
      "cell_type": "markdown",
      "metadata": {
        "id": "OyHIbmUxzNWK",
        "colab_type": "text"
      },
      "source": [
        "We can clearly see that Ratings equal to 4.0 are most common.\n",
        "\n",
        "We believe that the reasons for this might be because it is likely that people who truely enjoyed a specific movie will never be 100% satisfied with the movie. Giving a 5.0 rating would indicate a truly perfect movie from the watchers perspective, which is very rare. The closest best thing to 5.0 without seeming bias is 4.0, therefore 4.0 ratings are most common."
      ]
    },
    {
      "cell_type": "code",
      "metadata": {
        "id": "eBmqvIS_zNWL",
        "colab_type": "code",
        "colab": {}
      },
      "source": [
        "no_of_ratings_per_movie = train.groupby(by=\"movieId\")[\"rating\"].count().sort_values(ascending=False)\n"
      ],
      "execution_count": null,
      "outputs": []
    },
    {
      "cell_type": "code",
      "metadata": {
        "id": "nwQMm2_izNWT",
        "colab_type": "code",
        "colab": {},
        "outputId": "ba8388af-d3b2-4d91-f8e2-83803538ccce"
      },
      "source": [
        "fig = plt.figure(figsize=(12, 6))\n",
        "axes = fig.add_axes([0.1, 0.1, 1, 1])\n",
        "plt.title(\"Number of Ratings Per Movie\", fontsize=20)\n",
        "plt.xlabel(\"Movie\", fontsize=20)\n",
        "plt.ylabel(\"Count of Ratings\", fontsize=20)\n",
        "plt.plot(no_of_ratings_per_movie.values)\n",
        "plt.tick_params(labelsize=5)\n",
        "axes.set_xticklabels([])\n",
        "plt.show()\n"
      ],
      "execution_count": null,
      "outputs": [
        {
          "output_type": "display_data",
          "data": {
            "image/png": "[encoded data removed]",
            "text/plain": [
              "<Figure size 864x432 with 1 Axes>"
            ]
          },
          "metadata": {
            "tags": [],
            "needs_background": "light"
          }
        }
      ]
    },
    {
      "cell_type": "markdown",
      "metadata": {
        "id": "34Ztyq_wzNWc",
        "colab_type": "text"
      },
      "source": [
        "The above line graph shows that there are some movies that receive many ratings and some movies that receive very little votes.\n",
        "\n",
        "We believe the reason for this can be the fact that some mainstream movies are way more popular and therefore receive a lot of attention compared to the other movies. "
      ]
    },
    {
      "cell_type": "code",
      "metadata": {
        "id": "7pEqN5WGzNWd",
        "colab_type": "code",
        "colab": {},
        "outputId": "71df4fe1-868d-4d14-d9f5-a2472df16926"
      },
      "source": [
        "no_of_rated_movies_per_user = train.groupby(by=\"userId\")[\"rating\"].count().sort_values(ascending=False)\n",
        "no_of_rated_movies_per_user.head(10)\n"
      ],
      "execution_count": null,
      "outputs": [
        {
          "output_type": "execute_result",
          "data": {
            "text/plain": [
              "userId\n",
              "72315     12952\n",
              "80974      3680\n",
              "137293     3588\n",
              "33844      3208\n",
              "20055      3050\n",
              "109731     2671\n",
              "49403      2670\n",
              "92046      2579\n",
              "110971     2288\n",
              "30879      2284\n",
              "Name: rating, dtype: int64"
            ]
          },
          "metadata": {
            "tags": []
          },
          "execution_count": 16
        }
      ]
    },
    {
      "cell_type": "code",
      "metadata": {
        "id": "JcKcYY5DzNWj",
        "colab_type": "code",
        "colab": {},
        "outputId": "fdbc9084-a8c4-448b-cc20-b3e9b4212857"
      },
      "source": [
        "fig, axes = plt.subplots(nrows=1, ncols=2, figsize=(14, 7))\n",
        "\n",
        "sns.kdeplot(no_of_rated_movies_per_user.values, shade=True, ax=axes[0])\n",
        "axes[0].set_title(\"PDF\", fontsize=18)\n",
        "axes[0].set_xlabel(\"Number of Ratings by user\", fontsize=18)\n",
        "axes[0].tick_params(labelsize=15)\n",
        "\n",
        "sns.kdeplot(no_of_rated_movies_per_user.values, shade=True, cumulative=True, ax=axes[1])\n",
        "axes[1].set_title(\"CDF\", fontsize=18)\n",
        "axes[1].set_xlabel(\"Number of Ratings by user\", fontsize=18)\n",
        "axes[1].tick_params(labelsize=15)\n",
        "\n",
        "fig.subplots_adjust(wspace=2)\n",
        "plt.tight_layout()\n",
        "plt.show()\n"
      ],
      "execution_count": null,
      "outputs": [
        {
          "output_type": "display_data",
          "data": {
            "image/png": "[encoded data removed]",
            "text/plain": [
              "<Figure size 1008x504 with 2 Axes>"
            ]
          },
          "metadata": {
            "tags": [],
            "needs_background": "light"
          }
        }
      ]
    },
    {
      "cell_type": "code",
      "metadata": {
        "id": "XLxgKxrczNWo",
        "colab_type": "code",
        "colab": {}
      },
      "source": [
        "quantiles = no_of_rated_movies_per_user.quantile(np.arange(0, 1.01, 0.01))\n"
      ],
      "execution_count": null,
      "outputs": []
    },
    {
      "cell_type": "code",
      "metadata": {
        "id": "XFMgw806zNWv",
        "colab_type": "code",
        "colab": {},
        "outputId": "3b324600-cebb-4d02-e71e-c9efc4957536"
      },
      "source": [
        "fig = plt.figure(figsize=(10, 6))\n",
        "\n",
        "axes = fig.add_axes([0.1, 0.1, 1, 1])\n",
        "axes.set_title(\"Quantile values of Ratings Per User\", fontsize=20)\n",
        "axes.set_xlabel(\"Quantiles\", fontsize=20)\n",
        "axes.set_ylabel(\"Ratings Per User\", fontsize=20)\n",
        "axes.plot(quantiles)\n",
        "\n",
        "plt.scatter(x=quantiles.index[::5], y=quantiles.values[::5], c=\"blue\", s=70, label=\"quantiles with 0.05 intervals\")\n",
        "plt.scatter(x=quantiles.index[::25], y=quantiles.values[::25], c=\"red\", s=70, label=\"quantiles with 0.25 intervals\")\n",
        "plt.legend(loc='upper left', fontsize=20)\n",
        "\n",
        "for x, y in zip(quantiles.index[::25], quantiles.values[::25]):\n",
        "    plt.annotate(s='({},{})'.format(x, y), xy=(x, y), fontweight='bold', fontsize=16, xytext=(x-0.05, y+180))\n",
        "    \n",
        "axes.tick_params(labelsize=15)\n"
      ],
      "execution_count": null,
      "outputs": [
        {
          "output_type": "display_data",
          "data": {
            "image/png": "[encoded data removed]",
            "text/plain": [
              "<Figure size 720x432 with 1 Axes>"
            ]
          },
          "metadata": {
            "tags": [],
            "needs_background": "light"
          }
        }
      ]
    },
    {
      "cell_type": "markdown",
      "metadata": {
        "id": "LLjI-Fd2zNW0",
        "colab_type": "text"
      },
      "source": [
        "**Finding the most popular genre:**\n",
        "\n",
        "We began by creating a list of all the genres."
      ]
    },
    {
      "cell_type": "code",
      "metadata": {
        "id": "FVttKImGzNW1",
        "colab_type": "code",
        "colab": {},
        "outputId": "d13a02ad-a6ce-41a8-81bc-e50fbb507bec"
      },
      "source": [
        "temp = \"\"\n",
        "for i in movies.genres:\n",
        "    temp = temp+'|'+i\n",
        "\n",
        "genres_list = list(set(temp.split('|')))\n",
        "del genres_list[0]  # Data Cleaning\n",
        "genres_list\n"
      ],
      "execution_count": null,
      "outputs": [
        {
          "output_type": "execute_result",
          "data": {
            "text/plain": [
              "['Fantasy',\n",
              " 'Thriller',\n",
              " 'War',\n",
              " 'Romance',\n",
              " 'Adventure',\n",
              " 'Film-Noir',\n",
              " 'Sci-Fi',\n",
              " 'Mystery',\n",
              " 'Documentary',\n",
              " '(no genres listed)',\n",
              " 'Western',\n",
              " 'Animation',\n",
              " 'Comedy',\n",
              " 'Action',\n",
              " 'Horror',\n",
              " 'IMAX',\n",
              " 'Children',\n",
              " 'Drama',\n",
              " 'Crime',\n",
              " 'Musical']"
            ]
          },
          "metadata": {
            "tags": []
          },
          "execution_count": 20
        }
      ]
    },
    {
      "cell_type": "markdown",
      "metadata": {
        "id": "nQc7z9qjzNXI",
        "colab_type": "text"
      },
      "source": [
        "Word cloud based on number of movies for each genre.\n",
        "Here we can see that, adventure, drama, comedy, animation and action are the most popular genres."
      ]
    },
    {
      "cell_type": "code",
      "metadata": {
        "id": "mPUV1tZ4zNXJ",
        "colab_type": "code",
        "colab": {},
        "outputId": "ba4c0f6f-e09f-4ec8-da9a-b81a0bd8a799"
      },
      "source": [
        "dict_freq = {}\n",
        "for i in movies.genres:\n",
        "    dict_freq[i] = len(genres_list)\n",
        "wordcloud = WordCloud()\n",
        "wordcloud.generate_from_frequencies(frequencies=dict_freq)\n",
        "plt.figure(figsize=(12, 25))\n",
        "plt.imshow(wordcloud, interpolation=\"bilinear\")\n",
        "plt.axis('off')\n",
        "plt.show()\n"
      ],
      "execution_count": null,
      "outputs": [
        {
          "output_type": "display_data",
          "data": {
            "image/png": "[encoded data removed]",
            "text/plain": [
              "<Figure size 864x1800 with 1 Axes>"
            ]
          },
          "metadata": {
            "tags": [],
            "needs_background": "light"
          }
        }
      ]
    },
    {
      "cell_type": "code",
      "metadata": {
        "id": "Z6ASPgXLzNXR",
        "colab_type": "code",
        "colab": {},
        "outputId": "47f61af8-aabf-494b-f82a-8a014243b7b0"
      },
      "source": [
        "imd_movies = movies.merge(imdb, on='movieId')\n",
        "imd_movies.head()\n"
      ],
      "execution_count": null,
      "outputs": [
        {
          "output_type": "execute_result",
          "data": {
            "text/html": [
              "<div>\n",
              "<style scoped>\n",
              "    .dataframe tbody tr th:only-of-type {\n",
              "        vertical-align: middle;\n",
              "    }\n",
              "\n",
              "    .dataframe tbody tr th {\n",
              "        vertical-align: top;\n",
              "    }\n",
              "\n",
              "    .dataframe thead th {\n",
              "        text-align: right;\n",
              "    }\n",
              "</style>\n",
              "<table border=\"1\" class=\"dataframe\">\n",
              "  <thead>\n",
              "    <tr style=\"text-align: right;\">\n",
              "      <th></th>\n",
              "      <th>movieId</th>\n",
              "      <th>title</th>\n",
              "      <th>genres</th>\n",
              "      <th>title_cast</th>\n",
              "      <th>director</th>\n",
              "      <th>runtime</th>\n",
              "      <th>budget</th>\n",
              "      <th>plot_keywords</th>\n",
              "    </tr>\n",
              "  </thead>\n",
              "  <tbody>\n",
              "    <tr>\n",
              "      <th>0</th>\n",
              "      <td>1</td>\n",
              "      <td>Toy Story (1995)</td>\n",
              "      <td>Adventure|Animation|Children|Comedy|Fantasy</td>\n",
              "      <td>Tom Hanks|Tim Allen|Don Rickles|Jim Varney|Wal...</td>\n",
              "      <td>John Lasseter</td>\n",
              "      <td>81.0</td>\n",
              "      <td>$30,000,000</td>\n",
              "      <td>toy|rivalry|cowboy|cgi animation</td>\n",
              "    </tr>\n",
              "    <tr>\n",
              "      <th>1</th>\n",
              "      <td>2</td>\n",
              "      <td>Jumanji (1995)</td>\n",
              "      <td>Adventure|Children|Fantasy</td>\n",
              "      <td>Robin Williams|Jonathan Hyde|Kirsten Dunst|Bra...</td>\n",
              "      <td>Jonathan Hensleigh</td>\n",
              "      <td>104.0</td>\n",
              "      <td>$65,000,000</td>\n",
              "      <td>board game|adventurer|fight|game</td>\n",
              "    </tr>\n",
              "    <tr>\n",
              "      <th>2</th>\n",
              "      <td>3</td>\n",
              "      <td>Grumpier Old Men (1995)</td>\n",
              "      <td>Comedy|Romance</td>\n",
              "      <td>Walter Matthau|Jack Lemmon|Sophia Loren|Ann-Ma...</td>\n",
              "      <td>Mark Steven Johnson</td>\n",
              "      <td>101.0</td>\n",
              "      <td>$25,000,000</td>\n",
              "      <td>boat|lake|neighbor|rivalry</td>\n",
              "    </tr>\n",
              "    <tr>\n",
              "      <th>3</th>\n",
              "      <td>4</td>\n",
              "      <td>Waiting to Exhale (1995)</td>\n",
              "      <td>Comedy|Drama|Romance</td>\n",
              "      <td>Whitney Houston|Angela Bassett|Loretta Devine|...</td>\n",
              "      <td>Terry McMillan</td>\n",
              "      <td>124.0</td>\n",
              "      <td>$16,000,000</td>\n",
              "      <td>black american|husband wife relationship|betra...</td>\n",
              "    </tr>\n",
              "    <tr>\n",
              "      <th>4</th>\n",
              "      <td>5</td>\n",
              "      <td>Father of the Bride Part II (1995)</td>\n",
              "      <td>Comedy</td>\n",
              "      <td>Steve Martin|Diane Keaton|Martin Short|Kimberl...</td>\n",
              "      <td>Albert Hackett</td>\n",
              "      <td>106.0</td>\n",
              "      <td>$30,000,000</td>\n",
              "      <td>fatherhood|doberman|dog|mansion</td>\n",
              "    </tr>\n",
              "  </tbody>\n",
              "</table>\n",
              "</div>"
            ],
            "text/plain": [
              "   movieId                               title  \\\n",
              "0        1                    Toy Story (1995)   \n",
              "1        2                      Jumanji (1995)   \n",
              "2        3             Grumpier Old Men (1995)   \n",
              "3        4            Waiting to Exhale (1995)   \n",
              "4        5  Father of the Bride Part II (1995)   \n",
              "\n",
              "                                        genres  \\\n",
              "0  Adventure|Animation|Children|Comedy|Fantasy   \n",
              "1                   Adventure|Children|Fantasy   \n",
              "2                               Comedy|Romance   \n",
              "3                         Comedy|Drama|Romance   \n",
              "4                                       Comedy   \n",
              "\n",
              "                                          title_cast             director  \\\n",
              "0  Tom Hanks|Tim Allen|Don Rickles|Jim Varney|Wal...        John Lasseter   \n",
              "1  Robin Williams|Jonathan Hyde|Kirsten Dunst|Bra...   Jonathan Hensleigh   \n",
              "2  Walter Matthau|Jack Lemmon|Sophia Loren|Ann-Ma...  Mark Steven Johnson   \n",
              "3  Whitney Houston|Angela Bassett|Loretta Devine|...       Terry McMillan   \n",
              "4  Steve Martin|Diane Keaton|Martin Short|Kimberl...       Albert Hackett   \n",
              "\n",
              "   runtime       budget                                      plot_keywords  \n",
              "0     81.0  $30,000,000                   toy|rivalry|cowboy|cgi animation  \n",
              "1    104.0  $65,000,000                   board game|adventurer|fight|game  \n",
              "2    101.0  $25,000,000                         boat|lake|neighbor|rivalry  \n",
              "3    124.0  $16,000,000  black american|husband wife relationship|betra...  \n",
              "4    106.0  $30,000,000                    fatherhood|doberman|dog|mansion  "
            ]
          },
          "metadata": {
            "tags": []
          },
          "execution_count": 9
        }
      ]
    },
    {
      "cell_type": "markdown",
      "metadata": {
        "id": "rUxii1hsQMom",
        "colab_type": "text"
      },
      "source": [
        "The table above is merged data from two different tables and it summarises the data we have on movie titles, it gives insight into movie genres, cast, directors, budgets etc."
      ]
    },
    {
      "cell_type": "markdown",
      "metadata": {
        "id": "kgsDevf6zNXb",
        "colab_type": "text"
      },
      "source": [
        "# Collaborative Filtering"
      ]
    },
    {
      "cell_type": "markdown",
      "metadata": {
        "colab_type": "text",
        "id": "ntCzUDcx3K1Q"
      },
      "source": [
        "We will use a technique called collaborative filtering to make recommendations to movie watchers. Collaborative filtering is the most common technique used when it comes to building intelligent recommender systems that can learn to give better recommendations as more information about users is collected.\n",
        "\n",
        "We will not be implementing collaborative filtering from scratch. Instead, we will use the Surprise library that used extremely powerful algorithms like Singular Value Decomposition (SVD) to minimise RMSE (Root Mean Square Error) and give great recommendations.\n",
        "\n",
        "Most websites like Amazon, YouTube, and Netflix use collaborative filtering as a part of their sophisticated recommendation systems. We can use this technique to build recommenders that give suggestions to a user on the basis of the likes and dislikes of similar users."
      ]
    },
    {
      "cell_type": "code",
      "metadata": {
        "colab_type": "code",
        "id": "5u5JRc_j3sOp",
        "colab": {
          "base_uri": "https://localhost:8080/",
          "height": 255
        },
        "outputId": "7a6578cc-b098-4612-c209-5ac21053d15c"
      },
      "source": [
        "# Run if running from colab\n",
        "!pip install scikit-surprise"
      ],
      "execution_count": null,
      "outputs": [
        {
          "output_type": "stream",
          "text": [
            "Requirement already satisfied: scikit-surprise in /home/explore-student/anaconda3/lib/python3.7/site-packages (1.1.0)\r\n",
            "Requirement already satisfied: six>=1.10.0 in /home/explore-student/anaconda3/lib/python3.7/site-packages (from scikit-surprise) (1.14.0)\r\n",
            "Requirement already satisfied: scipy>=1.0.0 in /home/explore-student/anaconda3/lib/python3.7/site-packages (from scikit-surprise) (1.4.1)\r\n",
            "Requirement already satisfied: numpy>=1.11.2 in /home/explore-student/anaconda3/lib/python3.7/site-packages (from scikit-surprise) (1.18.1)\r\n",
            "Requirement already satisfied: joblib>=0.11 in /home/explore-student/anaconda3/lib/python3.7/site-packages (from scikit-surprise) (0.14.1)\r\n"
          ],
          "name": "stdout"
        }
      ]
    },
    {
      "cell_type": "code",
      "metadata": {
        "colab_type": "code",
        "id": "zhQSX36r3Hh2",
        "colab": {}
      },
      "source": [
        "# Importing the surprise packages we need\n",
        "from surprise.model_selection import KFold\n",
        "from surprise import NormalPredictor\n",
        "from surprise import SVD\n",
        "from surprise import Dataset\n",
        "from surprise import accuracy\n",
        "from surprise import Reader\n",
        "from surprise.model_selection import cross_validate\n",
        "reader = Reader(rating_scale=(1, 5))"
      ],
      "execution_count": null,
      "outputs": []
    },
    {
      "cell_type": "code",
      "metadata": {
        "colab_type": "code",
        "id": "vYcORx5i3HwD",
        "colab": {
          "base_uri": "https://localhost:8080/",
          "height": 85
        },
        "outputId": "c90183b8-2edd-4fdd-920d-7ed6487cf81d"
      },
      "source": [
        "data = Dataset.load_from_df(train[['userId', 'movieId', 'rating']], reader=reader)\n",
        "cross_validate(NormalPredictor(), data, cv=2)\n"
      ],
      "execution_count": null,
      "outputs": [
        {
          "output_type": "execute_result",
          "data": {
            "text/plain": [
              "{'test_rmse': array([1.44231188, 1.44291394]),\n",
              " 'test_mae': array([1.15032336, 1.15069725]),\n",
              " 'fit_time': (12.198026180267334, 19.09763526916504),\n",
              " 'test_time': (80.99892377853394, 69.83400535583496)}"
            ]
          },
          "metadata": {
            "tags": []
          },
          "execution_count": 31
        }
      ]
    },
    {
      "cell_type": "markdown",
      "metadata": {
        "id": "hg1TtqIhzNXz",
        "colab_type": "text"
      },
      "source": [
        "# Model Building"
      ]
    },
    {
      "cell_type": "markdown",
      "metadata": {
        "id": "2LKYX9vVzNX0",
        "colab_type": "text"
      },
      "source": [
        "We chose to use a **Single Value Decomposition (SVD)** algorithm:\n",
        "\n",
        "One way to handle the scalability and sparsity issue created by colaborative filtering is to leverage a latent factor model to capture the similarity between users and items. Essentially, we want to turn the recommendation problem into an optimization problem. We can view it as how good we are in predicting the rating for items given a user. One common metric is Root Mean Square Error (RMSE). The lower the RMSE, the better the performance.\n",
        "\n",
        "The latent factor you might be wondering is a broad idea which describes a property or concept that a user or an item has. SVD decreases the dimension of the utility matrix by extracting its latent factors. Essentially, we map each user and each item into a latent space with dimension r. Therefore, it helps us better understand the relationship between users and items as they become directly comparable. "
      ]
    },
    {
      "cell_type": "code",
      "metadata": {
        "colab_type": "code",
        "id": "HIv57T-L3H6k",
        "colab": {
          "base_uri": "https://localhost:8080/",
          "height": 51
        },
        "outputId": "c0c0bd32-fcab-42d9-ecb0-d916f1988055"
      },
      "source": [
        "kf = KFold(n_splits=3)\n",
        "algo = SVD()\n",
        "\n",
        "for trainset, testset in kf.split(data):\n",
        "\n",
        "    # train and test algorithm.\n",
        "    algo.fit(trainset)\n",
        "    predictions = algo.test(testset)\n",
        "\n",
        "    # Compute and print Root Mean Squared Error\n",
        "    accuracy.rmse(predictions, verbose=True)\n"
      ],
      "execution_count": null,
      "outputs": [
        {
          "output_type": "stream",
          "text": [
            "RMSE: 0.8462\n",
            "RMSE: 0.8448\n",
            "RMSE: 0.8461\n"
          ],
          "name": "stdout"
        }
      ]
    },
    {
      "cell_type": "markdown",
      "metadata": {
        "id": "fIjlPixjzNX7",
        "colab_type": "text"
      },
      "source": [
        "Fitting our algorithm on the whole dataset."
      ]
    },
    {
      "cell_type": "code",
      "metadata": {
        "id": "1IAf6Qs8zNX8",
        "colab_type": "code",
        "colab": {}
      },
      "source": [
        "# n_epochs=10, lr_all=0.005, reg_all=0.4"
      ],
      "execution_count": null,
      "outputs": []
    },
    {
      "cell_type": "code",
      "metadata": {
        "colab_type": "code",
        "id": "_7wStM2vA1L6",
        "colab": {},
        "outputId": "57d9cf6c-43aa-4040-9d92-15e636ed9ce9"
      },
      "source": [
        "algo.fit(data.build_full_trainset())"
      ],
      "execution_count": null,
      "outputs": [
        {
          "output_type": "execute_result",
          "data": {
            "text/plain": [
              "<surprise.prediction_algorithms.matrix_factorization.SVD at 0x7f1b61864b50>"
            ]
          },
          "metadata": {
            "tags": []
          },
          "execution_count": 33
        }
      ]
    },
    {
      "cell_type": "code",
      "metadata": {
        "colab_type": "code",
        "id": "D7bI9U5YA9-K",
        "colab": {},
        "outputId": "1201ca60-235c-4a16-9fab-81cfc91ec064"
      },
      "source": [
        "# This for loop generates a list containing all our predictions.\n",
        "ratings = []\n",
        "for _, row in test.iterrows():\n",
        "    ratings.append(algo.predict(row.userId, row.movieId).est)\n",
        "\n",
        "ratings\n"
      ],
      "execution_count": null,
      "outputs": [
        {
          "output_type": "execute_result",
          "data": {
            "text/plain": [
              "[3.3706148707804773,\n",
              " 4.091895812850327,\n",
              " 3.820082936308193,\n",
              " 3.9831860466863946,\n",
              " 2.44968050872426,\n",
              " 3.8797061813969838,\n",
              " 3.892173805715824,\n",
              " 3.5455918378887485,\n",
              " 3.6382614347199578,\n",
              " 3.746263642854632,\n",
              " 3.4136503323728675,\n",
              " 3.167403477366628,\n",
              " 3.8572113720042545,\n",
              " 4.652854335979527,\n",
              " 3.920466526081389,\n",
              " 3.99702005718648,\n",
              " 3.417476794270497,\n",
              " 3.229972194882529,\n",
              " 3.914479998682188,\n",
              " 3.6341083809133403,\n",
              " 4.070835681085253,\n",
              " 3.669843563942626,\n",
              " 3.2449195676233393,\n",
              " 3.0642037619452673,\n",
              " 3.3969672867290153,\n",
              " 3.3850446437634387,\n",
              " 4.04529893166699,\n",
              " 3.283878669486287,\n",
              " 3.2352472552611764,\n",
              " 3.5359865418873992,\n",
              " 4.09998947193307,\n",
              " 3.4311483311876847,\n",
              " 3.3633402253204436,\n",
              " 3.2393581388047785,\n",
              " 3.104130595431437,\n",
              " 3.0474165872945393,\n",
              " 3.376267640762961,\n",
              " 3.5592993183662327,\n",
              " 5,\n",
              " 3.4328622599073713,\n",
              " 4.244436904001442,\n",
              " 3.3389894424015973,\n",
              " 4.8000857291108545,\n",
              " 3.7187960120572,\n",
              " 4.3834217565107165,\n",
              " 3.5411800795783517,\n",
              " 4.007371172888837,\n",
              " 4.510701378252783,\n",
              " 3.898029952384657,\n",
              " 4.340298801093006,\n",
              " 4.1037949742885,\n",
              " 4.4951310991929425,\n",
              " 4.488193060396865,\n",
              " 4.289202058970267,\n",
              " 3.395727973398229,\n",
              " 3.470930765246171,\n",
              " 4.05129371467972,\n",
              " 3.658824725453279,\n",
              " 3.4656956552010056,\n",
              " 4.236658706137654,\n",
              " 2.8808594265973455,\n",
              " 3.415304952250211,\n",
              " 2.8261352999058107,\n",
              " 3.196355995285187,\n",
              " 3.6471214705566313,\n",
              " 3.7201774212388594,\n",
              " 3.409573122996655,\n",
              " 4.101091423075304,\n",
              " 3.557031128402489,\n",
              " 3.2127519416110903,\n",
              " 4.338703505797342,\n",
              " 3.025194878621572,\n",
              " 3.7322617890853103,\n",
              " 3.7515951344937757,\n",
              " 3.59176932960335,\n",
              " 3.66070536857025,\n",
              " 3.736698420599014,\n",
              " 4.529271928156859,\n",
              " 3.328713488612514,\n",
              " 3.2003734385627043,\n",
              " 3.4602214930493944,\n",
              " 4.262898228836489,\n",
              " 3.4651931259143334,\n",
              " 3.9954783927805253,\n",
              " 3.2178314197999924,\n",
              " 3.1925992541568724,\n",
              " 3.7045482330246315,\n",
              " 3.3180472763301134,\n",
              " 3.544351421610951,\n",
              " 3.8971038425815254,\n",
              " 3.3307614483532757,\n",
              " 4.268215868630348,\n",
              " 3.52171748879042,\n",
              " 3.991083256032199,\n",
              " 4.125629798851094,\n",
              " 4.011742558842579,\n",
              " 3.5538516387608077,\n",
              " 3.344707859674718,\n",
              " 3.7955340114161427,\n",
              " 3.69334665572592,\n",
              " 2.4118921919925858,\n",
              " 3.847795503325236,\n",
              " 3.4541483876077494,\n",
              " 4.008022484960516,\n",
              " 3.7548897953581637,\n",
              " 3.568255803163373,\n",
              " 3.1451341807962336,\n",
              " 3.489516324088899,\n",
              " 3.426452367366791,\n",
              " 3.4673753972472787,\n",
              " 3.665493258465022,\n",
              " 3.2003643243312307,\n",
              " 4.120901708173213,\n",
              " 4.4487679286524955,\n",
              " 3.9715179799385414,\n",
              " 4.067668184563591,\n",
              " 4.300949893049383,\n",
              " 3.936390106999099,\n",
              " 3.2680492583836425,\n",
              " 4.136321776657652,\n",
              " 3.009367975373162,\n",
              " 4.21252000053007,\n",
              " 3.924738077091641,\n",
              " 4.506820299324397,\n",
              " 4.034989851666811,\n",
              " 3.3756454282272723,\n",
              " 4.079611737151043,\n",
              " 3.407147429789059,\n",
              " 3.977250251033838,\n",
              " 3.5940379363065356,\n",
              " 3.213911684255939,\n",
              " 3.324099956655809,\n",
              " 3.995795928630074,\n",
              " 3.8618841399792916,\n",
              " 3.372417899736464,\n",
              " 3.7151612295705005,\n",
              " 3.3147339466946444,\n",
              " 3.693456739491121,\n",
              " 4.117601283003022,\n",
              " 3.608243666126879,\n",
              " 3.7610663462690885,\n",
              " 3.4186313824500982,\n",
              " 3.747807579974361,\n",
              " 3.966129588514732,\n",
              " 3.6304793302027396,\n",
              " 3.937871920810767,\n",
              " 2.61980522798183,\n",
              " 3.829519200873924,\n",
              " 3.4901082545230024,\n",
              " 3.5919490218745955,\n",
              " 3.1859407420072015,\n",
              " 4.050049475219695,\n",
              " 4.526272957204403,\n",
              " 4.107743165227536,\n",
              " 3.757308448464237,\n",
              " 3.573806368106217,\n",
              " 3.667923773758051,\n",
              " 4.303422037983751,\n",
              " 4.245930320186961,\n",
              " 3.526667553798633,\n",
              " 3.8036518772760552,\n",
              " 4.228967843428308,\n",
              " 4.390039748954472,\n",
              " 4.274513512201844,\n",
              " 4.08075310595177,\n",
              " 3.5752770935980784,\n",
              " 3.956535726100683,\n",
              " 3.6980350665822312,\n",
              " 3.822301023488042,\n",
              " 3.4983150220062105,\n",
              " 3.560819216137421,\n",
              " 2.7899471126314865,\n",
              " 3.8170228566695985,\n",
              " 3.7566324994131106,\n",
              " 3.0500673942437007,\n",
              " 3.7887510101945843,\n",
              " 3.8409934198720554,\n",
              " 3.762040651184487,\n",
              " 3.486036383188406,\n",
              " 3.5227333238633625,\n",
              " 4.041710394186849,\n",
              " 3.2268688640376237,\n",
              " 3.57492049528114,\n",
              " 2.8117434011275897,\n",
              " 2.9852995369828474,\n",
              " 1.353479651349856,\n",
              " 3.0388679750936975,\n",
              " 3.7185254156914676,\n",
              " 2.427749306981484,\n",
              " 3.20757771979858,\n",
              " 3.8227368849642005,\n",
              " 3.3703019129147895,\n",
              " 4.038903114092854,\n",
              " 3.345908417796699,\n",
              " 3.7214476644075054,\n",
              " 3.7793974095553304,\n",
              " 3.591868079445601,\n",
              " 3.582280849549463,\n",
              " 3.321560908468434,\n",
              " 3.7338708737655777,\n",
              " 2.395768359556577,\n",
              " 2.2701650785130085,\n",
              " 3.8917681776685273,\n",
              " 3.4978763639516166,\n",
              " 3.2065592835685757,\n",
              " 3.097123444058391,\n",
              " 3.6454022314951406,\n",
              " 3.0679219322024123,\n",
              " 3.681719930316507,\n",
              " 2.918265716493025,\n",
              " 4.09326758690426,\n",
              " 2.79015774677351,\n",
              " 4.322508512212679,\n",
              " 3.783657114412371,\n",
              " 4.686483953816311,\n",
              " 3.265752059741706,\n",
              " 3.8382231946032253,\n",
              " 3.1874995437924865,\n",
              " 3.866438410309699,\n",
              " 2.667664347630747,\n",
              " 3.0631567508432984,\n",
              " 3.67507966496338,\n",
              " 3.9997960345904247,\n",
              " 3.5624690364211444,\n",
              " 4.454061164985291,\n",
              " 2.625741415084704,\n",
              " 3.508218172048197,\n",
              " 2.5987588739051404,\n",
              " 4.154191710840499,\n",
              " 4.325558753045158,\n",
              " 3.5894400182080566,\n",
              " 4.879831465586168,\n",
              " 4.12833362344661,\n",
              " 3.476679844923974,\n",
              " 3.425480617647917,\n",
              " 4.759673537694599,\n",
              " 4.7294862190528315,\n",
              " 3.8374770875364392,\n",
              " 4.067042245336872,\n",
              " 4.48657568640445,\n",
              " 4.361216682423515,\n",
              " 4.238280904897058,\n",
              " 3.8584547111996006,\n",
              " 4.408145245129195,\n",
              " 4.62639950351842,\n",
              " 3.366220386087906,\n",
              " 3.2888767610397975,\n",
              " 4.186572982934036,\n",
              " 3.9367688703302366,\n",
              " 3.680599661838663,\n",
              " 3.9472049592770437,\n",
              " 3.1958178285020193,\n",
              " 3.9818153535159135,\n",
              " 4.078128557286917,\n",
              " 3.0621083192043685,\n",
              " 3.2145741568445776,\n",
              " 3.607708678880235,\n",
              " 4.275362947559119,\n",
              " 3.57975691512194,\n",
              " 3.364916888190687,\n",
              " 4.128381896496964,\n",
              " 3.894904078391207,\n",
              " 3.5223409389018543,\n",
              " 3.7489920347573356,\n",
              " 3.0349974774860176,\n",
              " 3.4796935540931138,\n",
              " 3.497996476431974,\n",
              " 3.805575776439383,\n",
              " 4.1309700966695075,\n",
              " 3.751630563158351,\n",
              " 3.528332692224797,\n",
              " 3.8409733125758074,\n",
              " 3.97983720116762,\n",
              " 3.7407419206470993,\n",
              " 3.932642575384163,\n",
              " 3.8165081139312154,\n",
              " 3.8540531265442963,\n",
              " 3.078818729843017,\n",
              " 3.8977463200302553,\n",
              " 3.681569656024064,\n",
              " 3.3120923673589653,\n",
              " 4.097091875599846,\n",
              " 4.070449922259306,\n",
              " 3.6007993699865186,\n",
              " 3.678697315851752,\n",
              " 4.344635070077995,\n",
              " 4.350334928942141,\n",
              " 3.2361052235585452,\n",
              " 4.400848923816223,\n",
              " 3.48543155625276,\n",
              " 4.005958132274033,\n",
              " 3.418669551234943,\n",
              " 3.1861040648390584,\n",
              " 4.340839726626077,\n",
              " 3.0846444550443346,\n",
              " 4.211356067707785,\n",
              " 3.8702115944542905,\n",
              " 3.932865899604684,\n",
              " 4.017556595472131,\n",
              " 3.5109578721151906,\n",
              " 4.119216663765233,\n",
              " 4.503542376385997,\n",
              " 4.065244909811072,\n",
              " 3.1694983904168965,\n",
              " 3.5962461394954257,\n",
              " 3.6571922923220583,\n",
              " 3.7637602335060008,\n",
              " 3.7671790475969402,\n",
              " 3.6613082031953956,\n",
              " 3.8016086457604557,\n",
              " 4.371330763354037,\n",
              " 3.562322264884145,\n",
              " 4.227870615998676,\n",
              " 4.024758958435925,\n",
              " 3.598809958727159,\n",
              " 3.434882081765724,\n",
              " 3.9913841359049798,\n",
              " 4.06112732097558,\n",
              " 4.024522594693119,\n",
              " 3.841112074773215,\n",
              " 3.7777042371557314,\n",
              " 3.642755317819085,\n",
              " 4.09316574479101,\n",
              " 3.316090849784925,\n",
              " 4.018505264170644,\n",
              " 4.341922541559784,\n",
              " 2.752670515195795,\n",
              " 4.111551477405352,\n",
              " 3.4800066478499674,\n",
              " 3.3854053822079755,\n",
              " 2.901478720940643,\n",
              " 3.264898955911287,\n",
              " 3.390301968898,\n",
              " 3.484611467121164,\n",
              " 3.68686994859449,\n",
              " 3.209495546657516,\n",
              " 3.404054064377429,\n",
              " 2.5225169470075333,\n",
              " 3.8480387459183083,\n",
              " 2.807175859756499,\n",
              " 4.039327103392174,\n",
              " 3.5396415418594795,\n",
              " 3.313503999298158,\n",
              " 3.961370007220901,\n",
              " 2.917506381008198,\n",
              " 3.033282730627306,\n",
              " 2.616636351520964,\n",
              " 3.060785022733717,\n",
              " 3.1090896869279883,\n",
              " 3.0512142505441866,\n",
              " 3.6702321016555093,\n",
              " 3.93393887224511,\n",
              " 4.426984683774012,\n",
              " 3.387312979047987,\n",
              " 1.7985937439261688,\n",
              " 3.0168987875236115,\n",
              " 2.6395817901440264,\n",
              " 2.6419532328840183,\n",
              " 2.9669310115344345,\n",
              " 3.0887991997498787,\n",
              " 3.949336197516715,\n",
              " 2.1724370743898214,\n",
              " 1.3858963572185865,\n",
              " 2.9126223266178224,\n",
              " 2.9453183199214603,\n",
              " 3.4987784986145747,\n",
              " 3.665888955778035,\n",
              " 3.6982870207561933,\n",
              " 2.322943469124715,\n",
              " 3.2594304010393276,\n",
              " 2.538483855568963,\n",
              " 4.274120210207966,\n",
              " 3.2412829853679197,\n",
              " 2.5218479514029744,\n",
              " 4.202019932102514,\n",
              " 2.5118650232440247,\n",
              " 4.6137781557288955,\n",
              " 3.4153463267774753,\n",
              " 3.0432435602256693,\n",
              " 2.741791539284608,\n",
              " 3.2918255792569333,\n",
              " 2.86515789833032,\n",
              " 4.459560194988182,\n",
              " 3.8467490393931434,\n",
              " 3.9377170740682033,\n",
              " 3.175574825045724,\n",
              " 3.8371391439491735,\n",
              " 4.370938260318152,\n",
              " 4.330596555313431,\n",
              " 3.8882333535030544,\n",
              " 3.9336056552137997,\n",
              " 3.956751585031718,\n",
              " 3.678932486845062,\n",
              " 4.23583222155447,\n",
              " 3.9557035245877405,\n",
              " 3.7323002733661843,\n",
              " 2.7452028412861744,\n",
              " 3.4958777589682595,\n",
              " 3.9881371315425556,\n",
              " 1.4287508755712157,\n",
              " 1.9877138678569495,\n",
              " 2.2471535143693284,\n",
              " 3.288930619404397,\n",
              " 1.7408664118449226,\n",
              " 2.353946825160425,\n",
              " 3.5929900160471604,\n",
              " 3.2031278068670597,\n",
              " 2.230950696122427,\n",
              " 3.9911837366600236,\n",
              " 3.8279183511214185,\n",
              " 2.1843183765825405,\n",
              " 3.290927709261624,\n",
              " 3.5140086345888917,\n",
              " 3.335892553755654,\n",
              " 3.8048879851298523,\n",
              " 3.9382799842954412,\n",
              " 2.3974451921351045,\n",
              " 1.2169156113652684,\n",
              " 3.4182201139314072,\n",
              " 3.1157628118511527,\n",
              " 3.062534796916764,\n",
              " 2.982915771171687,\n",
              " 2.3424463039632286,\n",
              " 4.012918800768129,\n",
              " 3.8662626692986395,\n",
              " 2.545825793465192,\n",
              " 4.043110104753384,\n",
              " 4.156073249269135,\n",
              " 2.379372906378322,\n",
              " 3.044667445077888,\n",
              " 3.4752093025040516,\n",
              " 3.2456176547465434,\n",
              " 3.4017410433858593,\n",
              " 4.019074592245233,\n",
              " 3.591133409775679,\n",
              " 3.505170708018525,\n",
              " 2.7749177123072246,\n",
              " 3.3754813491208755,\n",
              " 3.737044033643896,\n",
              " 2.3350143896730824,\n",
              " 2.845617889925786,\n",
              " 3.3600713180926176,\n",
              " 4.218620307088542,\n",
              " 3.07480281759319,\n",
              " 3.331651135991397,\n",
              " 3.6447190307028157,\n",
              " 2.8286734038201264,\n",
              " 3.4157939763304106,\n",
              " 3.440714624857064,\n",
              " 3.205012324884766,\n",
              " 3.337238678221873,\n",
              " 4.105643593156894,\n",
              " 3.3563592067869172,\n",
              " 3.8219440539003537,\n",
              " 2.7430259123725063,\n",
              " 2.6714946259736485,\n",
              " 1.6287589051478921,\n",
              " 3.8534318074669662,\n",
              " 2.9236886809325826,\n",
              " 3.476692690656464,\n",
              " 3.4596903662954883,\n",
              " 3.471909658088078,\n",
              " 2.245478030276849,\n",
              " 3.5792868823312576,\n",
              " 4.042864460938906,\n",
              " 3.7563095155739092,\n",
              " 2.2242057101422876,\n",
              " 2.725503562026067,\n",
              " 2.8181291339297214,\n",
              " 3.4317140514060425,\n",
              " 3.6064053576123474,\n",
              " 3.4338446820647253,\n",
              " 3.3145490550276038,\n",
              " 4.34386763963559,\n",
              " 3.030551169691861,\n",
              " 3.2863126232899886,\n",
              " 3.6800406484659294,\n",
              " 4.00489105289492,\n",
              " 3.5053658916565253,\n",
              " 2.851663887325521,\n",
              " 2.7416833010652426,\n",
              " 3.9690394790057626,\n",
              " 3.927536283707027,\n",
              " 3.5828563326540963,\n",
              " 3.7205705011387575,\n",
              " 3.226749497336396,\n",
              " 3.5844421250673197,\n",
              " 3.732559415465945,\n",
              " 3.8591896407567625,\n",
              " 3.5050385660608416,\n",
              " 3.211312248235735,\n",
              " 4.050725992275392,\n",
              " 3.6785694179894244,\n",
              " 3.2998186771598177,\n",
              " 3.412419747613146,\n",
              " 3.664165164702607,\n",
              " 4.003280394897263,\n",
              " 4.0080162453017385,\n",
              " 3.6787888840119822,\n",
              " 4.156470260379964,\n",
              " 2.601680539050783,\n",
              " 2.27958434483811,\n",
              " 3.311052682678012,\n",
              " 2.556949639205388,\n",
              " 3.903278348721261,\n",
              " 3.568655187726791,\n",
              " 2.4124380186150045,\n",
              " 4.158195043640297,\n",
              " 3.0129006321192064,\n",
              " 4.237869283323275,\n",
              " 4.4121593236600525,\n",
              " 3.84894974824382,\n",
              " 4.388123926684945,\n",
              " 4.908702863541399,\n",
              " 4.523606726786782,\n",
              " 4.551867002859095,\n",
              " 4.11802651121238,\n",
              " 3.814740948885354,\n",
              " 2.9539682852064746,\n",
              " 3.9578929560849905,\n",
              " 3.7796557687228116,\n",
              " 3.2558622528946954,\n",
              " 3.0584001545772486,\n",
              " 4.248273842737942,\n",
              " 3.2024557983620734,\n",
              " 3.8446946898205283,\n",
              " 4.406479432319167,\n",
              " 4.48404975720487,\n",
              " 3.942858741998853,\n",
              " 3.112153807258095,\n",
              " 4.224431111933867,\n",
              " 4.23401314797171,\n",
              " 3.2289551696465346,\n",
              " 4.425809104629973,\n",
              " 2.9700196762715074,\n",
              " 2.6938753740769616,\n",
              " 3.368332061929794,\n",
              " 3.3165573514884663,\n",
              " 3.970064597307162,\n",
              " 4.073491131320283,\n",
              " 2.122172290478493,\n",
              " 3.954786703639549,\n",
              " 2.760535034448212,\n",
              " 3.623148714946637,\n",
              " 3.5919119160521737,\n",
              " 4.443461251886141,\n",
              " 3.662155597038275,\n",
              " 4.383266854977169,\n",
              " 2.1615245614339402,\n",
              " 3.647253853551812,\n",
              " 3.001087312462503,\n",
              " 3.8925385681108025,\n",
              " 1.6552139049307977,\n",
              " 1.9940418108326017,\n",
              " 3.432429287329473,\n",
              " 3.8216576862348797,\n",
              " 2.1874323679051426,\n",
              " 3.235895949808307,\n",
              " 4.410319524975114,\n",
              " 3.462846080066032,\n",
              " 4.622591512133521,\n",
              " 4.601193447931801,\n",
              " 3.642245493191679,\n",
              " 3.620330885848192,\n",
              " 3.789677391688078,\n",
              " 3.292721500061683,\n",
              " 3.6367630045910277,\n",
              " 4.0757663222376985,\n",
              " 3.6508848474888587,\n",
              " 3.8324716135214643,\n",
              " 1.5728279886132928,\n",
              " 3.912334975377603,\n",
              " 3.5996998085476,\n",
              " 3.7138165050309064,\n",
              " 4.061833421405501,\n",
              " 4.1147373317573654,\n",
              " 2.8713087817023983,\n",
              " 4.380614981081926,\n",
              " 2.701705128942975,\n",
              " 2.686784167967562,\n",
              " 3.78833599925293,\n",
              " 3.1947950622381396,\n",
              " 2.8973192972370447,\n",
              " 2.8149481900662687,\n",
              " 3.927684915581489,\n",
              " 2.035637898383311,\n",
              " 3.03375612449904,\n",
              " 2.6593463216597115,\n",
              " 2.8462248844474844,\n",
              " 1.5084078451218799,\n",
              " 3.600623976808265,\n",
              " 3.7739589625030994,\n",
              " 3.490856835755285,\n",
              " 2.710571190201844,\n",
              " 4.425940071421103,\n",
              " 4.2322385187605525,\n",
              " 3.9956624526728004,\n",
              " 4.621502658973979,\n",
              " 4.733156420269696,\n",
              " 4.049227782368975,\n",
              " 4.674797194386075,\n",
              " 3.8918448069467106,\n",
              " 3.9599824497136105,\n",
              " 4.4956830313367675,\n",
              " 4.385093096035505,\n",
              " 4.001575773704706,\n",
              " 3.649473870614418,\n",
              " 3.192346174005661,\n",
              " 3.6634313145020103,\n",
              " 4.402043909481158,\n",
              " 3.947395809183047,\n",
              " 3.6864873140472616,\n",
              " 4.475981508028747,\n",
              " 4.1046822799833125,\n",
              " 4.13179044701558,\n",
              " 4.520244956496731,\n",
              " 4.2940787404979215,\n",
              " 4.3732252600498995,\n",
              " 4.415760620792414,\n",
              " 4.099929598308398,\n",
              " 4.01783611828359,\n",
              " 3.460813328909835,\n",
              " 3.865543256493608,\n",
              " 3.22072877498494,\n",
              " 3.8416969547697852,\n",
              " 3.078295038413564,\n",
              " 3.2347389140880365,\n",
              " 2.3328174721800385,\n",
              " 3.6616290221252203,\n",
              " 2.462447863185016,\n",
              " 3.1150117012670995,\n",
              " 2.5502224238176874,\n",
              " 4.082058746470141,\n",
              " 3.051572188880331,\n",
              " 2.9328802743544897,\n",
              " 3.3497443045790467,\n",
              " 2.731837765192426,\n",
              " 3.219725371435301,\n",
              " 2.918704186288464,\n",
              " 2.728962444464342,\n",
              " 3.1223329825890955,\n",
              " 3.0149868666250255,\n",
              " 2.735821081906811,\n",
              " 2.47936300212191,\n",
              " 2.832758413532136,\n",
              " 2.9721873822573865,\n",
              " 2.8458891649824754,\n",
              " 3.347415595200667,\n",
              " 3.1295662992290727,\n",
              " 3.2598986758683317,\n",
              " 3.533726609827206,\n",
              " 3.3736440454576067,\n",
              " 3.23689278526397,\n",
              " 3.1618745217055966,\n",
              " 2.5948771507502535,\n",
              " 3.8665368149449897,\n",
              " 2.784981435707353,\n",
              " 4.238509803127269,\n",
              " 2.2594612278898847,\n",
              " 3.2621921026554688,\n",
              " 2.6116350354000875,\n",
              " 2.9182298099295645,\n",
              " 3.1719577189167882,\n",
              " 4.009560854119207,\n",
              " 2.9555285371724374,\n",
              " 3.6510941464547413,\n",
              " 3.2577603180839394,\n",
              " 3.391534910344192,\n",
              " 2.9306914324588336,\n",
              " 3.122594976278975,\n",
              " 3.424272159687564,\n",
              " 3.198937971845602,\n",
              " 3.0331604019714944,\n",
              " 3.0416422442694984,\n",
              " 4.501518625940621,\n",
              " 5,\n",
              " 3.9579635256512278,\n",
              " 2.7494341243095293,\n",
              " 3.031309623468794,\n",
              " 4.305602230852031,\n",
              " 4.596546412270473,\n",
              " 4.699420975981306,\n",
              " 3.6304665316344744,\n",
              " 3.6608574582636235,\n",
              " 3.7940775996841345,\n",
              " 3.417220543357904,\n",
              " 2.5178850266029267,\n",
              " 4.284531076636426,\n",
              " 3.7511957241997127,\n",
              " 2.561580539130551,\n",
              " 3.177142615619428,\n",
              " 4.385844974298672,\n",
              " 4.624394626439443,\n",
              " 4.720758045707925,\n",
              " 4.505599978547169,\n",
              " 2.200683052640416,\n",
              " 3.313706000553707,\n",
              " 2.8854800822248823,\n",
              " 3.932546651166977,\n",
              " 2.8516007086025175,\n",
              " 1.8982082820540191,\n",
              " 2.341243922552003,\n",
              " 3.0668851358715306,\n",
              " 1.9697746681493649,\n",
              " 4.48020182647836,\n",
              " 3.445164441215917,\n",
              " 4.544225347908155,\n",
              " 2.834031230617381,\n",
              " 3.6065599230240513,\n",
              " 4.2761871995646334,\n",
              " 3.030820576914691,\n",
              " 4.167578401759377,\n",
              " 4.105880530219445,\n",
              " 3.0610618642734684,\n",
              " 3.2557431003929396,\n",
              " 2.63705098519243,\n",
              " 3.6892375400285045,\n",
              " 3.9831255021296568,\n",
              " 3.4030583949731166,\n",
              " 3.7316431362211318,\n",
              " 3.7981374120533746,\n",
              " 4.1751180350067605,\n",
              " 4.167956246170893,\n",
              " 4.3069475352203925,\n",
              " 3.367683145270576,\n",
              " 3.7131354177057565,\n",
              " 2.847699523394656,\n",
              " 2.3555662992361914,\n",
              " 3.869182859851428,\n",
              " 3.394219268940274,\n",
              " 2.798711196408651,\n",
              " 3.6415706086149555,\n",
              " 3.8799083964311305,\n",
              " 3.4009235742358923,\n",
              " 3.555140348829346,\n",
              " 3.4484161358355556,\n",
              " 4.368449764188771,\n",
              " 3.3335499880009434,\n",
              " 3.961029357393498,\n",
              " 2.548826973719793,\n",
              " 4.041275727032567,\n",
              " 2.9715573925292853,\n",
              " 3.667062593218548,\n",
              " 4.183298930087623,\n",
              " 3.1916939109485303,\n",
              " 3.424091695920421,\n",
              " 4.045747692051995,\n",
              " 3.1103243729583583,\n",
              " 3.8496351702716822,\n",
              " 3.7719705622026307,\n",
              " 3.456990251817631,\n",
              " 3.695918120153051,\n",
              " 3.1926976624064984,\n",
              " 4.202412437033438,\n",
              " 3.39175977375213,\n",
              " 3.1044785419138936,\n",
              " 3.5350714618154697,\n",
              " 2.8081104789246156,\n",
              " 4.468378914098944,\n",
              " 4.52478162534097,\n",
              " 3.4952843579980906,\n",
              " 3.175093797605968,\n",
              " 3.752075113188339,\n",
              " 3.34163935527236,\n",
              " 3.5426818406540774,\n",
              " 3.825309096621397,\n",
              " 3.3785231869482937,\n",
              " 3.3215818238790713,\n",
              " 3.432340950633199,\n",
              " 3.4304279336683745,\n",
              " 3.7274026629670485,\n",
              " 4.5321695927107015,\n",
              " 4.110372767216362,\n",
              " 4.741775977754053,\n",
              " 4.74541593499376,\n",
              " 2.4864108247046537,\n",
              " 3.785570293479081,\n",
              " 4.419306386325312,\n",
              " 4.040567844548665,\n",
              " 4.3811144430229705,\n",
              " 3.6541030775182834,\n",
              " 4.316015050597023,\n",
              " 4.09360871160127,\n",
              " 3.7662143084856288,\n",
              " 4.465139967377765,\n",
              " 4.043909615662101,\n",
              " 4.124207701523746,\n",
              " 4.386211588850532,\n",
              " 4.107787994544949,\n",
              " 4.0446476826374465,\n",
              " 4.485405105131671,\n",
              " 4.566788531634517,\n",
              " 4.43616427781861,\n",
              " 4.68437651275536,\n",
              " 4.701082109867355,\n",
              " 4.751824231347863,\n",
              " 4.219517555199121,\n",
              " 4.331773673220237,\n",
              " 4.693677045319639,\n",
              " 4.372804145586416,\n",
              " 4.426815042819985,\n",
              " 3.856094239885961,\n",
              " 4.643046718652986,\n",
              " 4.601416646731679,\n",
              " 3.7819078517818165,\n",
              " 4.500023970118364,\n",
              " 3.8791574232200823,\n",
              " 5,\n",
              " 4.006374754247736,\n",
              " 3.9038601786382348,\n",
              " 3.4865325529363194,\n",
              " 4.833737740043841,\n",
              " 4.348342784714457,\n",
              " 3.281656902908142,\n",
              " 4.4600891819719815,\n",
              " 3.8045418618354705,\n",
              " 4.908260512597899,\n",
              " 3.321673979247715,\n",
              " 4.082508009767503,\n",
              " 3.7778194958678104,\n",
              " 4.59293355496167,\n",
              " 3.88874405839519,\n",
              " 3.0719952575466407,\n",
              " 4.480392515001294,\n",
              " 3.791475501202232,\n",
              " 4.080211560236175,\n",
              " 4.464577562642332,\n",
              " 4.0490695997742225,\n",
              " 3.9864641272798154,\n",
              " 3.9155617744816764,\n",
              " 5,\n",
              " 4.0925773421414915,\n",
              " 3.883376190418499,\n",
              " 4.335627761492028,\n",
              " 4.492973202011565,\n",
              " 4.682902537400185,\n",
              " 4.052226230593116,\n",
              " 4.874113116883174,\n",
              " 4.492063740321919,\n",
              " 4.487185019682188,\n",
              " 4.786665583279437,\n",
              " 4.48134327473566,\n",
              " 4.35376740835763,\n",
              " 4.562235320323042,\n",
              " 4.302582207507851,\n",
              " 3.962295481425166,\n",
              " 4.923618115037348,\n",
              " 3.5221655369002,\n",
              " 4.263892998667373,\n",
              " 4.3038544473140465,\n",
              " 3.3929627194388945,\n",
              " 4.417720287151758,\n",
              " 4.461400522651565,\n",
              " 4.496015418773953,\n",
              " 4.446376301471908,\n",
              " 4.067503614430924,\n",
              " 3.9200329843758404,\n",
              " 4.027165572815563,\n",
              " 4.661500925451454,\n",
              " 5,\n",
              " 3.9381146774310953,\n",
              " 4.709669449918381,\n",
              " 4.057018200425107,\n",
              " 3.8694595158512435,\n",
              " 3.934786598322675,\n",
              " 3.3811156992756923,\n",
              " 3.4910783392146536,\n",
              " 3.8921681718328656,\n",
              " 4.238440618277902,\n",
              " 3.33073631648418,\n",
              " 3.380994939998625,\n",
              " 3.605041017316795,\n",
              " 3.511775798942873,\n",
              " 4.442558540861751,\n",
              " 4.44509709790016,\n",
              " 4.402781874334337,\n",
              " 3.931172951502716,\n",
              " 4.222700226247217,\n",
              " 3.490472103414503,\n",
              " 4.0964059662471675,\n",
              " 4.0138988332809955,\n",
              " 4.417433402259103,\n",
              " 4.203273636304849,\n",
              " 4.144542904806263,\n",
              " 4.360608133544425,\n",
              " 4.115900289949646,\n",
              " 3.967023111487964,\n",
              " 4.004927137963858,\n",
              " 3.3861675488453766,\n",
              " 3.8549252362385764,\n",
              " 3.201062328231579,\n",
              " 4.555617508812658,\n",
              " 3.3933012460364376,\n",
              " 3.478492119346119,\n",
              " 3.8803485246475136,\n",
              " 3.9474639001828544,\n",
              " 3.92538498594268,\n",
              " 3.3080914317480206,\n",
              " 4.182733314429208,\n",
              " 4.034481343642514,\n",
              " 3.7383120044854543,\n",
              " 3.5993983095003643,\n",
              " 2.834521666601253,\n",
              " 3.387215288813089,\n",
              " 2.729527883503908,\n",
              " 3.930452953310216,\n",
              " 3.6532689166829404,\n",
              " 3.600701306443993,\n",
              " 2.6941957905717415,\n",
              " 3.6574190829135396,\n",
              " 3.8177876399722876,\n",
              " 2.2410271373468036,\n",
              " 3.4682302092499055,\n",
              " 3.5603316885955842,\n",
              " 4.118264801345834,\n",
              " 4.244851855333072,\n",
              " 3.9263667785078615,\n",
              " 3.5002340988332836,\n",
              " 4.043708176347355,\n",
              " 3.542316449081546,\n",
              " 4.1921221074353925,\n",
              " 4.3763842108438045,\n",
              " 4.056349048308383,\n",
              " 3.582569904367535,\n",
              " 4.245061623992992,\n",
              " 4.24608526518507,\n",
              " 3.9328898582014165,\n",
              " 4.45632975389805,\n",
              " 3.9046760461474044,\n",
              " 4.45384847130595,\n",
              " 4.770375438596808,\n",
              " 4.195982322498015,\n",
              " 4.720881260426022,\n",
              " 4.290669370860394,\n",
              " 3.720035903722761,\n",
              " 3.5325783872996444,\n",
              " 3.722116911198108,\n",
              " 3.9095184237394234,\n",
              " 4.310378543603282,\n",
              " 3.6132657568699753,\n",
              " 3.136147565932335,\n",
              " 2.6719204939421637,\n",
              " 3.453505594042664,\n",
              " 3.402061249164179,\n",
              " 3.7300064948736926,\n",
              " 3.4694032486006643,\n",
              " 4.1754707275088485,\n",
              " 4.0060225423069165,\n",
              " 3.7226644277212357,\n",
              " 2.7271598104342343,\n",
              " 2.8675088131186044,\n",
              " 2.6744859836091455,\n",
              " 2.7214628559920095,\n",
              " 1.8808752267600986,\n",
              " 2.820803714117938,\n",
              " 2.9046721541495417,\n",
              " 2.2714556280230056,\n",
              " 2.7128228300785753,\n",
              " 2.8454811432393288,\n",
              " 2.783921322785046,\n",
              " 2.0716379339042774,\n",
              " 2.2809484629711685,\n",
              " 2.8633999073285423,\n",
              " 3.062081551167359,\n",
              " 3.0103212992209074,\n",
              " 2.7493063762029677,\n",
              " 2.668185213819074,\n",
              " 2.5459465830687584,\n",
              " 2.099016746533794,\n",
              " 2.7151538328880975,\n",
              " 2.885921835332212,\n",
              " 2.4666124769579456,\n",
              " 2.6016219230984357,\n",
              " 3.017256447060878,\n",
              " 2.606571489796026,\n",
              " 2.5326497389961973,\n",
              " 1.9620991477498548,\n",
              " 2.6031383418825893,\n",
              " 3.374071269555678,\n",
              " 1.6459732180562976,\n",
              " 1.7943522523905318,\n",
              " 2.167003961298013,\n",
              " 2.733071990002168,\n",
              " 2.073112686324937,\n",
              " 2.626527536784567,\n",
              " 2.689086948031479,\n",
              " 2.5831778577523434,\n",
              " 2.4865602720107605,\n",
              " 2.1281581679482766,\n",
              " 2.017280044424522,\n",
              " 2.225780235860334,\n",
              " 1.8492957164817858,\n",
              " 2.8511387484803046,\n",
              " 2.6792377669425593,\n",
              " 2.3437563963898476,\n",
              " 1.663156007138549,\n",
              " 2.8742211576914722,\n",
              " 2.9006506594261396,\n",
              " 2.742445033730779,\n",
              " 2.756062144162251,\n",
              " ...]"
            ]
          },
          "metadata": {
            "tags": []
          },
          "execution_count": 34
        }
      ]
    },
    {
      "cell_type": "code",
      "metadata": {
        "id": "IFLrgi7pzNYN",
        "colab_type": "code",
        "colab": {},
        "outputId": "caae9096-172e-4a1b-ab74-4391d41810e0"
      },
      "source": [
        "test['rating'] = ratings\n",
        "test.head()\n"
      ],
      "execution_count": null,
      "outputs": [
        {
          "output_type": "execute_result",
          "data": {
            "text/html": [
              "<div>\n",
              "<style scoped>\n",
              "    .dataframe tbody tr th:only-of-type {\n",
              "        vertical-align: middle;\n",
              "    }\n",
              "\n",
              "    .dataframe tbody tr th {\n",
              "        vertical-align: top;\n",
              "    }\n",
              "\n",
              "    .dataframe thead th {\n",
              "        text-align: right;\n",
              "    }\n",
              "</style>\n",
              "<table border=\"1\" class=\"dataframe\">\n",
              "  <thead>\n",
              "    <tr style=\"text-align: right;\">\n",
              "      <th></th>\n",
              "      <th>userId</th>\n",
              "      <th>movieId</th>\n",
              "      <th>rating</th>\n",
              "    </tr>\n",
              "  </thead>\n",
              "  <tbody>\n",
              "    <tr>\n",
              "      <th>0</th>\n",
              "      <td>1</td>\n",
              "      <td>2011</td>\n",
              "      <td>3.370615</td>\n",
              "    </tr>\n",
              "    <tr>\n",
              "      <th>1</th>\n",
              "      <td>1</td>\n",
              "      <td>4144</td>\n",
              "      <td>4.091896</td>\n",
              "    </tr>\n",
              "    <tr>\n",
              "      <th>2</th>\n",
              "      <td>1</td>\n",
              "      <td>5767</td>\n",
              "      <td>3.820083</td>\n",
              "    </tr>\n",
              "    <tr>\n",
              "      <th>3</th>\n",
              "      <td>1</td>\n",
              "      <td>6711</td>\n",
              "      <td>3.983186</td>\n",
              "    </tr>\n",
              "    <tr>\n",
              "      <th>4</th>\n",
              "      <td>1</td>\n",
              "      <td>7318</td>\n",
              "      <td>2.449681</td>\n",
              "    </tr>\n",
              "  </tbody>\n",
              "</table>\n",
              "</div>"
            ],
            "text/plain": [
              "   userId  movieId    rating\n",
              "0       1     2011  3.370615\n",
              "1       1     4144  4.091896\n",
              "2       1     5767  3.820083\n",
              "3       1     6711  3.983186\n",
              "4       1     7318  2.449681"
            ]
          },
          "metadata": {
            "tags": []
          },
          "execution_count": 35
        }
      ]
    },
    {
      "cell_type": "code",
      "metadata": {
        "id": "-tD_npO1zNYS",
        "colab_type": "code",
        "colab": {}
      },
      "source": [
        "test['Id'] = test[['userId', 'movieId']].astype(str).agg('_'.join, axis=1)\n"
      ],
      "execution_count": null,
      "outputs": []
    },
    {
      "cell_type": "code",
      "metadata": {
        "id": "Uo-HSd5fzNYX",
        "colab_type": "code",
        "colab": {},
        "outputId": "a9e58be8-1ffb-454a-8dbc-3d334f9c9edf"
      },
      "source": [
        "# Creating our submission csv file. Score of 0.81885.\n",
        "test_df = test.copy()\n",
        "test_df.drop(columns=['movieId', 'userId'], inplace=True)\n",
        "test_df.to_csv('Submission_5.csv', index=False)\n",
        "test_df\n"
      ],
      "execution_count": null,
      "outputs": [
        {
          "output_type": "execute_result",
          "data": {
            "text/html": [
              "<div>\n",
              "<style scoped>\n",
              "    .dataframe tbody tr th:only-of-type {\n",
              "        vertical-align: middle;\n",
              "    }\n",
              "\n",
              "    .dataframe tbody tr th {\n",
              "        vertical-align: top;\n",
              "    }\n",
              "\n",
              "    .dataframe thead th {\n",
              "        text-align: right;\n",
              "    }\n",
              "</style>\n",
              "<table border=\"1\" class=\"dataframe\">\n",
              "  <thead>\n",
              "    <tr style=\"text-align: right;\">\n",
              "      <th></th>\n",
              "      <th>rating</th>\n",
              "      <th>Id</th>\n",
              "    </tr>\n",
              "  </thead>\n",
              "  <tbody>\n",
              "    <tr>\n",
              "      <th>0</th>\n",
              "      <td>3.370615</td>\n",
              "      <td>1_2011</td>\n",
              "    </tr>\n",
              "    <tr>\n",
              "      <th>1</th>\n",
              "      <td>4.091896</td>\n",
              "      <td>1_4144</td>\n",
              "    </tr>\n",
              "    <tr>\n",
              "      <th>2</th>\n",
              "      <td>3.820083</td>\n",
              "      <td>1_5767</td>\n",
              "    </tr>\n",
              "    <tr>\n",
              "      <th>3</th>\n",
              "      <td>3.983186</td>\n",
              "      <td>1_6711</td>\n",
              "    </tr>\n",
              "    <tr>\n",
              "      <th>4</th>\n",
              "      <td>2.449681</td>\n",
              "      <td>1_7318</td>\n",
              "    </tr>\n",
              "    <tr>\n",
              "      <th>...</th>\n",
              "      <td>...</td>\n",
              "      <td>...</td>\n",
              "    </tr>\n",
              "    <tr>\n",
              "      <th>5000014</th>\n",
              "      <td>3.839661</td>\n",
              "      <td>162541_4079</td>\n",
              "    </tr>\n",
              "    <tr>\n",
              "      <th>5000015</th>\n",
              "      <td>3.781336</td>\n",
              "      <td>162541_4467</td>\n",
              "    </tr>\n",
              "    <tr>\n",
              "      <th>5000016</th>\n",
              "      <td>2.716951</td>\n",
              "      <td>162541_4980</td>\n",
              "    </tr>\n",
              "    <tr>\n",
              "      <th>5000017</th>\n",
              "      <td>3.058798</td>\n",
              "      <td>162541_5689</td>\n",
              "    </tr>\n",
              "    <tr>\n",
              "      <th>5000018</th>\n",
              "      <td>4.675354</td>\n",
              "      <td>162541_7153</td>\n",
              "    </tr>\n",
              "  </tbody>\n",
              "</table>\n",
              "<p>5000019 rows × 2 columns</p>\n",
              "</div>"
            ],
            "text/plain": [
              "           rating           Id\n",
              "0        3.370615       1_2011\n",
              "1        4.091896       1_4144\n",
              "2        3.820083       1_5767\n",
              "3        3.983186       1_6711\n",
              "4        2.449681       1_7318\n",
              "...           ...          ...\n",
              "5000014  3.839661  162541_4079\n",
              "5000015  3.781336  162541_4467\n",
              "5000016  2.716951  162541_4980\n",
              "5000017  3.058798  162541_5689\n",
              "5000018  4.675354  162541_7153\n",
              "\n",
              "[5000019 rows x 2 columns]"
            ]
          },
          "metadata": {
            "tags": []
          },
          "execution_count": 37
        }
      ]
    },
    {
      "cell_type": "code",
      "metadata": {
        "id": "Kp6zq8kDzNYe",
        "colab_type": "code",
        "colab": {},
        "outputId": "e4379eb5-c972-4b5f-b4be-9434b5e05d97"
      },
      "source": [
        "ratings_dict = {'itemId': list(train.movieId),\n",
        "                'userId': list(train.userId),\n",
        "                'rating': list(train.rating)}\n",
        "\n",
        "df = pd.DataFrame(ratings_dict)\n",
        "df.head()\n"
      ],
      "execution_count": null,
      "outputs": [
        {
          "output_type": "execute_result",
          "data": {
            "text/html": [
              "<div>\n",
              "<style scoped>\n",
              "    .dataframe tbody tr th:only-of-type {\n",
              "        vertical-align: middle;\n",
              "    }\n",
              "\n",
              "    .dataframe tbody tr th {\n",
              "        vertical-align: top;\n",
              "    }\n",
              "\n",
              "    .dataframe thead th {\n",
              "        text-align: right;\n",
              "    }\n",
              "</style>\n",
              "<table border=\"1\" class=\"dataframe\">\n",
              "  <thead>\n",
              "    <tr style=\"text-align: right;\">\n",
              "      <th></th>\n",
              "      <th>itemId</th>\n",
              "      <th>userId</th>\n",
              "      <th>rating</th>\n",
              "    </tr>\n",
              "  </thead>\n",
              "  <tbody>\n",
              "    <tr>\n",
              "      <th>0</th>\n",
              "      <td>57669</td>\n",
              "      <td>5163</td>\n",
              "      <td>4.0</td>\n",
              "    </tr>\n",
              "    <tr>\n",
              "      <th>1</th>\n",
              "      <td>5</td>\n",
              "      <td>106343</td>\n",
              "      <td>4.5</td>\n",
              "    </tr>\n",
              "    <tr>\n",
              "      <th>2</th>\n",
              "      <td>5459</td>\n",
              "      <td>146790</td>\n",
              "      <td>5.0</td>\n",
              "    </tr>\n",
              "    <tr>\n",
              "      <th>3</th>\n",
              "      <td>32296</td>\n",
              "      <td>106362</td>\n",
              "      <td>2.0</td>\n",
              "    </tr>\n",
              "    <tr>\n",
              "      <th>4</th>\n",
              "      <td>366</td>\n",
              "      <td>9041</td>\n",
              "      <td>3.0</td>\n",
              "    </tr>\n",
              "  </tbody>\n",
              "</table>\n",
              "</div>"
            ],
            "text/plain": [
              "   itemId  userId  rating\n",
              "0   57669    5163     4.0\n",
              "1       5  106343     4.5\n",
              "2    5459  146790     5.0\n",
              "3   32296  106362     2.0\n",
              "4     366    9041     3.0"
            ]
          },
          "metadata": {
            "tags": []
          },
          "execution_count": 38
        }
      ]
    },
    {
      "cell_type": "markdown",
      "metadata": {
        "id": "ckzI44HszNYj",
        "colab_type": "text"
      },
      "source": [
        "Let's check how good or bad our predictions are:\n",
        "The following function will create a pandas data frame which will consist of these columns:\n",
        "\n",
        "UID: user-id\n",
        "\n",
        "iid: item id\n",
        "\n",
        "Rui: the rating given by the user\n",
        "\n",
        "est: rating estimated by the model\n",
        "\n",
        "Iu: No of items rated by the user\n",
        "\n",
        "UI: number of users that have rated this item\n",
        "\n",
        "err: abs difference between predicted rating and the actual rating."
      ]
    },
    {
      "cell_type": "code",
      "metadata": {
        "id": "GfxM9n_wzNYk",
        "colab_type": "code",
        "colab": {}
      },
      "source": [
        "def get_Iu(uid):\n",
        "    \"\"\" \n",
        "    args: \n",
        "      uid: the id of the user\n",
        "    returns: \n",
        "      the number of items rated by the user\n",
        "    \"\"\"\n",
        "    try:\n",
        "        return len(trainset.ur[trainset.to_inner_uid(uid)])\n",
        "    except ValueError:  # user was not part of the trainset\n",
        "        return 0\n",
        "    \n",
        "def get_Ui(iid):\n",
        "    \"\"\" \n",
        "    args:\n",
        "      iid: the raw id of the item\n",
        "    returns:\n",
        "      the number of users that have rated the item.\n",
        "    \"\"\"\n",
        "    try: \n",
        "        return len(trainset.ir[trainset.to_inner_iid(iid)])\n",
        "    except ValueError:\n",
        "        return 0\n",
        "\n",
        "    \n",
        "df_predictions = pd.DataFrame(predictions, columns=['uid', 'iid', 'rui', 'est', 'details'])\n",
        "df_predictions['Iu'] = df_predictions.uid.apply(get_Iu)\n",
        "df_predictions['Ui'] = df_predictions.iid.apply(get_Ui)\n",
        "df_predictions['err'] = abs(df_predictions.est - df_predictions.rui)\n"
      ],
      "execution_count": null,
      "outputs": []
    },
    {
      "cell_type": "code",
      "metadata": {
        "id": "EPilhVFCzNYr",
        "colab_type": "code",
        "colab": {},
        "outputId": "f8c95352-f9af-45ed-c322-c9e0fb19dda5"
      },
      "source": [
        "df_predictions.head(10)\n"
      ],
      "execution_count": null,
      "outputs": [
        {
          "output_type": "execute_result",
          "data": {
            "text/html": [
              "<div>\n",
              "<style scoped>\n",
              "    .dataframe tbody tr th:only-of-type {\n",
              "        vertical-align: middle;\n",
              "    }\n",
              "\n",
              "    .dataframe tbody tr th {\n",
              "        vertical-align: top;\n",
              "    }\n",
              "\n",
              "    .dataframe thead th {\n",
              "        text-align: right;\n",
              "    }\n",
              "</style>\n",
              "<table border=\"1\" class=\"dataframe\">\n",
              "  <thead>\n",
              "    <tr style=\"text-align: right;\">\n",
              "      <th></th>\n",
              "      <th>uid</th>\n",
              "      <th>iid</th>\n",
              "      <th>rui</th>\n",
              "      <th>est</th>\n",
              "      <th>details</th>\n",
              "      <th>Iu</th>\n",
              "      <th>Ui</th>\n",
              "      <th>err</th>\n",
              "    </tr>\n",
              "  </thead>\n",
              "  <tbody>\n",
              "    <tr>\n",
              "      <th>0</th>\n",
              "      <td>17823</td>\n",
              "      <td>97938</td>\n",
              "      <td>3.0</td>\n",
              "      <td>3.750203</td>\n",
              "      <td>{'was_impossible': False}</td>\n",
              "      <td>49</td>\n",
              "      <td>2149</td>\n",
              "      <td>0.750203</td>\n",
              "    </tr>\n",
              "    <tr>\n",
              "      <th>1</th>\n",
              "      <td>14842</td>\n",
              "      <td>25</td>\n",
              "      <td>4.0</td>\n",
              "      <td>3.938906</td>\n",
              "      <td>{'was_impossible': False}</td>\n",
              "      <td>5</td>\n",
              "      <td>5334</td>\n",
              "      <td>0.061094</td>\n",
              "    </tr>\n",
              "    <tr>\n",
              "      <th>2</th>\n",
              "      <td>39268</td>\n",
              "      <td>3415</td>\n",
              "      <td>5.0</td>\n",
              "      <td>4.674705</td>\n",
              "      <td>{'was_impossible': False}</td>\n",
              "      <td>56</td>\n",
              "      <td>229</td>\n",
              "      <td>0.325295</td>\n",
              "    </tr>\n",
              "    <tr>\n",
              "      <th>3</th>\n",
              "      <td>75508</td>\n",
              "      <td>19</td>\n",
              "      <td>2.0</td>\n",
              "      <td>3.730773</td>\n",
              "      <td>{'was_impossible': False}</td>\n",
              "      <td>326</td>\n",
              "      <td>5780</td>\n",
              "      <td>1.730773</td>\n",
              "    </tr>\n",
              "    <tr>\n",
              "      <th>4</th>\n",
              "      <td>157578</td>\n",
              "      <td>5377</td>\n",
              "      <td>4.0</td>\n",
              "      <td>3.886248</td>\n",
              "      <td>{'was_impossible': False}</td>\n",
              "      <td>204</td>\n",
              "      <td>2888</td>\n",
              "      <td>0.113752</td>\n",
              "    </tr>\n",
              "    <tr>\n",
              "      <th>5</th>\n",
              "      <td>6184</td>\n",
              "      <td>81562</td>\n",
              "      <td>5.0</td>\n",
              "      <td>4.898289</td>\n",
              "      <td>{'was_impossible': False}</td>\n",
              "      <td>226</td>\n",
              "      <td>1723</td>\n",
              "      <td>0.101711</td>\n",
              "    </tr>\n",
              "    <tr>\n",
              "      <th>6</th>\n",
              "      <td>110752</td>\n",
              "      <td>25769</td>\n",
              "      <td>4.5</td>\n",
              "      <td>4.227614</td>\n",
              "      <td>{'was_impossible': False}</td>\n",
              "      <td>101</td>\n",
              "      <td>121</td>\n",
              "      <td>0.272386</td>\n",
              "    </tr>\n",
              "    <tr>\n",
              "      <th>7</th>\n",
              "      <td>63628</td>\n",
              "      <td>6787</td>\n",
              "      <td>5.0</td>\n",
              "      <td>4.319891</td>\n",
              "      <td>{'was_impossible': False}</td>\n",
              "      <td>48</td>\n",
              "      <td>1411</td>\n",
              "      <td>0.680109</td>\n",
              "    </tr>\n",
              "    <tr>\n",
              "      <th>8</th>\n",
              "      <td>52311</td>\n",
              "      <td>69644</td>\n",
              "      <td>2.5</td>\n",
              "      <td>3.092715</td>\n",
              "      <td>{'was_impossible': False}</td>\n",
              "      <td>155</td>\n",
              "      <td>771</td>\n",
              "      <td>0.592715</td>\n",
              "    </tr>\n",
              "    <tr>\n",
              "      <th>9</th>\n",
              "      <td>119425</td>\n",
              "      <td>106100</td>\n",
              "      <td>5.0</td>\n",
              "      <td>4.342044</td>\n",
              "      <td>{'was_impossible': False}</td>\n",
              "      <td>8</td>\n",
              "      <td>1874</td>\n",
              "      <td>0.657956</td>\n",
              "    </tr>\n",
              "  </tbody>\n",
              "</table>\n",
              "</div>"
            ],
            "text/plain": [
              "      uid     iid  rui       est                    details   Iu    Ui  \\\n",
              "0   17823   97938  3.0  3.750203  {'was_impossible': False}   49  2149   \n",
              "1   14842      25  4.0  3.938906  {'was_impossible': False}    5  5334   \n",
              "2   39268    3415  5.0  4.674705  {'was_impossible': False}   56   229   \n",
              "3   75508      19  2.0  3.730773  {'was_impossible': False}  326  5780   \n",
              "4  157578    5377  4.0  3.886248  {'was_impossible': False}  204  2888   \n",
              "5    6184   81562  5.0  4.898289  {'was_impossible': False}  226  1723   \n",
              "6  110752   25769  4.5  4.227614  {'was_impossible': False}  101   121   \n",
              "7   63628    6787  5.0  4.319891  {'was_impossible': False}   48  1411   \n",
              "8   52311   69644  2.5  3.092715  {'was_impossible': False}  155   771   \n",
              "9  119425  106100  5.0  4.342044  {'was_impossible': False}    8  1874   \n",
              "\n",
              "        err  \n",
              "0  0.750203  \n",
              "1  0.061094  \n",
              "2  0.325295  \n",
              "3  1.730773  \n",
              "4  0.113752  \n",
              "5  0.101711  \n",
              "6  0.272386  \n",
              "7  0.680109  \n",
              "8  0.592715  \n",
              "9  0.657956  "
            ]
          },
          "metadata": {
            "tags": []
          },
          "execution_count": 40
        }
      ]
    },
    {
      "cell_type": "markdown",
      "metadata": {
        "id": "40mSEIqJzNYy",
        "colab_type": "text"
      },
      "source": [
        " # Top 10 best and worst predictions by model"
      ]
    },
    {
      "cell_type": "code",
      "metadata": {
        "id": "NXwZmRQdzNYz",
        "colab_type": "code",
        "colab": {}
      },
      "source": [
        "best_predictions = df_predictions.sort_values(by='err')[:10]\n",
        "worst_predictions = df_predictions.sort_values(by='err')[-10:]\n"
      ],
      "execution_count": null,
      "outputs": []
    },
    {
      "cell_type": "code",
      "metadata": {
        "id": "iU8Bn8ZnzNY6",
        "colab_type": "code",
        "colab": {},
        "outputId": "467626dd-ff2c-4215-a8cb-d6ca24d2ecc7"
      },
      "source": [
        "best_predictions\n"
      ],
      "execution_count": null,
      "outputs": [
        {
          "output_type": "execute_result",
          "data": {
            "text/html": [
              "<div>\n",
              "<style scoped>\n",
              "    .dataframe tbody tr th:only-of-type {\n",
              "        vertical-align: middle;\n",
              "    }\n",
              "\n",
              "    .dataframe tbody tr th {\n",
              "        vertical-align: top;\n",
              "    }\n",
              "\n",
              "    .dataframe thead th {\n",
              "        text-align: right;\n",
              "    }\n",
              "</style>\n",
              "<table border=\"1\" class=\"dataframe\">\n",
              "  <thead>\n",
              "    <tr style=\"text-align: right;\">\n",
              "      <th></th>\n",
              "      <th>uid</th>\n",
              "      <th>iid</th>\n",
              "      <th>rui</th>\n",
              "      <th>est</th>\n",
              "      <th>details</th>\n",
              "      <th>Iu</th>\n",
              "      <th>Ui</th>\n",
              "      <th>err</th>\n",
              "    </tr>\n",
              "  </thead>\n",
              "  <tbody>\n",
              "    <tr>\n",
              "      <th>2924540</th>\n",
              "      <td>151128</td>\n",
              "      <td>109487</td>\n",
              "      <td>5.0</td>\n",
              "      <td>5.0</td>\n",
              "      <td>{'was_impossible': False}</td>\n",
              "      <td>225</td>\n",
              "      <td>5887</td>\n",
              "      <td>0.0</td>\n",
              "    </tr>\n",
              "    <tr>\n",
              "      <th>2780003</th>\n",
              "      <td>44670</td>\n",
              "      <td>115678</td>\n",
              "      <td>5.0</td>\n",
              "      <td>5.0</td>\n",
              "      <td>{'was_impossible': False}</td>\n",
              "      <td>233</td>\n",
              "      <td>3</td>\n",
              "      <td>0.0</td>\n",
              "    </tr>\n",
              "    <tr>\n",
              "      <th>968631</th>\n",
              "      <td>9399</td>\n",
              "      <td>1274</td>\n",
              "      <td>5.0</td>\n",
              "      <td>5.0</td>\n",
              "      <td>{'was_impossible': False}</td>\n",
              "      <td>121</td>\n",
              "      <td>2458</td>\n",
              "      <td>0.0</td>\n",
              "    </tr>\n",
              "    <tr>\n",
              "      <th>1413095</th>\n",
              "      <td>43769</td>\n",
              "      <td>4040</td>\n",
              "      <td>1.0</td>\n",
              "      <td>1.0</td>\n",
              "      <td>{'was_impossible': False}</td>\n",
              "      <td>191</td>\n",
              "      <td>491</td>\n",
              "      <td>0.0</td>\n",
              "    </tr>\n",
              "    <tr>\n",
              "      <th>715124</th>\n",
              "      <td>45511</td>\n",
              "      <td>349</td>\n",
              "      <td>5.0</td>\n",
              "      <td>5.0</td>\n",
              "      <td>{'was_impossible': False}</td>\n",
              "      <td>165</td>\n",
              "      <td>7357</td>\n",
              "      <td>0.0</td>\n",
              "    </tr>\n",
              "    <tr>\n",
              "      <th>187018</th>\n",
              "      <td>40209</td>\n",
              "      <td>296</td>\n",
              "      <td>5.0</td>\n",
              "      <td>5.0</td>\n",
              "      <td>{'was_impossible': False}</td>\n",
              "      <td>137</td>\n",
              "      <td>21012</td>\n",
              "      <td>0.0</td>\n",
              "    </tr>\n",
              "    <tr>\n",
              "      <th>1413014</th>\n",
              "      <td>72897</td>\n",
              "      <td>1089</td>\n",
              "      <td>5.0</td>\n",
              "      <td>5.0</td>\n",
              "      <td>{'was_impossible': False}</td>\n",
              "      <td>30</td>\n",
              "      <td>9304</td>\n",
              "      <td>0.0</td>\n",
              "    </tr>\n",
              "    <tr>\n",
              "      <th>1873709</th>\n",
              "      <td>83213</td>\n",
              "      <td>49272</td>\n",
              "      <td>5.0</td>\n",
              "      <td>5.0</td>\n",
              "      <td>{'was_impossible': False}</td>\n",
              "      <td>52</td>\n",
              "      <td>5415</td>\n",
              "      <td>0.0</td>\n",
              "    </tr>\n",
              "    <tr>\n",
              "      <th>1873661</th>\n",
              "      <td>107372</td>\n",
              "      <td>55765</td>\n",
              "      <td>5.0</td>\n",
              "      <td>5.0</td>\n",
              "      <td>{'was_impossible': False}</td>\n",
              "      <td>44</td>\n",
              "      <td>2013</td>\n",
              "      <td>0.0</td>\n",
              "    </tr>\n",
              "    <tr>\n",
              "      <th>968856</th>\n",
              "      <td>66661</td>\n",
              "      <td>778</td>\n",
              "      <td>5.0</td>\n",
              "      <td>5.0</td>\n",
              "      <td>{'was_impossible': False}</td>\n",
              "      <td>38</td>\n",
              "      <td>7726</td>\n",
              "      <td>0.0</td>\n",
              "    </tr>\n",
              "  </tbody>\n",
              "</table>\n",
              "</div>"
            ],
            "text/plain": [
              "            uid     iid  rui  est                    details   Iu     Ui  err\n",
              "2924540  151128  109487  5.0  5.0  {'was_impossible': False}  225   5887  0.0\n",
              "2780003   44670  115678  5.0  5.0  {'was_impossible': False}  233      3  0.0\n",
              "968631     9399    1274  5.0  5.0  {'was_impossible': False}  121   2458  0.0\n",
              "1413095   43769    4040  1.0  1.0  {'was_impossible': False}  191    491  0.0\n",
              "715124    45511     349  5.0  5.0  {'was_impossible': False}  165   7357  0.0\n",
              "187018    40209     296  5.0  5.0  {'was_impossible': False}  137  21012  0.0\n",
              "1413014   72897    1089  5.0  5.0  {'was_impossible': False}   30   9304  0.0\n",
              "1873709   83213   49272  5.0  5.0  {'was_impossible': False}   52   5415  0.0\n",
              "1873661  107372   55765  5.0  5.0  {'was_impossible': False}   44   2013  0.0\n",
              "968856    66661     778  5.0  5.0  {'was_impossible': False}   38   7726  0.0"
            ]
          },
          "metadata": {
            "tags": []
          },
          "execution_count": 42
        }
      ]
    },
    {
      "cell_type": "code",
      "metadata": {
        "id": "UAHV51WazNZB",
        "colab_type": "code",
        "colab": {},
        "outputId": "61b0848a-75b0-4264-9fd7-490c42dd550f"
      },
      "source": [
        "worst_predictions\n"
      ],
      "execution_count": null,
      "outputs": [
        {
          "output_type": "execute_result",
          "data": {
            "text/html": [
              "<div>\n",
              "<style scoped>\n",
              "    .dataframe tbody tr th:only-of-type {\n",
              "        vertical-align: middle;\n",
              "    }\n",
              "\n",
              "    .dataframe tbody tr th {\n",
              "        vertical-align: top;\n",
              "    }\n",
              "\n",
              "    .dataframe thead th {\n",
              "        text-align: right;\n",
              "    }\n",
              "</style>\n",
              "<table border=\"1\" class=\"dataframe\">\n",
              "  <thead>\n",
              "    <tr style=\"text-align: right;\">\n",
              "      <th></th>\n",
              "      <th>uid</th>\n",
              "      <th>iid</th>\n",
              "      <th>rui</th>\n",
              "      <th>est</th>\n",
              "      <th>details</th>\n",
              "      <th>Iu</th>\n",
              "      <th>Ui</th>\n",
              "      <th>err</th>\n",
              "    </tr>\n",
              "  </thead>\n",
              "  <tbody>\n",
              "    <tr>\n",
              "      <th>2085789</th>\n",
              "      <td>93517</td>\n",
              "      <td>736</td>\n",
              "      <td>0.5</td>\n",
              "      <td>5.0</td>\n",
              "      <td>{'was_impossible': False}</td>\n",
              "      <td>82</td>\n",
              "      <td>8237</td>\n",
              "      <td>4.5</td>\n",
              "    </tr>\n",
              "    <tr>\n",
              "      <th>172915</th>\n",
              "      <td>24869</td>\n",
              "      <td>55052</td>\n",
              "      <td>0.5</td>\n",
              "      <td>5.0</td>\n",
              "      <td>{'was_impossible': False}</td>\n",
              "      <td>1125</td>\n",
              "      <td>946</td>\n",
              "      <td>4.5</td>\n",
              "    </tr>\n",
              "    <tr>\n",
              "      <th>1198209</th>\n",
              "      <td>129440</td>\n",
              "      <td>55814</td>\n",
              "      <td>0.5</td>\n",
              "      <td>5.0</td>\n",
              "      <td>{'was_impossible': False}</td>\n",
              "      <td>460</td>\n",
              "      <td>554</td>\n",
              "      <td>4.5</td>\n",
              "    </tr>\n",
              "    <tr>\n",
              "      <th>1921609</th>\n",
              "      <td>128492</td>\n",
              "      <td>318</td>\n",
              "      <td>0.5</td>\n",
              "      <td>5.0</td>\n",
              "      <td>{'was_impossible': False}</td>\n",
              "      <td>18</td>\n",
              "      <td>21866</td>\n",
              "      <td>4.5</td>\n",
              "    </tr>\n",
              "    <tr>\n",
              "      <th>1938278</th>\n",
              "      <td>2295</td>\n",
              "      <td>51662</td>\n",
              "      <td>0.5</td>\n",
              "      <td>5.0</td>\n",
              "      <td>{'was_impossible': False}</td>\n",
              "      <td>19</td>\n",
              "      <td>4967</td>\n",
              "      <td>4.5</td>\n",
              "    </tr>\n",
              "    <tr>\n",
              "      <th>2823674</th>\n",
              "      <td>147572</td>\n",
              "      <td>1136</td>\n",
              "      <td>0.5</td>\n",
              "      <td>5.0</td>\n",
              "      <td>{'was_impossible': False}</td>\n",
              "      <td>27</td>\n",
              "      <td>10132</td>\n",
              "      <td>4.5</td>\n",
              "    </tr>\n",
              "    <tr>\n",
              "      <th>1443269</th>\n",
              "      <td>49598</td>\n",
              "      <td>318</td>\n",
              "      <td>0.5</td>\n",
              "      <td>5.0</td>\n",
              "      <td>{'was_impossible': False}</td>\n",
              "      <td>18</td>\n",
              "      <td>21866</td>\n",
              "      <td>4.5</td>\n",
              "    </tr>\n",
              "    <tr>\n",
              "      <th>658268</th>\n",
              "      <td>150470</td>\n",
              "      <td>318</td>\n",
              "      <td>0.5</td>\n",
              "      <td>5.0</td>\n",
              "      <td>{'was_impossible': False}</td>\n",
              "      <td>55</td>\n",
              "      <td>21866</td>\n",
              "      <td>4.5</td>\n",
              "    </tr>\n",
              "    <tr>\n",
              "      <th>2329268</th>\n",
              "      <td>116498</td>\n",
              "      <td>1721</td>\n",
              "      <td>0.5</td>\n",
              "      <td>5.0</td>\n",
              "      <td>{'was_impossible': False}</td>\n",
              "      <td>376</td>\n",
              "      <td>9898</td>\n",
              "      <td>4.5</td>\n",
              "    </tr>\n",
              "    <tr>\n",
              "      <th>2786046</th>\n",
              "      <td>11295</td>\n",
              "      <td>2324</td>\n",
              "      <td>0.5</td>\n",
              "      <td>5.0</td>\n",
              "      <td>{'was_impossible': False}</td>\n",
              "      <td>137</td>\n",
              "      <td>6478</td>\n",
              "      <td>4.5</td>\n",
              "    </tr>\n",
              "  </tbody>\n",
              "</table>\n",
              "</div>"
            ],
            "text/plain": [
              "            uid    iid  rui  est                    details    Iu     Ui  err\n",
              "2085789   93517    736  0.5  5.0  {'was_impossible': False}    82   8237  4.5\n",
              "172915    24869  55052  0.5  5.0  {'was_impossible': False}  1125    946  4.5\n",
              "1198209  129440  55814  0.5  5.0  {'was_impossible': False}   460    554  4.5\n",
              "1921609  128492    318  0.5  5.0  {'was_impossible': False}    18  21866  4.5\n",
              "1938278    2295  51662  0.5  5.0  {'was_impossible': False}    19   4967  4.5\n",
              "2823674  147572   1136  0.5  5.0  {'was_impossible': False}    27  10132  4.5\n",
              "1443269   49598    318  0.5  5.0  {'was_impossible': False}    18  21866  4.5\n",
              "658268   150470    318  0.5  5.0  {'was_impossible': False}    55  21866  4.5\n",
              "2329268  116498   1721  0.5  5.0  {'was_impossible': False}   376   9898  4.5\n",
              "2786046   11295   2324  0.5  5.0  {'was_impossible': False}   137   6478  4.5"
            ]
          },
          "metadata": {
            "tags": []
          },
          "execution_count": 43
        }
      ]
    },
    {
      "cell_type": "markdown",
      "metadata": {
        "id": "THtCYq6fzNZH",
        "colab_type": "text"
      },
      "source": [
        "The worst predictions look pretty surprising. Let's look in more detail of item \"2571\", rated 0.5, our SVD algorithm predicts that user would rate 5.0"
      ]
    },
    {
      "cell_type": "code",
      "metadata": {
        "id": "d2BS8KTnzNZI",
        "colab_type": "code",
        "colab": {},
        "outputId": "bf1cff1b-9db6-4d5c-e4e0-6459e6e3b3f6"
      },
      "source": [
        "df.loc[df['itemId'] == 2571]['rating'].describe()\n"
      ],
      "execution_count": null,
      "outputs": [
        {
          "output_type": "execute_result",
          "data": {
            "text/plain": [
              "count    29014.000000\n",
              "mean         4.154253\n",
              "std          0.912425\n",
              "min          0.500000\n",
              "25%          4.000000\n",
              "50%          4.500000\n",
              "75%          5.000000\n",
              "max          5.000000\n",
              "Name: rating, dtype: float64"
            ]
          },
          "metadata": {
            "tags": []
          },
          "execution_count": 44
        }
      ]
    },
    {
      "cell_type": "markdown",
      "metadata": {
        "id": "ygb5ieMXzNZQ",
        "colab_type": "text"
      },
      "source": [
        "This shows that more than 50% users rated this item 4.5 "
      ]
    },
    {
      "cell_type": "code",
      "metadata": {
        "id": "5lMczqyDzNZS",
        "colab_type": "code",
        "colab": {}
      },
      "source": [
        "# temp = df.loc[df['itemId'] == 4031]['rating']\n",
        "# configure_plotly_browser_state()\n",
        "\n",
        "# # Create trace\n",
        "# trace = go.Histogram(x = temp.values,\n",
        "#                      name = 'Ratings',\n",
        "#                      xbins = dict(start = 0,\n",
        "#                                   end = 5, size=.3))\n",
        "#  # Create layout\n",
        "# layout = go.Layout(title = 'Number of ratings item 4031 has received',\n",
        "#          xaxis = dict(title = 'Number of Ratings Per Item'),\n",
        "#          yaxis = dict(title = 'Count'),           \n",
        "#          bargap = 0.2)\n",
        "\n",
        "# # Create plot\n",
        "# fig = go.Figure(data=[trace], layout=layout)\n",
        "# iplot(fig)\n",
        "# configure_plotly_browser_state()\n",
        "\n",
        "# # Create trace\n",
        "# trace = go.Histogram(x = temp.values,\n",
        "#                      name = 'Ratings',\n",
        "#                      xbins = dict(start = 0,\n",
        "#                                   end = 5, size=.3))\n",
        "#  # Create layout\n",
        "# layout = go.Layout((title = 'Number of ratings item 3996 has received'),\n",
        "#          xaxis = dict(title = 'Number of Ratings Per Item'),\n",
        "#          yaxis = dict(title = 'Count'),\n",
        "#          bargap = 0.2)  \n",
        "\n",
        "# # Create plot\n",
        "# fig = go.Figure(data=[trace], layout=layout)\n",
        "# iplot(fig)"
      ],
      "execution_count": null,
      "outputs": []
    },
    {
      "cell_type": "code",
      "metadata": {
        "id": "mk7WRCyWzNZX",
        "colab_type": "code",
        "colab": {}
      },
      "source": [
        "#It turns out, most of the ratings this Item received between \"3 and 5\",only 1% of the users rated \"0.5\" and one \"2.5\"below 3. It seems that for each prediction, the users are some kind of outliers and the item has been rated very few number of times."
      ],
      "execution_count": null,
      "outputs": []
    },
    {
      "cell_type": "markdown",
      "metadata": {
        "id": "CutMg5P1zNZb",
        "colab_type": "text"
      },
      "source": [
        "# K Recommendations"
      ]
    },
    {
      "cell_type": "markdown",
      "metadata": {
        "id": "AsGk_hF5zNZc",
        "colab_type": "text"
      },
      "source": [
        "Recall and precision at K Recall and precision are the classical evaluation metric and are used to evaluate the binary metric and so we have to convert our rating which is scaled from (1-5) into a binary problem relevant and not relevant items."
      ]
    },
    {
      "cell_type": "markdown",
      "metadata": {
        "id": "E2rd4yBRzNZe",
        "colab_type": "text"
      },
      "source": [
        "#Conversion to binary\n",
        "\n",
        "To do the translation we have to select an arbitrary value on which we can say any rating above that will be considered relevant. There are many methods on selecting that value but for now, we will select 3.5 as the threshold, which means any true rating above 3.5 will be considered relevant and below will be not relevant."
      ]
    },
    {
      "cell_type": "markdown",
      "metadata": {
        "id": "8jr_p608zNZf",
        "colab_type": "text"
      },
      "source": [
        "Deciding 'k'\n",
        "\n",
        "In recommendation systems, we are interested in showing the top N items to users and so the best way is to compute precision and recall on top N values instead of calculating on all the items."
      ]
    },
    {
      "cell_type": "markdown",
      "metadata": {
        "id": "E7ERZCx6zNZh",
        "colab_type": "text"
      },
      "source": [
        "Definition of Relevant and Recommended\n",
        "Relevant: True Rating > = 3.5\n",
        "\n",
        "Irrelevant: True Rating < 3.5\n",
        "\n",
        "Recommended item: Predicted Rating > = 3.5\n",
        "\n",
        "Not Recommended item: Predicted Rating > = 3.5"
      ]
    },
    {
      "cell_type": "markdown",
      "metadata": {
        "id": "YvXjroJqzNZi",
        "colab_type": "text"
      },
      "source": [
        "Definition of Precision and Recall\n",
        "Precision: It tries to answer \"What proportion of positive identifications was actually correct?\" i.e True positive / (True positive+False Positive) in RecSys we can say (number of recommended items at k that are relevant) / (number of recommended items at k)\n",
        "\n",
        "Recall: It tries to answer \"What proportion of actual positives were identified correctly?\" i.e True positive / (True Positive+False Negative) in RecSys we can say (# of recommended items @k that are relevant) / (# of relevant items @k)"
      ]
    },
    {
      "cell_type": "markdown",
      "metadata": {
        "id": "XLQLD9u4zNZk",
        "colab_type": "text"
      },
      "source": [
        "While recall expresses the ability to find all relevant instances in a dataset, precision expresses the proportion of the data points our model says was relevant actually were relevant."
      ]
    },
    {
      "cell_type": "markdown",
      "metadata": {
        "id": "zD_RSX06zNZm",
        "colab_type": "text"
      },
      "source": [
        "In some circumstances, we might know that we need to maximize either recall or precision at the cost of the other metric. For example, in disease screening of patients, we would probably want a recall near 1.0 i.e. we want to find all patients who have the disease.\n",
        "\n",
        "However, in cases where we want to obtain an optimal blend of precision and recall, we can use F1 score which is the harmonic mean of precision and recall taking both metrics into account while calculating it.\n",
        "\n",
        "f1 score = 2 * (precision * recall) / (precision + recall)"
      ]
    },
    {
      "cell_type": "markdown",
      "metadata": {
        "id": "c5IbRJ3gzNZn",
        "colab_type": "text"
      },
      "source": [
        "The below function computes precision and recall and F1 socre as explained above."
      ]
    },
    {
      "cell_type": "code",
      "metadata": {
        "id": "GFGhyV9OzNZo",
        "colab_type": "code",
        "colab": {},
        "outputId": "d5a8a681-4774-4d25-ef17-c03f73c60e6d"
      },
      "source": [
        "#Calculate TP,FP,TN,FN at every threshold level (0.0 - 5.0)\n",
        "final = []\n",
        "\n",
        "for threshold in np.arange(0, 5.5, 0.5):\n",
        "    tp=0\n",
        "    fn=0\n",
        "    fp=0\n",
        "    tn=0\n",
        "    temp = []\n",
        "\n",
        "    for uid, _, true_r, est, _ in predictions:\n",
        "        if(true_r>=threshold):\n",
        "            if(est>=threshold):\n",
        "                tp = tp+1\n",
        "            else:\n",
        "                fn = fn+1\n",
        "        else:\n",
        "            if(est>=threshold):\n",
        "                fp = fp+1\n",
        "            else:\n",
        "                tn = tn+1   \n",
        "\n",
        "        if tp == 0:\n",
        "            precision = 0\n",
        "            recall = 0\n",
        "            f1 = 0\n",
        "        else:\n",
        "            precision = tp / (tp + fp)\n",
        "            recall = tp / (tp + fn)\n",
        "            f1 = 2 * (precision * recall) / (precision + recall)  \n",
        "\n",
        "    temp = [threshold, tp,fp,tn ,fn, precision, recall, f1]\n",
        "    final.append(temp)\n",
        "\n",
        "results = pd.DataFrame(final)\n",
        "results.rename(columns={0:'threshold', 1:'tp', 2: 'fp', 3: 'tn', 4:'fn', 5: 'Precision', 6:'Recall', 7:'F1'}, inplace=True)\n",
        "results"
      ],
      "execution_count": null,
      "outputs": [
        {
          "output_type": "execute_result",
          "data": {
            "text/html": [
              "<div>\n",
              "<style scoped>\n",
              "    .dataframe tbody tr th:only-of-type {\n",
              "        vertical-align: middle;\n",
              "    }\n",
              "\n",
              "    .dataframe tbody tr th {\n",
              "        vertical-align: top;\n",
              "    }\n",
              "\n",
              "    .dataframe thead th {\n",
              "        text-align: right;\n",
              "    }\n",
              "</style>\n",
              "<table border=\"1\" class=\"dataframe\">\n",
              "  <thead>\n",
              "    <tr style=\"text-align: right;\">\n",
              "      <th></th>\n",
              "      <th>threshold</th>\n",
              "      <th>tp</th>\n",
              "      <th>fp</th>\n",
              "      <th>tn</th>\n",
              "      <th>fn</th>\n",
              "      <th>Precision</th>\n",
              "      <th>Recall</th>\n",
              "      <th>F1</th>\n",
              "    </tr>\n",
              "  </thead>\n",
              "  <tbody>\n",
              "    <tr>\n",
              "      <th>0</th>\n",
              "      <td>0.0</td>\n",
              "      <td>3333346</td>\n",
              "      <td>0</td>\n",
              "      <td>0</td>\n",
              "      <td>0</td>\n",
              "      <td>1.000000</td>\n",
              "      <td>1.000000</td>\n",
              "      <td>1.000000</td>\n",
              "    </tr>\n",
              "    <tr>\n",
              "      <th>1</th>\n",
              "      <td>0.5</td>\n",
              "      <td>3333346</td>\n",
              "      <td>0</td>\n",
              "      <td>0</td>\n",
              "      <td>0</td>\n",
              "      <td>1.000000</td>\n",
              "      <td>1.000000</td>\n",
              "      <td>1.000000</td>\n",
              "    </tr>\n",
              "    <tr>\n",
              "      <th>2</th>\n",
              "      <td>1.0</td>\n",
              "      <td>3280854</td>\n",
              "      <td>52492</td>\n",
              "      <td>0</td>\n",
              "      <td>0</td>\n",
              "      <td>0.984252</td>\n",
              "      <td>1.000000</td>\n",
              "      <td>0.992064</td>\n",
              "    </tr>\n",
              "    <tr>\n",
              "      <th>3</th>\n",
              "      <td>1.5</td>\n",
              "      <td>3169007</td>\n",
              "      <td>139647</td>\n",
              "      <td>16777</td>\n",
              "      <td>7915</td>\n",
              "      <td>0.957793</td>\n",
              "      <td>0.997509</td>\n",
              "      <td>0.977248</td>\n",
              "    </tr>\n",
              "    <tr>\n",
              "      <th>4</th>\n",
              "      <td>2.0</td>\n",
              "      <td>3090603</td>\n",
              "      <td>162284</td>\n",
              "      <td>47606</td>\n",
              "      <td>32853</td>\n",
              "      <td>0.950111</td>\n",
              "      <td>0.989482</td>\n",
              "      <td>0.969397</td>\n",
              "    </tr>\n",
              "    <tr>\n",
              "      <th>5</th>\n",
              "      <td>2.5</td>\n",
              "      <td>2808146</td>\n",
              "      <td>285975</td>\n",
              "      <td>143310</td>\n",
              "      <td>95915</td>\n",
              "      <td>0.907575</td>\n",
              "      <td>0.966972</td>\n",
              "      <td>0.936332</td>\n",
              "    </tr>\n",
              "    <tr>\n",
              "      <th>6</th>\n",
              "      <td>3.0</td>\n",
              "      <td>2428912</td>\n",
              "      <td>267225</td>\n",
              "      <td>330587</td>\n",
              "      <td>306622</td>\n",
              "      <td>0.900886</td>\n",
              "      <td>0.887911</td>\n",
              "      <td>0.894352</td>\n",
              "    </tr>\n",
              "    <tr>\n",
              "      <th>7</th>\n",
              "      <td>3.5</td>\n",
              "      <td>1537200</td>\n",
              "      <td>362653</td>\n",
              "      <td>888607</td>\n",
              "      <td>544886</td>\n",
              "      <td>0.809115</td>\n",
              "      <td>0.738298</td>\n",
              "      <td>0.772086</td>\n",
              "    </tr>\n",
              "    <tr>\n",
              "      <th>8</th>\n",
              "      <td>4.0</td>\n",
              "      <td>705635</td>\n",
              "      <td>154575</td>\n",
              "      <td>1519693</td>\n",
              "      <td>953443</td>\n",
              "      <td>0.820306</td>\n",
              "      <td>0.425318</td>\n",
              "      <td>0.560186</td>\n",
              "    </tr>\n",
              "    <tr>\n",
              "      <th>9</th>\n",
              "      <td>4.5</td>\n",
              "      <td>124685</td>\n",
              "      <td>50120</td>\n",
              "      <td>2508293</td>\n",
              "      <td>650248</td>\n",
              "      <td>0.713281</td>\n",
              "      <td>0.160898</td>\n",
              "      <td>0.262567</td>\n",
              "    </tr>\n",
              "    <tr>\n",
              "      <th>10</th>\n",
              "      <td>5.0</td>\n",
              "      <td>9345</td>\n",
              "      <td>2509</td>\n",
              "      <td>2849577</td>\n",
              "      <td>471915</td>\n",
              "      <td>0.788341</td>\n",
              "      <td>0.019418</td>\n",
              "      <td>0.037902</td>\n",
              "    </tr>\n",
              "  </tbody>\n",
              "</table>\n",
              "</div>"
            ],
            "text/plain": [
              "    threshold       tp      fp       tn      fn  Precision    Recall        F1\n",
              "0         0.0  3333346       0        0       0   1.000000  1.000000  1.000000\n",
              "1         0.5  3333346       0        0       0   1.000000  1.000000  1.000000\n",
              "2         1.0  3280854   52492        0       0   0.984252  1.000000  0.992064\n",
              "3         1.5  3169007  139647    16777    7915   0.957793  0.997509  0.977248\n",
              "4         2.0  3090603  162284    47606   32853   0.950111  0.989482  0.969397\n",
              "5         2.5  2808146  285975   143310   95915   0.907575  0.966972  0.936332\n",
              "6         3.0  2428912  267225   330587  306622   0.900886  0.887911  0.894352\n",
              "7         3.5  1537200  362653   888607  544886   0.809115  0.738298  0.772086\n",
              "8         4.0   705635  154575  1519693  953443   0.820306  0.425318  0.560186\n",
              "9         4.5   124685   50120  2508293  650248   0.713281  0.160898  0.262567\n",
              "10        5.0     9345    2509  2849577  471915   0.788341  0.019418  0.037902"
            ]
          },
          "metadata": {
            "tags": []
          },
          "execution_count": 51
        }
      ]
    },
    {
      "cell_type": "markdown",
      "metadata": {
        "id": "EIrRALn-zNZu",
        "colab_type": "text"
      },
      "source": [
        "As per the results above, the optimal value for threshold is 2.5.\n",
        "\n",
        "The next step is to find the optimal K value, and to find if we have to first calculate precision and recall for all the K values(2-10) having threshold value 2.5.\n",
        "\n",
        "Below is the function to calculate precision and recall at K."
      ]
    },
    {
      "cell_type": "code",
      "metadata": {
        "id": "r0wacnznzNZw",
        "colab_type": "code",
        "colab": {}
      },
      "source": [
        "def precision_recall_at_k(predictions, k, threshold):\n",
        "    '''Return precision and recall at k metrics for each user.'''\n",
        "\n",
        "    # First map the predictions to each user.\n",
        "    user_est_true = defaultdict(list)\n",
        "    for uid, _, true_r, est, _ in predictions:\n",
        "        user_est_true[uid].append((est, true_r))\n",
        "\n",
        "    precisions = dict()\n",
        "    recalls = dict()\n",
        "    for uid, user_ratings in user_est_true.items():\n",
        "\n",
        "        # Sort user ratings by estimated value\n",
        "        user_ratings.sort(key=lambda x: x[0], reverse=True)\n",
        "\n",
        "        # Number of relevant items\n",
        "        n_rel = sum((true_r >= threshold) for (_, true_r) in user_ratings)\n",
        "\n",
        "        # Number of recommended items in top k\n",
        "        n_rec_k = sum((est >= threshold) for (est, _) in user_ratings[:k])\n",
        "\n",
        "        # Number of relevant and recommended items in top k\n",
        "        n_rel_and_rec_k = sum(((true_r >= threshold) and (est >= threshold))\n",
        "                              for (est, true_r) in user_ratings[:k])\n",
        "\n",
        "        # Precision@K: Proportion of recommended items that are relevant\n",
        "        precisions[uid] = n_rel_and_rec_k / n_rec_k if n_rec_k != 0 else 1\n",
        "\n",
        "        # Recall@K: Proportion of relevant items that are recommended\n",
        "        recalls[uid] = n_rel_and_rec_k / n_rel if n_rel != 0 else 1\n",
        "\n",
        "    #tp = n_rel_and_rec_k\n",
        "    #fn =  n_rel - tp\n",
        "    #fp = n_rec_k - tp\n",
        "    return precisions, recalls\n",
        "    "
      ],
      "execution_count": null,
      "outputs": []
    },
    {
      "cell_type": "code",
      "metadata": {
        "id": "8hD7jGUPzNZ0",
        "colab_type": "code",
        "colab": {},
        "outputId": "6ea10467-42f5-4ae0-bf03-984cf3480c2a"
      },
      "source": [
        "results=[]\n",
        "for i in range(2, 11):\n",
        "    precisions, recalls = precision_recall_at_k(predictions, k=i, threshold=2.5)\n",
        "\n",
        "    # Precision and recall can then be averaged over all users\n",
        "    prec = sum(prec for prec in precisions.values()) / len(precisions)\n",
        "    rec = sum(rec for rec in recalls.values()) / len(recalls)\n",
        "    results.append({'K': i, 'Precision': prec, 'Recall': rec})\n",
        "    \n",
        "\n",
        "results\n"
      ],
      "execution_count": null,
      "outputs": [
        {
          "output_type": "execute_result",
          "data": {
            "text/plain": [
              "[{'K': 2, 'Precision': 0.9487495738944498, 'Recall': 0.3141678895394318},\n",
              " {'K': 3, 'Precision': 0.9437520014049048, 'Recall': 0.4222395664685952},\n",
              " {'K': 4, 'Precision': 0.9392998440195235, 'Recall': 0.5054984949931255},\n",
              " {'K': 5, 'Precision': 0.9357125001292971, 'Recall': 0.5697440365400035},\n",
              " {'K': 6, 'Precision': 0.9326581755450418, 'Recall': 0.6203275986351345},\n",
              " {'K': 7, 'Precision': 0.9300667159548649, 'Recall': 0.6609331323020061},\n",
              " {'K': 8, 'Precision': 0.9279087403655971, 'Recall': 0.6942032497178199},\n",
              " {'K': 9, 'Precision': 0.9260151100842618, 'Recall': 0.7220378239475064},\n",
              " {'K': 10, 'Precision': 0.9242910612032065, 'Recall': 0.745568854604394}]"
            ]
          },
          "metadata": {
            "tags": []
          },
          "execution_count": 53
        }
      ]
    },
    {
      "cell_type": "code",
      "metadata": {
        "id": "06oLGgEQzNZ4",
        "colab_type": "code",
        "colab": {},
        "outputId": "52df5794-8e41-427d-f1bd-dd9088b88736"
      },
      "source": [
        "Rec = []\n",
        "Precision = []\n",
        "Recall = []\n",
        "for i in range(0, 9):\n",
        "    Rec.append(results[i]['K'])\n",
        "    Precision.append(results[i]['Precision'])\n",
        "    Recall.append(results[i]['Recall'])\n",
        "\n",
        "plt.plot(Rec, Precision)\n",
        "plt.xlabel('# of Recommendations')\n",
        "plt.ylabel('Precision')\n",
        "plt2 = plt.twinx()\n",
        "plt2.plot(Rec, Recall, 'r')\n",
        "plt.ylabel('Recall')\n",
        "\n",
        "for tl in plt2.get_yticklabels():\n",
        "    tl.set_color('r')\n"
      ],
      "execution_count": null,
      "outputs": [
        {
          "output_type": "display_data",
          "data": {
            "image/png": "[encoded data removed]",
            "text/plain": [
              "<Figure size 432x288 with 2 Axes>"
            ]
          },
          "metadata": {
            "tags": [],
            "needs_background": "light"
          }
        }
      ]
    },
    {
      "cell_type": "markdown",
      "metadata": {
        "id": "gm2wHW8YzNZ9",
        "colab_type": "text"
      },
      "source": [
        "As the graph states, Precision drops significantly when K=4\n",
        "\n",
        "So we will consider the value of K to be 4."
      ]
    },
    {
      "cell_type": "markdown",
      "metadata": {
        "id": "xw23eYWPzNZ-",
        "colab_type": "text"
      },
      "source": [
        " #  Testing Model's Recommendation Ability"
      ]
    },
    {
      "cell_type": "markdown",
      "metadata": {
        "id": "0uU3cAtJzNZ_",
        "colab_type": "text"
      },
      "source": [
        "As we know the optimal number of recommendations to provide, it's time to give recommendations to users. To do so we have to predict ratings for the movies which user have not yet watched."
      ]
    },
    {
      "cell_type": "markdown",
      "metadata": {
        "id": "55_KYU_4zNaA",
        "colab_type": "text"
      },
      "source": [
        "Here we will be using build_anti_testset() method to get the data for testset as we have to predict ratings for the (user, item) pairs which are not present."
      ]
    },
    {
      "cell_type": "code",
      "metadata": {
        "id": "zQTlWhudzNaC",
        "colab_type": "code",
        "colab": {}
      },
      "source": [
        "# trainset = data.build_full_trainset()   #Build on entire data set\n",
        "# algo = SVD(n_epochs=10, lr_all=0.005, reg_all=0.4)\n",
        "# algo.fit(trainset)\n",
        "\n",
        "# # Predict ratings for all pairs (u, i) that are NOT in the training set.\n",
        "# testset = trainset.build_anti_testset()\n",
        "\n",
        "# #Predicting the ratings for testset\n",
        "# predictions = algo.test(testset)"
      ],
      "execution_count": null,
      "outputs": []
    },
    {
      "cell_type": "code",
      "metadata": {
        "id": "ic_g24YzzNaG",
        "colab_type": "code",
        "colab": {}
      },
      "source": [
        "def get_all_predictions(predictions):\n",
        "    \n",
        "    # First map the predictions to each user.\n",
        "    top_n = defaultdict(list)    \n",
        "    for uid, iid, true_r, est, _ in predictions:\n",
        "        top_n[uid].append((iid, est))\n",
        "\n",
        "    # Then sort the predictions for each user\n",
        "    for uid, user_ratings in top_n.items():\n",
        "        user_ratings.sort(key=lambda x: x[1], reverse=True)\n",
        "\n",
        "    return top_n\n",
        "    "
      ],
      "execution_count": null,
      "outputs": []
    },
    {
      "cell_type": "code",
      "metadata": {
        "id": "OOCoCqFszNaN",
        "colab_type": "code",
        "colab": {}
      },
      "source": [
        "all_pred = get_all_predictions(predictions)\n"
      ],
      "execution_count": null,
      "outputs": []
    },
    {
      "cell_type": "markdown",
      "metadata": {
        "id": "WoLU5WDGzNaW",
        "colab_type": "text"
      },
      "source": [
        "As we have all the predicted rating, we'll subset to only top K movies for every user, where K is 4"
      ]
    },
    {
      "cell_type": "code",
      "metadata": {
        "id": "g8J083adzNaX",
        "colab_type": "code",
        "colab": {}
      },
      "source": [
        "#To get top 4 recommendation\n",
        "n = 4\n",
        "\n",
        "for uid, user_ratings in all_pred.items():\n",
        "    user_ratings.sort(key=lambda x: x[1], reverse=True)\n",
        "    all_pred[uid] = user_ratings[:n]\n",
        "    "
      ],
      "execution_count": null,
      "outputs": []
    },
    {
      "cell_type": "code",
      "metadata": {
        "id": "KXSi38E5zNaf",
        "colab_type": "code",
        "colab": {}
      },
      "source": [
        "tmp2 = pd.DataFrame(dict([ (k,pd.Series(v)) for k,v in all_pred.items() ]))\n",
        "tmp2\n",
        "tmp_transpose = tmp2.transpose()\n"
      ],
      "execution_count": null,
      "outputs": []
    },
    {
      "cell_type": "code",
      "metadata": {
        "id": "KFUausRXzNaj",
        "colab_type": "code",
        "colab": {},
        "outputId": "63ca4222-ced5-4c84-ca0c-727c6a9eff10"
      },
      "source": [
        "tmp_transpose\n"
      ],
      "execution_count": null,
      "outputs": [
        {
          "output_type": "execute_result",
          "data": {
            "text/html": [
              "<div>\n",
              "<style scoped>\n",
              "    .dataframe tbody tr th:only-of-type {\n",
              "        vertical-align: middle;\n",
              "    }\n",
              "\n",
              "    .dataframe tbody tr th {\n",
              "        vertical-align: top;\n",
              "    }\n",
              "\n",
              "    .dataframe thead th {\n",
              "        text-align: right;\n",
              "    }\n",
              "</style>\n",
              "<table border=\"1\" class=\"dataframe\">\n",
              "  <thead>\n",
              "    <tr style=\"text-align: right;\">\n",
              "      <th></th>\n",
              "      <th>0</th>\n",
              "      <th>1</th>\n",
              "      <th>2</th>\n",
              "      <th>3</th>\n",
              "    </tr>\n",
              "  </thead>\n",
              "  <tbody>\n",
              "    <tr>\n",
              "      <th>17823</th>\n",
              "      <td>(3275, 3.9575287633168164)</td>\n",
              "      <td>(97938, 3.750202876445165)</td>\n",
              "      <td>(99114, 3.7024040635416595)</td>\n",
              "      <td>(1682, 3.6912590036573354)</td>\n",
              "    </tr>\n",
              "    <tr>\n",
              "      <th>14842</th>\n",
              "      <td>(1, 4.3652069414259)</td>\n",
              "      <td>(82, 4.265690597106493)</td>\n",
              "      <td>(6, 4.255950235977407)</td>\n",
              "      <td>(608, 4.151351352742884)</td>\n",
              "    </tr>\n",
              "    <tr>\n",
              "      <th>39268</th>\n",
              "      <td>(171011, 4.856004286685006)</td>\n",
              "      <td>(109487, 4.79049399412615)</td>\n",
              "      <td>(6643, 4.73648560409993)</td>\n",
              "      <td>(3415, 4.674704800526225)</td>\n",
              "    </tr>\n",
              "    <tr>\n",
              "      <th>75508</th>\n",
              "      <td>(4979, 4.825249319048921)</td>\n",
              "      <td>(4848, 4.682161578469242)</td>\n",
              "      <td>(353, 4.578342504331273)</td>\n",
              "      <td>(1732, 4.554811293130001)</td>\n",
              "    </tr>\n",
              "    <tr>\n",
              "      <th>157578</th>\n",
              "      <td>(1203, 4.578107729820364)</td>\n",
              "      <td>(969, 4.524531765842394)</td>\n",
              "      <td>(1207, 4.515297095431834)</td>\n",
              "      <td>(904, 4.477416242824989)</td>\n",
              "    </tr>\n",
              "    <tr>\n",
              "      <th>...</th>\n",
              "      <td>...</td>\n",
              "      <td>...</td>\n",
              "      <td>...</td>\n",
              "      <td>...</td>\n",
              "    </tr>\n",
              "    <tr>\n",
              "      <th>128313</th>\n",
              "      <td>(58559, 4.28075868114585)</td>\n",
              "      <td>NaN</td>\n",
              "      <td>NaN</td>\n",
              "      <td>NaN</td>\n",
              "    </tr>\n",
              "    <tr>\n",
              "      <th>152131</th>\n",
              "      <td>(356, 3.7473589057080803)</td>\n",
              "      <td>NaN</td>\n",
              "      <td>NaN</td>\n",
              "      <td>NaN</td>\n",
              "    </tr>\n",
              "    <tr>\n",
              "      <th>6081</th>\n",
              "      <td>(2959, 4.277902227640283)</td>\n",
              "      <td>NaN</td>\n",
              "      <td>NaN</td>\n",
              "      <td>NaN</td>\n",
              "    </tr>\n",
              "    <tr>\n",
              "      <th>155644</th>\n",
              "      <td>(2571, 4.320002357875078)</td>\n",
              "      <td>NaN</td>\n",
              "      <td>NaN</td>\n",
              "      <td>NaN</td>\n",
              "    </tr>\n",
              "    <tr>\n",
              "      <th>155801</th>\n",
              "      <td>(733, 4.130581850953874)</td>\n",
              "      <td>NaN</td>\n",
              "      <td>NaN</td>\n",
              "      <td>NaN</td>\n",
              "    </tr>\n",
              "  </tbody>\n",
              "</table>\n",
              "<p>161345 rows × 4 columns</p>\n",
              "</div>"
            ],
            "text/plain": [
              "                                  0                           1  \\\n",
              "17823    (3275, 3.9575287633168164)  (97938, 3.750202876445165)   \n",
              "14842          (1, 4.3652069414259)     (82, 4.265690597106493)   \n",
              "39268   (171011, 4.856004286685006)  (109487, 4.79049399412615)   \n",
              "75508     (4979, 4.825249319048921)   (4848, 4.682161578469242)   \n",
              "157578    (1203, 4.578107729820364)    (969, 4.524531765842394)   \n",
              "...                             ...                         ...   \n",
              "128313    (58559, 4.28075868114585)                         NaN   \n",
              "152131    (356, 3.7473589057080803)                         NaN   \n",
              "6081      (2959, 4.277902227640283)                         NaN   \n",
              "155644    (2571, 4.320002357875078)                         NaN   \n",
              "155801     (733, 4.130581850953874)                         NaN   \n",
              "\n",
              "                                  2                           3  \n",
              "17823   (99114, 3.7024040635416595)  (1682, 3.6912590036573354)  \n",
              "14842        (6, 4.255950235977407)    (608, 4.151351352742884)  \n",
              "39268      (6643, 4.73648560409993)   (3415, 4.674704800526225)  \n",
              "75508      (353, 4.578342504331273)   (1732, 4.554811293130001)  \n",
              "157578    (1207, 4.515297095431834)    (904, 4.477416242824989)  \n",
              "...                             ...                         ...  \n",
              "128313                          NaN                         NaN  \n",
              "152131                          NaN                         NaN  \n",
              "6081                            NaN                         NaN  \n",
              "155644                          NaN                         NaN  \n",
              "155801                          NaN                         NaN  \n",
              "\n",
              "[161345 rows x 4 columns]"
            ]
          },
          "metadata": {
            "tags": []
          },
          "execution_count": 66
        }
      ]
    },
    {
      "cell_type": "markdown",
      "metadata": {
        "id": "af9kJbx_zNao",
        "colab_type": "text"
      },
      "source": [
        "Now we have a dataframe which consits of top 4 movies recommended to every user.\n",
        "Let's try one example and find recommendations for user 67.\n",
        "\n",
        "Also in our streamlit app."
      ]
    },
    {
      "cell_type": "code",
      "metadata": {
        "id": "DhQXQC0uzNap",
        "colab_type": "code",
        "colab": {}
      },
      "source": [
        "def get_predictions(user_id):\n",
        "    results = tmp_transpose.loc[user_id]\n",
        "    return results\n",
        "    "
      ],
      "execution_count": null,
      "outputs": []
    },
    {
      "cell_type": "code",
      "metadata": {
        "id": "FwksLDfAzNat",
        "colab_type": "code",
        "colab": {},
        "outputId": "4801d593-a569-4c92-ede5-14d3e421a541"
      },
      "source": [
        "user_id = 67\n",
        "results = get_predictions(user_id)\n",
        "results\n"
      ],
      "execution_count": null,
      "outputs": [
        {
          "output_type": "execute_result",
          "data": {
            "text/plain": [
              "0     (2028, 3.736218593802135)\n",
              "1    (1907, 3.4165874448121807)\n",
              "2    (1688, 3.3503556090175537)\n",
              "3    (2353, 3.3053163835887776)\n",
              "Name: 67, dtype: object"
            ]
          },
          "metadata": {
            "tags": []
          },
          "execution_count": 68
        }
      ]
    },
    {
      "cell_type": "markdown",
      "metadata": {
        "id": "btNjVdgHzNax",
        "colab_type": "text"
      },
      "source": [
        "Above matrix is showing top \"4\" recommendations for user 67. (Movie-id, Predicted-Rating).\n",
        "But we just need the movies not the ratings, so let's extract the movie id's from the result."
      ]
    },
    {
      "cell_type": "code",
      "metadata": {
        "id": "ZkrQts7YzNay",
        "colab_type": "code",
        "colab": {},
        "outputId": "49772bb7-37e1-4c6c-f073-7429ecc1b456"
      },
      "source": [
        "recommended_movie_ids = []\n",
        "for x in range(0, n):\n",
        "    recommended_movie_ids.append(results[x][0])\n",
        "\n",
        "recommended_movie_ids\n"
      ],
      "execution_count": null,
      "outputs": [
        {
          "output_type": "execute_result",
          "data": {
            "text/plain": [
              "[2028, 1907, 1688, 2353]"
            ]
          },
          "metadata": {
            "tags": []
          },
          "execution_count": 69
        }
      ]
    },
    {
      "cell_type": "markdown",
      "metadata": {
        "id": "HjB2C1S_zNa5",
        "colab_type": "text"
      },
      "source": [
        "Now as we have the movie-id's to be recommended, Let's find out the movie details of those id's by reading the movie data."
      ]
    },
    {
      "cell_type": "code",
      "metadata": {
        "id": "VCR-CStwzNa6",
        "colab_type": "code",
        "colab": {},
        "outputId": "5780ff53-2102-4321-be02-ced8e2b49379"
      },
      "source": [
        "movies = pd.read_csv('movies.csv')\n",
        "movies.head()\n",
        "recommended_movies = movies[movies['movieId'].isin(recommended_movie_ids)]\n",
        "recommended_movies\n"
      ],
      "execution_count": null,
      "outputs": [
        {
          "output_type": "execute_result",
          "data": {
            "text/html": [
              "<div>\n",
              "<style scoped>\n",
              "    .dataframe tbody tr th:only-of-type {\n",
              "        vertical-align: middle;\n",
              "    }\n",
              "\n",
              "    .dataframe tbody tr th {\n",
              "        vertical-align: top;\n",
              "    }\n",
              "\n",
              "    .dataframe thead th {\n",
              "        text-align: right;\n",
              "    }\n",
              "</style>\n",
              "<table border=\"1\" class=\"dataframe\">\n",
              "  <thead>\n",
              "    <tr style=\"text-align: right;\">\n",
              "      <th></th>\n",
              "      <th>movieId</th>\n",
              "      <th>title</th>\n",
              "      <th>genres</th>\n",
              "    </tr>\n",
              "  </thead>\n",
              "  <tbody>\n",
              "    <tr>\n",
              "      <th>1626</th>\n",
              "      <td>1688</td>\n",
              "      <td>Anastasia (1997)</td>\n",
              "      <td>Adventure|Animation|Children|Drama|Musical</td>\n",
              "    </tr>\n",
              "    <tr>\n",
              "      <th>1818</th>\n",
              "      <td>1907</td>\n",
              "      <td>Mulan (1998)</td>\n",
              "      <td>Adventure|Animation|Children|Comedy|Drama|Musi...</td>\n",
              "    </tr>\n",
              "    <tr>\n",
              "      <th>1939</th>\n",
              "      <td>2028</td>\n",
              "      <td>Saving Private Ryan (1998)</td>\n",
              "      <td>Action|Drama|War</td>\n",
              "    </tr>\n",
              "    <tr>\n",
              "      <th>2262</th>\n",
              "      <td>2353</td>\n",
              "      <td>Enemy of the State (1998)</td>\n",
              "      <td>Action|Thriller</td>\n",
              "    </tr>\n",
              "  </tbody>\n",
              "</table>\n",
              "</div>"
            ],
            "text/plain": [
              "      movieId                       title  \\\n",
              "1626     1688            Anastasia (1997)   \n",
              "1818     1907                Mulan (1998)   \n",
              "1939     2028  Saving Private Ryan (1998)   \n",
              "2262     2353   Enemy of the State (1998)   \n",
              "\n",
              "                                                 genres  \n",
              "1626         Adventure|Animation|Children|Drama|Musical  \n",
              "1818  Adventure|Animation|Children|Comedy|Drama|Musi...  \n",
              "1939                                   Action|Drama|War  \n",
              "2262                                    Action|Thriller  "
            ]
          },
          "metadata": {
            "tags": []
          },
          "execution_count": 70
        }
      ]
    },
    {
      "cell_type": "code",
      "metadata": {
        "id": "-nMnqVdxzNbB",
        "colab_type": "code",
        "colab": {},
        "outputId": "beff3a93-269f-47a5-c350-1da4b4c490d3"
      },
      "source": [
        "ratings_dict = {'itemId': list(train.movieId),\n",
        "                'userId': list(train.userId),\n",
        "                'rating': list(train.rating)}\n",
        "\n",
        "df = pd.DataFrame(ratings_dict)\n",
        "df.head()\n"
      ],
      "execution_count": null,
      "outputs": [
        {
          "output_type": "execute_result",
          "data": {
            "text/html": [
              "<div>\n",
              "<style scoped>\n",
              "    .dataframe tbody tr th:only-of-type {\n",
              "        vertical-align: middle;\n",
              "    }\n",
              "\n",
              "    .dataframe tbody tr th {\n",
              "        vertical-align: top;\n",
              "    }\n",
              "\n",
              "    .dataframe thead th {\n",
              "        text-align: right;\n",
              "    }\n",
              "</style>\n",
              "<table border=\"1\" class=\"dataframe\">\n",
              "  <thead>\n",
              "    <tr style=\"text-align: right;\">\n",
              "      <th></th>\n",
              "      <th>itemId</th>\n",
              "      <th>userId</th>\n",
              "      <th>rating</th>\n",
              "    </tr>\n",
              "  </thead>\n",
              "  <tbody>\n",
              "    <tr>\n",
              "      <th>0</th>\n",
              "      <td>57669</td>\n",
              "      <td>5163</td>\n",
              "      <td>4.0</td>\n",
              "    </tr>\n",
              "    <tr>\n",
              "      <th>1</th>\n",
              "      <td>5</td>\n",
              "      <td>106343</td>\n",
              "      <td>4.5</td>\n",
              "    </tr>\n",
              "    <tr>\n",
              "      <th>2</th>\n",
              "      <td>5459</td>\n",
              "      <td>146790</td>\n",
              "      <td>5.0</td>\n",
              "    </tr>\n",
              "    <tr>\n",
              "      <th>3</th>\n",
              "      <td>32296</td>\n",
              "      <td>106362</td>\n",
              "      <td>2.0</td>\n",
              "    </tr>\n",
              "    <tr>\n",
              "      <th>4</th>\n",
              "      <td>366</td>\n",
              "      <td>9041</td>\n",
              "      <td>3.0</td>\n",
              "    </tr>\n",
              "  </tbody>\n",
              "</table>\n",
              "</div>"
            ],
            "text/plain": [
              "   itemId  userId  rating\n",
              "0   57669    5163     4.0\n",
              "1       5  106343     4.5\n",
              "2    5459  146790     5.0\n",
              "3   32296  106362     2.0\n",
              "4     366    9041     3.0"
            ]
          },
          "metadata": {
            "tags": []
          },
          "execution_count": 71
        }
      ]
    },
    {
      "cell_type": "code",
      "metadata": {
        "id": "aM0a6aJ6zNbL",
        "colab_type": "code",
        "colab": {},
        "outputId": "7860b6ea-6e99-46e7-df32-66dc5561fba9"
      },
      "source": [
        "temp = df[df['userId'] == 67].sort_values(\"rating\", ascending = False)\n",
        "temp.head()\n"
      ],
      "execution_count": null,
      "outputs": [
        {
          "output_type": "execute_result",
          "data": {
            "text/html": [
              "<div>\n",
              "<style scoped>\n",
              "    .dataframe tbody tr th:only-of-type {\n",
              "        vertical-align: middle;\n",
              "    }\n",
              "\n",
              "    .dataframe tbody tr th {\n",
              "        vertical-align: top;\n",
              "    }\n",
              "\n",
              "    .dataframe thead th {\n",
              "        text-align: right;\n",
              "    }\n",
              "</style>\n",
              "<table border=\"1\" class=\"dataframe\">\n",
              "  <thead>\n",
              "    <tr style=\"text-align: right;\">\n",
              "      <th></th>\n",
              "      <th>itemId</th>\n",
              "      <th>userId</th>\n",
              "      <th>rating</th>\n",
              "    </tr>\n",
              "  </thead>\n",
              "  <tbody>\n",
              "    <tr>\n",
              "      <th>6344287</th>\n",
              "      <td>2571</td>\n",
              "      <td>67</td>\n",
              "      <td>5.0</td>\n",
              "    </tr>\n",
              "    <tr>\n",
              "      <th>3004</th>\n",
              "      <td>2193</td>\n",
              "      <td>67</td>\n",
              "      <td>4.0</td>\n",
              "    </tr>\n",
              "    <tr>\n",
              "      <th>2455852</th>\n",
              "      <td>891</td>\n",
              "      <td>67</td>\n",
              "      <td>4.0</td>\n",
              "    </tr>\n",
              "    <tr>\n",
              "      <th>9523893</th>\n",
              "      <td>2089</td>\n",
              "      <td>67</td>\n",
              "      <td>4.0</td>\n",
              "    </tr>\n",
              "    <tr>\n",
              "      <th>8360207</th>\n",
              "      <td>1752</td>\n",
              "      <td>67</td>\n",
              "      <td>4.0</td>\n",
              "    </tr>\n",
              "  </tbody>\n",
              "</table>\n",
              "</div>"
            ],
            "text/plain": [
              "         itemId  userId  rating\n",
              "6344287    2571      67     5.0\n",
              "3004       2193      67     4.0\n",
              "2455852     891      67     4.0\n",
              "9523893    2089      67     4.0\n",
              "8360207    1752      67     4.0"
            ]
          },
          "metadata": {
            "tags": []
          },
          "execution_count": 72
        }
      ]
    },
    {
      "cell_type": "code",
      "metadata": {
        "id": "x_LjTifSzNbO",
        "colab_type": "code",
        "colab": {},
        "outputId": "a3ef509b-2b83-479d-9192-10a430312631"
      },
      "source": [
        "temp.shape\n"
      ],
      "execution_count": null,
      "outputs": [
        {
          "output_type": "execute_result",
          "data": {
            "text/plain": [
              "(49, 3)"
            ]
          },
          "metadata": {
            "tags": []
          },
          "execution_count": 73
        }
      ]
    },
    {
      "cell_type": "markdown",
      "metadata": {
        "id": "pbPTpI0WzNbT",
        "colab_type": "text"
      },
      "source": [
        "We can see that user 67 have rated 49 movies"
      ]
    },
    {
      "cell_type": "code",
      "metadata": {
        "id": "WeaAye2WzNbT",
        "colab_type": "code",
        "colab": {}
      },
      "source": [
        "history_movie_ids = temp['itemId']\n",
        "user_history = movies[movies['movieId'].isin(history_movie_ids)]\n"
      ],
      "execution_count": null,
      "outputs": []
    },
    {
      "cell_type": "code",
      "metadata": {
        "id": "OSHNL7TBzNbX",
        "colab_type": "code",
        "colab": {},
        "outputId": "94d2f768-c700-4e1f-c608-b1f436024bba"
      },
      "source": [
        "user_history[:n]\n"
      ],
      "execution_count": null,
      "outputs": [
        {
          "output_type": "execute_result",
          "data": {
            "text/html": [
              "<div>\n",
              "<style scoped>\n",
              "    .dataframe tbody tr th:only-of-type {\n",
              "        vertical-align: middle;\n",
              "    }\n",
              "\n",
              "    .dataframe tbody tr th {\n",
              "        vertical-align: top;\n",
              "    }\n",
              "\n",
              "    .dataframe thead th {\n",
              "        text-align: right;\n",
              "    }\n",
              "</style>\n",
              "<table border=\"1\" class=\"dataframe\">\n",
              "  <thead>\n",
              "    <tr style=\"text-align: right;\">\n",
              "      <th></th>\n",
              "      <th>movieId</th>\n",
              "      <th>title</th>\n",
              "      <th>genres</th>\n",
              "    </tr>\n",
              "  </thead>\n",
              "  <tbody>\n",
              "    <tr>\n",
              "      <th>1</th>\n",
              "      <td>2</td>\n",
              "      <td>Jumanji (1995)</td>\n",
              "      <td>Adventure|Children|Fantasy</td>\n",
              "    </tr>\n",
              "    <tr>\n",
              "      <th>18</th>\n",
              "      <td>19</td>\n",
              "      <td>Ace Ventura: When Nature Calls (1995)</td>\n",
              "      <td>Comedy</td>\n",
              "    </tr>\n",
              "    <tr>\n",
              "      <th>43</th>\n",
              "      <td>44</td>\n",
              "      <td>Mortal Kombat (1995)</td>\n",
              "      <td>Action|Adventure|Fantasy</td>\n",
              "    </tr>\n",
              "    <tr>\n",
              "      <th>108</th>\n",
              "      <td>110</td>\n",
              "      <td>Braveheart (1995)</td>\n",
              "      <td>Action|Drama|War</td>\n",
              "    </tr>\n",
              "  </tbody>\n",
              "</table>\n",
              "</div>"
            ],
            "text/plain": [
              "     movieId                                  title  \\\n",
              "1          2                         Jumanji (1995)   \n",
              "18        19  Ace Ventura: When Nature Calls (1995)   \n",
              "43        44                   Mortal Kombat (1995)   \n",
              "108      110                      Braveheart (1995)   \n",
              "\n",
              "                         genres  \n",
              "1    Adventure|Children|Fantasy  \n",
              "18                       Comedy  \n",
              "43     Action|Adventure|Fantasy  \n",
              "108            Action|Drama|War  "
            ]
          },
          "metadata": {
            "tags": []
          },
          "execution_count": 75
        }
      ]
    },
    {
      "cell_type": "markdown",
      "metadata": {
        "id": "w6A_guk5zNba",
        "colab_type": "text"
      },
      "source": [
        "Now we can compare the results with the user history and see how relevant the recommendations are.\n",
        "\n",
        "\n",
        "Above is the user history and below the recommended movies"
      ]
    },
    {
      "cell_type": "code",
      "metadata": {
        "id": "CsvtRxCqzNbb",
        "colab_type": "code",
        "colab": {},
        "outputId": "6b584673-63aa-429a-9625-bb7fda7e8614"
      },
      "source": [
        "recommended_movies\n"
      ],
      "execution_count": null,
      "outputs": [
        {
          "output_type": "execute_result",
          "data": {
            "text/html": [
              "<div>\n",
              "<style scoped>\n",
              "    .dataframe tbody tr th:only-of-type {\n",
              "        vertical-align: middle;\n",
              "    }\n",
              "\n",
              "    .dataframe tbody tr th {\n",
              "        vertical-align: top;\n",
              "    }\n",
              "\n",
              "    .dataframe thead th {\n",
              "        text-align: right;\n",
              "    }\n",
              "</style>\n",
              "<table border=\"1\" class=\"dataframe\">\n",
              "  <thead>\n",
              "    <tr style=\"text-align: right;\">\n",
              "      <th></th>\n",
              "      <th>movieId</th>\n",
              "      <th>title</th>\n",
              "      <th>genres</th>\n",
              "    </tr>\n",
              "  </thead>\n",
              "  <tbody>\n",
              "    <tr>\n",
              "      <th>1626</th>\n",
              "      <td>1688</td>\n",
              "      <td>Anastasia (1997)</td>\n",
              "      <td>Adventure|Animation|Children|Drama|Musical</td>\n",
              "    </tr>\n",
              "    <tr>\n",
              "      <th>1818</th>\n",
              "      <td>1907</td>\n",
              "      <td>Mulan (1998)</td>\n",
              "      <td>Adventure|Animation|Children|Comedy|Drama|Musi...</td>\n",
              "    </tr>\n",
              "    <tr>\n",
              "      <th>1939</th>\n",
              "      <td>2028</td>\n",
              "      <td>Saving Private Ryan (1998)</td>\n",
              "      <td>Action|Drama|War</td>\n",
              "    </tr>\n",
              "    <tr>\n",
              "      <th>2262</th>\n",
              "      <td>2353</td>\n",
              "      <td>Enemy of the State (1998)</td>\n",
              "      <td>Action|Thriller</td>\n",
              "    </tr>\n",
              "  </tbody>\n",
              "</table>\n",
              "</div>"
            ],
            "text/plain": [
              "      movieId                       title  \\\n",
              "1626     1688            Anastasia (1997)   \n",
              "1818     1907                Mulan (1998)   \n",
              "1939     2028  Saving Private Ryan (1998)   \n",
              "2262     2353   Enemy of the State (1998)   \n",
              "\n",
              "                                                 genres  \n",
              "1626         Adventure|Animation|Children|Drama|Musical  \n",
              "1818  Adventure|Animation|Children|Comedy|Drama|Musi...  \n",
              "1939                                   Action|Drama|War  \n",
              "2262                                    Action|Thriller  "
            ]
          },
          "metadata": {
            "tags": []
          },
          "execution_count": 76
        }
      ]
    },
    {
      "cell_type": "markdown",
      "metadata": {
        "id": "-z7xLI-GzNbe",
        "colab_type": "text"
      },
      "source": [
        "The history of the user tells that they enjoy movies in the Adventure, Children,Animation, Drama, Comedy, Action and War genres. Our model recommends movies in the same genres, this gives us a good indication that our model has very good predictive/recommendation ability."
      ]
    },
    {
      "cell_type": "markdown",
      "metadata": {
        "id": "IhfmzFB5zNbf",
        "colab_type": "text"
      },
      "source": [
        "# Appendix A"
      ]
    },
    {
      "cell_type": "markdown",
      "metadata": {
        "id": "3hNNKTj_zNbf",
        "colab_type": "text"
      },
      "source": [
        "This section contains things that might have not worked, our previous models and some testing we did. Feel free to have a look at everything we attempted. \n"
      ]
    },
    {
      "cell_type": "code",
      "metadata": {
        "colab_type": "code",
        "id": "iP8ew6_BF7Pv",
        "colab": {}
      },
      "source": [
        "from surprise.model_selection import GridSearchCV\n",
        "param_grid = {'n_epochs': [5, 10],\n",
        "              'lr_all': [0.002, 0.005],\n",
        "              'reg_all': [0.4, 0.6]}\n",
        "gs = GridSearchCV(SVD, param_grid, measures=['rmse', 'mae'], cv=3)\n",
        "gs.fit(data)\n",
        "\n",
        "# best RMSE score\n",
        "print(gs.best_score['rmse'])\n",
        "\n",
        "# combination of parameters that gave the best RMSE score\n",
        "print(gs.best_params['rmse'])\n"
      ],
      "execution_count": null,
      "outputs": []
    },
    {
      "cell_type": "code",
      "metadata": {
        "colab_type": "code",
        "id": "nZhlvHoT8A0S",
        "colab": {
          "base_uri": "https://localhost:8080/",
          "height": 51
        },
        "outputId": "209162c7-f592-4473-ecc9-7779a66e396f"
      },
      "source": [
        "from surprise.model_selection import train_test_split\n",
        "\n",
        "# Setting the data variable and using the Reader() object.\n",
        "data = Dataset.load_from_df(train[['userId', 'movieId', 'rating']], reader=reader)\n",
        "\n",
        "# sample random trainset and testset\n",
        "# test set is made of 25% of the ratings.\n",
        "trainset, testset = train_test_split(data, test_size=.25)\n",
        "\n",
        "# We'll use the famous SVD algorithm.\n",
        "algo = SVD(n_epochs=10, lr_all=0.005, reg_all=0.4)\n",
        "\n",
        "# Train the algorithm on the trainset, and predict ratings for the testset\n",
        "algo.fit(trainset)\n",
        "predictions = algo.test(testset)\n",
        "\n",
        "# Then compute RMSE\n",
        "accuracy.rmse(predictions)"
      ],
      "execution_count": null,
      "outputs": [
        {
          "output_type": "stream",
          "text": [
            "RMSE: 0.8883\n"
          ],
          "name": "stdout"
        },
        {
          "output_type": "execute_result",
          "data": {
            "text/plain": [
              "0.8882637494815175"
            ]
          },
          "metadata": {
            "tags": []
          },
          "execution_count": 13
        }
      ]
    },
    {
      "cell_type": "code",
      "metadata": {
        "colab_type": "code",
        "id": "AbfFsEcqIulQ",
        "colab": {
          "base_uri": "https://localhost:8080/",
          "height": 34
        },
        "outputId": "9ec8fc12-e0fc-49f2-d56b-731bee661686"
      },
      "source": [
        "# Using algorithm with best 'rmse'\n",
        "algo = gs.best_estimator['rmse']\n",
        "\n",
        "# Fitting it to our full trainset\n",
        "algo.fit(data.build_full_trainset())"
      ],
      "execution_count": null,
      "outputs": [
        {
          "output_type": "execute_result",
          "data": {
            "text/plain": [
              "<surprise.prediction_algorithms.matrix_factorization.SVD at 0x7f2db1edfda0>"
            ]
          },
          "metadata": {
            "tags": []
          },
          "execution_count": 14
        }
      ]
    },
    {
      "cell_type": "code",
      "metadata": {
        "colab_type": "code",
        "id": "2b5Lruq-9gNQ",
        "colab": {}
      },
      "source": [
        "ratings = []\n",
        "for _, row in test.iterrows():\n",
        "    ratings.append(algo.predict(row.userId, row.movieId).est)\n",
        "\n",
        "ratings"
      ],
      "execution_count": null,
      "outputs": []
    },
    {
      "cell_type": "code",
      "metadata": {
        "colab_type": "code",
        "id": "1vot8YY7LOQk",
        "colab": {
          "base_uri": "https://localhost:8080/",
          "height": 861
        },
        "outputId": "43a37f9c-b9a7-4892-8192-ad967f193b2b"
      },
      "source": [
        "results_df = pd.DataFrame.from_dict(gs.cv_results)\n",
        "results_df"
      ],
      "execution_count": null,
      "outputs": [
        {
          "output_type": "execute_result",
          "data": {
            "text/html": [
              "<div>\n",
              "<style scoped>\n",
              "    .dataframe tbody tr th:only-of-type {\n",
              "        vertical-align: middle;\n",
              "    }\n",
              "\n",
              "    .dataframe tbody tr th {\n",
              "        vertical-align: top;\n",
              "    }\n",
              "\n",
              "    .dataframe thead th {\n",
              "        text-align: right;\n",
              "    }\n",
              "</style>\n",
              "<table border=\"1\" class=\"dataframe\">\n",
              "  <thead>\n",
              "    <tr style=\"text-align: right;\">\n",
              "      <th></th>\n",
              "      <th>split0_test_rmse</th>\n",
              "      <th>split1_test_rmse</th>\n",
              "      <th>split2_test_rmse</th>\n",
              "      <th>mean_test_rmse</th>\n",
              "      <th>std_test_rmse</th>\n",
              "      <th>rank_test_rmse</th>\n",
              "      <th>split0_test_mae</th>\n",
              "      <th>split1_test_mae</th>\n",
              "      <th>split2_test_mae</th>\n",
              "      <th>mean_test_mae</th>\n",
              "      <th>std_test_mae</th>\n",
              "      <th>rank_test_mae</th>\n",
              "      <th>mean_fit_time</th>\n",
              "      <th>std_fit_time</th>\n",
              "      <th>mean_test_time</th>\n",
              "      <th>std_test_time</th>\n",
              "      <th>params</th>\n",
              "      <th>param_n_epochs</th>\n",
              "      <th>param_lr_all</th>\n",
              "      <th>param_reg_all</th>\n",
              "    </tr>\n",
              "  </thead>\n",
              "  <tbody>\n",
              "    <tr>\n",
              "      <th>0</th>\n",
              "      <td>0.993054</td>\n",
              "      <td>0.993151</td>\n",
              "      <td>0.990496</td>\n",
              "      <td>0.992234</td>\n",
              "      <td>0.001229</td>\n",
              "      <td>7</td>\n",
              "      <td>0.775013</td>\n",
              "      <td>0.775300</td>\n",
              "      <td>0.773370</td>\n",
              "      <td>0.774561</td>\n",
              "      <td>0.000850</td>\n",
              "      <td>7</td>\n",
              "      <td>5.519943</td>\n",
              "      <td>0.772439</td>\n",
              "      <td>1.587330</td>\n",
              "      <td>0.276665</td>\n",
              "      <td>{'n_epochs': 5, 'lr_all': 0.002, 'reg_all': 0.4}</td>\n",
              "      <td>5</td>\n",
              "      <td>0.002</td>\n",
              "      <td>0.4</td>\n",
              "    </tr>\n",
              "    <tr>\n",
              "      <th>1</th>\n",
              "      <td>0.995758</td>\n",
              "      <td>0.996060</td>\n",
              "      <td>0.992963</td>\n",
              "      <td>0.994927</td>\n",
              "      <td>0.001394</td>\n",
              "      <td>8</td>\n",
              "      <td>0.779811</td>\n",
              "      <td>0.779895</td>\n",
              "      <td>0.778041</td>\n",
              "      <td>0.779249</td>\n",
              "      <td>0.000855</td>\n",
              "      <td>8</td>\n",
              "      <td>4.853417</td>\n",
              "      <td>0.034325</td>\n",
              "      <td>1.528982</td>\n",
              "      <td>0.219936</td>\n",
              "      <td>{'n_epochs': 5, 'lr_all': 0.002, 'reg_all': 0.6}</td>\n",
              "      <td>5</td>\n",
              "      <td>0.002</td>\n",
              "      <td>0.6</td>\n",
              "    </tr>\n",
              "    <tr>\n",
              "      <th>2</th>\n",
              "      <td>0.970135</td>\n",
              "      <td>0.970149</td>\n",
              "      <td>0.966875</td>\n",
              "      <td>0.969053</td>\n",
              "      <td>0.001540</td>\n",
              "      <td>3</td>\n",
              "      <td>0.755282</td>\n",
              "      <td>0.755261</td>\n",
              "      <td>0.753010</td>\n",
              "      <td>0.754518</td>\n",
              "      <td>0.001066</td>\n",
              "      <td>3</td>\n",
              "      <td>4.886498</td>\n",
              "      <td>0.020880</td>\n",
              "      <td>1.583549</td>\n",
              "      <td>0.268445</td>\n",
              "      <td>{'n_epochs': 5, 'lr_all': 0.005, 'reg_all': 0.4}</td>\n",
              "      <td>5</td>\n",
              "      <td>0.005</td>\n",
              "      <td>0.4</td>\n",
              "    </tr>\n",
              "    <tr>\n",
              "      <th>3</th>\n",
              "      <td>0.973999</td>\n",
              "      <td>0.974010</td>\n",
              "      <td>0.970796</td>\n",
              "      <td>0.972935</td>\n",
              "      <td>0.001513</td>\n",
              "      <td>4</td>\n",
              "      <td>0.761239</td>\n",
              "      <td>0.761263</td>\n",
              "      <td>0.759049</td>\n",
              "      <td>0.760517</td>\n",
              "      <td>0.001038</td>\n",
              "      <td>5</td>\n",
              "      <td>5.043566</td>\n",
              "      <td>0.164280</td>\n",
              "      <td>1.418149</td>\n",
              "      <td>0.258031</td>\n",
              "      <td>{'n_epochs': 5, 'lr_all': 0.005, 'reg_all': 0.6}</td>\n",
              "      <td>5</td>\n",
              "      <td>0.005</td>\n",
              "      <td>0.6</td>\n",
              "    </tr>\n",
              "    <tr>\n",
              "      <th>4</th>\n",
              "      <td>0.975586</td>\n",
              "      <td>0.975769</td>\n",
              "      <td>0.972843</td>\n",
              "      <td>0.974733</td>\n",
              "      <td>0.001338</td>\n",
              "      <td>5</td>\n",
              "      <td>0.760280</td>\n",
              "      <td>0.760187</td>\n",
              "      <td>0.758710</td>\n",
              "      <td>0.759725</td>\n",
              "      <td>0.000719</td>\n",
              "      <td>4</td>\n",
              "      <td>9.342871</td>\n",
              "      <td>0.108045</td>\n",
              "      <td>1.581257</td>\n",
              "      <td>0.229873</td>\n",
              "      <td>{'n_epochs': 10, 'lr_all': 0.002, 'reg_all': 0.4}</td>\n",
              "      <td>10</td>\n",
              "      <td>0.002</td>\n",
              "      <td>0.4</td>\n",
              "    </tr>\n",
              "    <tr>\n",
              "      <th>5</th>\n",
              "      <td>0.979268</td>\n",
              "      <td>0.979243</td>\n",
              "      <td>0.976694</td>\n",
              "      <td>0.978402</td>\n",
              "      <td>0.001207</td>\n",
              "      <td>6</td>\n",
              "      <td>0.765987</td>\n",
              "      <td>0.766041</td>\n",
              "      <td>0.764387</td>\n",
              "      <td>0.765471</td>\n",
              "      <td>0.000767</td>\n",
              "      <td>6</td>\n",
              "      <td>9.292656</td>\n",
              "      <td>0.044363</td>\n",
              "      <td>1.555506</td>\n",
              "      <td>0.247967</td>\n",
              "      <td>{'n_epochs': 10, 'lr_all': 0.002, 'reg_all': 0.6}</td>\n",
              "      <td>10</td>\n",
              "      <td>0.002</td>\n",
              "      <td>0.6</td>\n",
              "    </tr>\n",
              "    <tr>\n",
              "      <th>6</th>\n",
              "      <td>0.953947</td>\n",
              "      <td>0.954159</td>\n",
              "      <td>0.950827</td>\n",
              "      <td>0.952978</td>\n",
              "      <td>0.001523</td>\n",
              "      <td>1</td>\n",
              "      <td>0.741951</td>\n",
              "      <td>0.742139</td>\n",
              "      <td>0.739845</td>\n",
              "      <td>0.741312</td>\n",
              "      <td>0.001040</td>\n",
              "      <td>1</td>\n",
              "      <td>9.280040</td>\n",
              "      <td>0.068097</td>\n",
              "      <td>1.560780</td>\n",
              "      <td>0.242003</td>\n",
              "      <td>{'n_epochs': 10, 'lr_all': 0.005, 'reg_all': 0.4}</td>\n",
              "      <td>10</td>\n",
              "      <td>0.005</td>\n",
              "      <td>0.4</td>\n",
              "    </tr>\n",
              "    <tr>\n",
              "      <th>7</th>\n",
              "      <td>0.958886</td>\n",
              "      <td>0.959029</td>\n",
              "      <td>0.956025</td>\n",
              "      <td>0.957980</td>\n",
              "      <td>0.001384</td>\n",
              "      <td>2</td>\n",
              "      <td>0.748771</td>\n",
              "      <td>0.748727</td>\n",
              "      <td>0.746814</td>\n",
              "      <td>0.748104</td>\n",
              "      <td>0.000912</td>\n",
              "      <td>2</td>\n",
              "      <td>9.150445</td>\n",
              "      <td>0.028648</td>\n",
              "      <td>1.502130</td>\n",
              "      <td>0.220085</td>\n",
              "      <td>{'n_epochs': 10, 'lr_all': 0.005, 'reg_all': 0.6}</td>\n",
              "      <td>10</td>\n",
              "      <td>0.005</td>\n",
              "      <td>0.6</td>\n",
              "    </tr>\n",
              "  </tbody>\n",
              "</table>\n",
              "</div>"
            ],
            "text/plain": [
              "   split0_test_rmse  split1_test_rmse  ...  param_lr_all  param_reg_all\n",
              "0          0.993054          0.993151  ...         0.002            0.4\n",
              "1          0.995758          0.996060  ...         0.002            0.6\n",
              "2          0.970135          0.970149  ...         0.005            0.4\n",
              "3          0.973999          0.974010  ...         0.005            0.6\n",
              "4          0.975586          0.975769  ...         0.002            0.4\n",
              "5          0.979268          0.979243  ...         0.002            0.6\n",
              "6          0.953947          0.954159  ...         0.005            0.4\n",
              "7          0.958886          0.959029  ...         0.005            0.6\n",
              "\n",
              "[8 rows x 20 columns]"
            ]
          },
          "metadata": {
            "tags": []
          },
          "execution_count": 66
        }
      ]
    },
    {
      "cell_type": "markdown",
      "metadata": {
        "colab_type": "text",
        "id": "D35SH_2PurW-"
      },
      "source": [
        "Looking at the other data:"
      ]
    },
    {
      "cell_type": "code",
      "metadata": {
        "colab_type": "code",
        "id": "oB8jn_v5uahf",
        "colab": {}
      },
      "source": [
        "movies = pd.read_csv('movies.csv')\n",
        "genome_scores = pd.read_csv('genome_scores.csv')\n",
        "genome_tags = pd.read_csv('genome_tags.csv')\n",
        "imdb_data = pd.read_csv('imdb_data.csv')\n",
        "tags = pd.read_csv('tags.csv')\n",
        "links = pd.read_csv('links.csv')\n",
        "sample = pd.read_csv('sample_submission.csv')\n"
      ],
      "execution_count": null,
      "outputs": []
    },
    {
      "cell_type": "markdown",
      "metadata": {
        "id": "6olVv7-gU4X7",
        "colab_type": "text"
      },
      "source": [
        "# Conclusion"
      ]
    },
    {
      "cell_type": "markdown",
      "metadata": {
        "id": "B3TWwZQ9U830",
        "colab_type": "text"
      },
      "source": [
        "In our experiemnt we have made use of the Singular Value Decomposition (SVD) to minimise RMSE (Root Mean Square Error) and give great recommendations.\n",
        "\n",
        "\n",
        "The performance of the model was rated based on the RMSE and the lower the RMSE, the better. We have managed to successfully optain an RMSE lower than 0.85.\n",
        "\n",
        "As we assessed the overall performance of the model based on other non-statistical aspects we can conclude that the model has a high predictive ability as it recommends movies of similar genres to users.\n",
        "\n",
        "This has an immense economic potential for the service providers and provides a pleasant experience to the consumers of the content."
      ]
    }
  ]
}