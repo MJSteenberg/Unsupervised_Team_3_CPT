{
  "nbformat": 4,
  "nbformat_minor": 0,
  "metadata": {
    "kernelspec": {
      "display_name": "Python 3",
      "language": "python",
      "name": "python3"
    },
    "language_info": {
      "codemirror_mode": {
        "name": "ipython",
        "version": 3
      },
      "file_extension": ".py",
      "mimetype": "text/x-python",
      "name": "python",
      "nbconvert_exporter": "python",
      "pygments_lexer": "ipython3",
      "version": "3.7.6"
    },
    "colab": {
      "name": "Team3_Unsupervised_Final.ipynb",
      "provenance": []
    }
  },
  "cells": [
    {
      "cell_type": "markdown",
      "metadata": {
        "id": "Sx0gpIuazNU8",
        "colab_type": "text"
      },
      "source": [
        "# EDSA Movie Recommendation Challenge: Team_3_CPT\n"
      ]
    },
    {
      "cell_type": "markdown",
      "metadata": {
        "id": "adckiCS-zNU-",
        "colab_type": "text"
      },
      "source": [
        "# Introduction"
      ]
    },
    {
      "cell_type": "markdown",
      "metadata": {
        "id": "amjCVgDAqpnj",
        "colab_type": "text"
      },
      "source": [
        "**Problem** : Predicting how a user will rate a movie they have not yet viewed based on their historical preferences."
      ]
    },
    {
      "cell_type": "markdown",
      "metadata": {
        "id": "1E3S80u1zNVG",
        "colab_type": "text"
      },
      "source": [
        "In today’s technology driven world, recommender systems are socially and economically critical for ensuring that individuals can make appropriate choices surrounding the content they engage with on a daily basis. One application where this is especially true surrounds movie content recommendations; where intelligent algorithms can help viewers find great titles from tens of thousands of options.\n",
        "\n",
        "Providing an accurate and robust solution to this challenge has immense economic potential, with users of the system being exposed to content they would like to view or purchase - generating revenue and platform affinity."
      ]
    },
    {
      "cell_type": "markdown",
      "metadata": {
        "id": "jOFmI_FopXxu",
        "colab_type": "text"
      },
      "source": [
        "# Imports"
      ]
    },
    {
      "cell_type": "code",
      "metadata": {
        "id": "4RuGkbsXpGZ7",
        "colab_type": "code",
        "colab": {}
      },
      "source": [
        "#Importing the required packages\n",
        "%matplotlib inline\n",
        "import pandas as pd\n",
        "import numpy as np\n",
        "import matplotlib.pyplot as plt\n",
        "import seaborn as sns\n",
        "from scipy import stats\n",
        "from ast import literal_eval\n",
        "from sklearn.feature_extraction.text import TfidfVectorizer, CountVectorizer\n",
        "from sklearn.metrics.pairwise import linear_kernel, cosine_similarity\n",
        "from nltk.stem.snowball import SnowballStemmer\n",
        "from nltk.stem.wordnet import WordNetLemmatizer\n",
        "from nltk.corpus import wordnet\n",
        "import warnings; warnings.simplefilter('ignore')\n",
        "from collections import defaultdict\n",
        "from wordcloud import WordCloud\n",
        "from pandas import Series, DataFrame"
      ],
      "execution_count": null,
      "outputs": []
    },
    {
      "cell_type": "markdown",
      "metadata": {
        "id": "-3X8NnIuzNVR",
        "colab_type": "text"
      },
      "source": [
        "# Exploratory Data Analysis"
      ]
    },
    {
      "cell_type": "markdown",
      "metadata": {
        "id": "0WmAn7uaouZG",
        "colab_type": "text"
      },
      "source": [
        "In this section we will be diving deep into the data and what it offers.\n",
        "We will be doing thorough analysis and grabbing insights.\n",
        "\n",
        "We will start by:\n",
        "* Loading the data\n",
        "* Viewing the data\n",
        "* Checking for nan values\n",
        "* Checking the shapes\n",
        "* Adding visual comparisons"
      ]
    },
    {
      "cell_type": "code",
      "metadata": {
        "id": "T0tmkXHgmQoj",
        "colab_type": "code",
        "colab": {
          "base_uri": "https://localhost:8080/",
          "height": 204
        },
        "outputId": "0339498c-1903-474e-a2bd-c5430bf85e73"
      },
      "source": [
        "# Loading the data\n",
        "train = pd.read_csv('train.csv')\n",
        "test = pd.read_csv('test.csv')\n",
        "movies = pd.read_csv('movies.csv')\n",
        "imdb = pd.read_csv('imdb_data.csv')\n",
        "\n",
        "# Viewing the data\n",
        "train.head()"
      ],
      "execution_count": 37,
      "outputs": [
        {
          "output_type": "execute_result",
          "data": {
            "text/html": [
              "<div>\n",
              "<style scoped>\n",
              "    .dataframe tbody tr th:only-of-type {\n",
              "        vertical-align: middle;\n",
              "    }\n",
              "\n",
              "    .dataframe tbody tr th {\n",
              "        vertical-align: top;\n",
              "    }\n",
              "\n",
              "    .dataframe thead th {\n",
              "        text-align: right;\n",
              "    }\n",
              "</style>\n",
              "<table border=\"1\" class=\"dataframe\">\n",
              "  <thead>\n",
              "    <tr style=\"text-align: right;\">\n",
              "      <th></th>\n",
              "      <th>userId</th>\n",
              "      <th>movieId</th>\n",
              "      <th>rating</th>\n",
              "      <th>timestamp</th>\n",
              "    </tr>\n",
              "  </thead>\n",
              "  <tbody>\n",
              "    <tr>\n",
              "      <th>0</th>\n",
              "      <td>5163</td>\n",
              "      <td>57669</td>\n",
              "      <td>4.0</td>\n",
              "      <td>1518349992</td>\n",
              "    </tr>\n",
              "    <tr>\n",
              "      <th>1</th>\n",
              "      <td>106343</td>\n",
              "      <td>5</td>\n",
              "      <td>4.5</td>\n",
              "      <td>1206238739</td>\n",
              "    </tr>\n",
              "    <tr>\n",
              "      <th>2</th>\n",
              "      <td>146790</td>\n",
              "      <td>5459</td>\n",
              "      <td>5.0</td>\n",
              "      <td>1076215539</td>\n",
              "    </tr>\n",
              "    <tr>\n",
              "      <th>3</th>\n",
              "      <td>106362</td>\n",
              "      <td>32296</td>\n",
              "      <td>2.0</td>\n",
              "      <td>1423042565</td>\n",
              "    </tr>\n",
              "    <tr>\n",
              "      <th>4</th>\n",
              "      <td>9041</td>\n",
              "      <td>366</td>\n",
              "      <td>3.0</td>\n",
              "      <td>833375837</td>\n",
              "    </tr>\n",
              "  </tbody>\n",
              "</table>\n",
              "</div>"
            ],
            "text/plain": [
              "   userId  movieId  rating   timestamp\n",
              "0    5163    57669     4.0  1518349992\n",
              "1  106343        5     4.5  1206238739\n",
              "2  146790     5459     5.0  1076215539\n",
              "3  106362    32296     2.0  1423042565\n",
              "4    9041      366     3.0   833375837"
            ]
          },
          "metadata": {
            "tags": []
          },
          "execution_count": 37
        }
      ]
    },
    {
      "cell_type": "code",
      "metadata": {
        "id": "0u0Q6Dqluf2Q",
        "colab_type": "code",
        "colab": {
          "base_uri": "https://localhost:8080/",
          "height": 34
        },
        "outputId": "6ee94544-c6e8-4194-fb8d-beb3f6093b5b"
      },
      "source": [
        "# Checking the shape\n",
        "train.shape"
      ],
      "execution_count": null,
      "outputs": [
        {
          "output_type": "execute_result",
          "data": {
            "text/plain": [
              "(10000038, 4)"
            ]
          },
          "metadata": {
            "tags": []
          },
          "execution_count": 9
        }
      ]
    },
    {
      "cell_type": "code",
      "metadata": {
        "id": "Glron82LqIuC",
        "colab_type": "code",
        "colab": {
          "base_uri": "https://localhost:8080/",
          "height": 102
        },
        "outputId": "222166e7-eb47-44c6-85bf-5c80f7938f64"
      },
      "source": [
        "# Looking for nan values\n",
        "train.isna().sum()"
      ],
      "execution_count": null,
      "outputs": [
        {
          "output_type": "execute_result",
          "data": {
            "text/plain": [
              "userId       0\n",
              "movieId      0\n",
              "rating       0\n",
              "timestamp    0\n",
              "dtype: int64"
            ]
          },
          "metadata": {
            "tags": []
          },
          "execution_count": 10
        }
      ]
    },
    {
      "cell_type": "code",
      "metadata": {
        "id": "evh7ahxozNVp",
        "colab_type": "code",
        "colab": {
          "base_uri": "https://localhost:8080/",
          "height": 34
        },
        "outputId": "b91b5057-c88f-4f89-8c57-5e3d2ab761c4"
      },
      "source": [
        "# Checking the shape\n",
        "test.shape"
      ],
      "execution_count": null,
      "outputs": [
        {
          "output_type": "execute_result",
          "data": {
            "text/plain": [
              "(5000019, 2)"
            ]
          },
          "metadata": {
            "tags": []
          },
          "execution_count": 11
        }
      ]
    },
    {
      "cell_type": "code",
      "metadata": {
        "id": "xlDQigDczNVw",
        "colab_type": "code",
        "colab": {
          "base_uri": "https://localhost:8080/",
          "height": 68
        },
        "outputId": "56ab0c91-c49a-4b40-9fe7-82f2a2811695"
      },
      "source": [
        "# Looking for nan values\n",
        "test.isna().sum()"
      ],
      "execution_count": null,
      "outputs": [
        {
          "output_type": "execute_result",
          "data": {
            "text/plain": [
              "userId     0\n",
              "movieId    0\n",
              "dtype: int64"
            ]
          },
          "metadata": {
            "tags": []
          },
          "execution_count": 12
        }
      ]
    },
    {
      "cell_type": "markdown",
      "metadata": {
        "id": "33qr6K1fE64Y",
        "colab_type": "text"
      },
      "source": [
        "Conclusion: Both the train and test datasets contain no missing values. We find the given data to be extremely clean and require little preprocessing."
      ]
    },
    {
      "cell_type": "markdown",
      "metadata": {
        "id": "s8CrtbVppHsR",
        "colab_type": "text"
      },
      "source": [
        "# Visualising and grabbing insights:"
      ]
    },
    {
      "cell_type": "markdown",
      "metadata": {
        "id": "3uUdx8wBpRWo",
        "colab_type": "text"
      },
      "source": [
        "We will dive deeper into the Data and extract some insights which might help us solve the problem. \n",
        "\n",
        "We make use of graphs to visualise some key aspects of the Datasets.\n"
      ]
    },
    {
      "cell_type": "code",
      "metadata": {
        "id": "CTyk29BfzNV9",
        "colab_type": "code",
        "colab": {}
      },
      "source": [
        "# A function created for changing the labels.\n",
        "def changingLabels(number):\n",
        "    return str(number/10**6) + \"M\""
      ],
      "execution_count": null,
      "outputs": []
    },
    {
      "cell_type": "markdown",
      "metadata": {
        "id": "QMvyCJrGsLnD",
        "colab_type": "text"
      },
      "source": [
        "This bar graph visualises the distribution of ratings in the train data"
      ]
    },
    {
      "cell_type": "code",
      "metadata": {
        "id": "NewmynsmzNWC",
        "colab_type": "code",
        "colab": {
          "base_uri": "https://localhost:8080/",
          "height": 532
        },
        "outputId": "e725b606-9f81-459a-d09a-6071ae5f5f36"
      },
      "source": [
        "# Plotting a bar graph to visualise distribution of ratings in the train data\n",
        "plt.figure(figsize=(12, 8))\n",
        "ax = sns.countplot(x=\"rating\", data=train)\n",
        "ax.set_yticklabels([changingLabels(num) for num in ax.get_yticks()])\n",
        "plt.tick_params(labelsize=15)\n",
        "plt.title(\"Distribution of Ratings in Train data\", fontsize=20)\n",
        "plt.xlabel(\"Rating\", fontsize=20)\n",
        "plt.ylabel(\"Number of Ratings (Millions)\", fontsize=20)\n",
        "plt.show()"
      ],
      "execution_count": null,
      "outputs": [
        {
          "output_type": "display_data",
          "data": {
            "image/png": "[encoded data removed]",
            "text/plain": [
              "<Figure size 864x576 with 1 Axes>"
            ]
          },
          "metadata": {
            "tags": [],
            "needs_background": "light"
          }
        }
      ]
    },
    {
      "cell_type": "markdown",
      "metadata": {
        "id": "OyHIbmUxzNWK",
        "colab_type": "text"
      },
      "source": [
        "We can clearly see that Ratings equal to 4.0 are most common.\n",
        "\n",
        "We believe that the reasons for this might be because it is likely that people who truely enjoyed a specific movie will never be 100% satisfied with the movie. Giving a 5.0 rating would indicate a truly perfect movie from the watchers perspective, which is very rare. The closest best thing to 5.0 without seeming bias is 4.0, therefore 4.0 ratings are most common."
      ]
    },
    {
      "cell_type": "code",
      "metadata": {
        "id": "eBmqvIS_zNWL",
        "colab_type": "code",
        "colab": {}
      },
      "source": [
        "# Getting the number of ratings per movie\n",
        "no_of_ratings_per_movie = train.groupby(by=\"movieId\")[\"rating\"].count().sort_values(ascending=False)"
      ],
      "execution_count": null,
      "outputs": []
    },
    {
      "cell_type": "markdown",
      "metadata": {
        "id": "Bacr0bEvtl6E",
        "colab_type": "text"
      },
      "source": [
        "This line graph visualises the number of ratings per movie"
      ]
    },
    {
      "cell_type": "code",
      "metadata": {
        "id": "nwQMm2_izNWT",
        "colab_type": "code",
        "colab": {
          "base_uri": "https://localhost:8080/",
          "height": 514
        },
        "outputId": "c263af01-5b76-44f4-8047-fb6c34adb350"
      },
      "source": [
        "# Plotting a line graph to visualise distribution of ratings in the train data\n",
        "fig = plt.figure(figsize=(12, 6))\n",
        "axes = fig.add_axes([0.1, 0.1, 1, 1])\n",
        "plt.title(\"Number of Ratings Per Movie\", fontsize=20)\n",
        "plt.xlabel(\"Movie\", fontsize=20)\n",
        "plt.ylabel(\"Count of Ratings\", fontsize=20)\n",
        "plt.plot(no_of_ratings_per_movie.values)\n",
        "plt.tick_params(labelsize=5)\n",
        "axes.set_xticklabels([])\n",
        "plt.show()"
      ],
      "execution_count": null,
      "outputs": [
        {
          "output_type": "display_data",
          "data": {
            "image/png": "[encoded data removed]",
            "text/plain": [
              "<Figure size 864x432 with 1 Axes>"
            ]
          },
          "metadata": {
            "tags": [],
            "needs_background": "light"
          }
        }
      ]
    },
    {
      "cell_type": "markdown",
      "metadata": {
        "id": "34Ztyq_wzNWc",
        "colab_type": "text"
      },
      "source": [
        "The above line graph shows that there are some movies that receive many ratings and some movies that receive very little votes.\n",
        "\n",
        "We believe the reason for this can be the fact that some mainstream movies are way more popular and therefore receive a lot of attention compared to the other movies. "
      ]
    },
    {
      "cell_type": "code",
      "metadata": {
        "id": "7pEqN5WGzNWd",
        "colab_type": "code",
        "colab": {
          "base_uri": "https://localhost:8080/",
          "height": 221
        },
        "outputId": "e8864538-f793-41d0-d8e5-448813ff32a3"
      },
      "source": [
        "# Getting the number of movies rated per user\n",
        "no_of_rated_movies_per_user = train.groupby(by=\"userId\")[\"rating\"].count().sort_values(ascending=False)\n",
        "no_of_rated_movies_per_user.head(10)"
      ],
      "execution_count": null,
      "outputs": [
        {
          "output_type": "execute_result",
          "data": {
            "text/plain": [
              "userId\n",
              "72315     12952\n",
              "80974      3680\n",
              "137293     3588\n",
              "33844      3208\n",
              "20055      3050\n",
              "109731     2671\n",
              "49403      2670\n",
              "92046      2579\n",
              "110971     2288\n",
              "30879      2284\n",
              "Name: rating, dtype: int64"
            ]
          },
          "metadata": {
            "tags": []
          },
          "execution_count": 17
        }
      ]
    },
    {
      "cell_type": "markdown",
      "metadata": {
        "id": "xrUpwj6KuEAE",
        "colab_type": "text"
      },
      "source": [
        "We can clearly see that user: '72315' has rated, by far, the most movies."
      ]
    },
    {
      "cell_type": "markdown",
      "metadata": {
        "id": "W8uwYvpEuhK9",
        "colab_type": "text"
      },
      "source": [
        "Both the PDF and CDF graphs following give us a representation of how many users actually rate the movies they have watched."
      ]
    },
    {
      "cell_type": "code",
      "metadata": {
        "id": "JcKcYY5DzNWj",
        "colab_type": "code",
        "colab": {
          "base_uri": "https://localhost:8080/",
          "height": 513
        },
        "outputId": "bd7ee9da-f00c-45f1-e90a-3f9346c956c0"
      },
      "source": [
        "# Plotting both an PDF and CDF to visualise movie ratings per user.\n",
        "fig, axes = plt.subplots(nrows=1, ncols=2, figsize=(14, 7))\n",
        "\n",
        "sns.kdeplot(no_of_rated_movies_per_user.values, shade=True, ax=axes[0])\n",
        "axes[0].set_title(\"PDF\", fontsize=18)\n",
        "axes[0].set_xlabel(\"Number of Ratings by user\", fontsize=18)\n",
        "axes[0].tick_params(labelsize=15)\n",
        "\n",
        "sns.kdeplot(no_of_rated_movies_per_user.values, shade=True, cumulative=True, ax=axes[1])\n",
        "axes[1].set_title(\"CDF\", fontsize=18)\n",
        "axes[1].set_xlabel(\"Number of Ratings by user\", fontsize=18)\n",
        "axes[1].tick_params(labelsize=15)\n",
        "\n",
        "fig.subplots_adjust(wspace=2)\n",
        "plt.tight_layout()\n",
        "plt.show()"
      ],
      "execution_count": null,
      "outputs": [
        {
          "output_type": "display_data",
          "data": {
            "image/png": "[encoded data removed]",
            "text/plain": [
              "<Figure size 1008x504 with 2 Axes>"
            ]
          },
          "metadata": {
            "tags": [],
            "needs_background": "light"
          }
        }
      ]
    },
    {
      "cell_type": "markdown",
      "metadata": {
        "id": "IsesMD1UnVtN",
        "colab_type": "text"
      },
      "source": [
        " Both the PDF and CDF clearly indicate that users give very few ratings."
      ]
    },
    {
      "cell_type": "markdown",
      "metadata": {
        "id": "LLjI-Fd2zNW0",
        "colab_type": "text"
      },
      "source": [
        "**Finding the most popular genre:**\n",
        "\n",
        "We began by creating a list of all the genres."
      ]
    },
    {
      "cell_type": "code",
      "metadata": {
        "id": "FVttKImGzNW1",
        "colab_type": "code",
        "colab": {
          "base_uri": "https://localhost:8080/",
          "height": 357
        },
        "outputId": "607d53c9-30ab-4484-a41b-2fca12d58baa"
      },
      "source": [
        "# We began by creating a list of all the genres.\n",
        "temp = \"\"\n",
        "for i in movies.genres:\n",
        "    temp = temp+'|'+i\n",
        "genres_list = list(set(temp.split('|')))\n",
        "del genres_list[0]  # Data Cleaning\n",
        "genres_list"
      ],
      "execution_count": null,
      "outputs": [
        {
          "output_type": "execute_result",
          "data": {
            "text/plain": [
              "['IMAX',\n",
              " 'Sci-Fi',\n",
              " 'Romance',\n",
              " 'Film-Noir',\n",
              " 'Fantasy',\n",
              " 'Crime',\n",
              " 'Western',\n",
              " 'War',\n",
              " 'Adventure',\n",
              " 'Children',\n",
              " 'Animation',\n",
              " 'Musical',\n",
              " '(no genres listed)',\n",
              " 'Horror',\n",
              " 'Documentary',\n",
              " 'Thriller',\n",
              " 'Action',\n",
              " 'Drama',\n",
              " 'Comedy',\n",
              " 'Mystery']"
            ]
          },
          "metadata": {
            "tags": []
          },
          "execution_count": 19
        }
      ]
    },
    {
      "cell_type": "code",
      "metadata": {
        "id": "vAdrUSrwnVta",
        "colab_type": "code",
        "colab": {}
      },
      "source": [
        "# Split genres and create a new entry for each genre a movie falls into\n",
        "s = movies['genres'].str.split('|').apply(Series, 1).stack()\n",
        "s.index = s.index.droplevel(-1)\n",
        "s.name = 'genres'\n",
        "del movies['genres']\n",
        "movies_split_genres = movies.join(s)"
      ],
      "execution_count": null,
      "outputs": []
    },
    {
      "cell_type": "markdown",
      "metadata": {
        "id": "pk2PByLBwnXd",
        "colab_type": "text"
      },
      "source": [
        "This way we can see all the genres a movie falls into more more clearly."
      ]
    },
    {
      "cell_type": "code",
      "metadata": {
        "id": "dgoCC5C0nVtc",
        "colab_type": "code",
        "colab": {
          "base_uri": "https://localhost:8080/",
          "height": 266
        },
        "outputId": "c552da49-bbdf-425a-cab7-0b6773502fc0"
      },
      "source": [
        "movies_split_genres.head(7)"
      ],
      "execution_count": null,
      "outputs": [
        {
          "output_type": "execute_result",
          "data": {
            "text/html": [
              "<div>\n",
              "<style scoped>\n",
              "    .dataframe tbody tr th:only-of-type {\n",
              "        vertical-align: middle;\n",
              "    }\n",
              "\n",
              "    .dataframe tbody tr th {\n",
              "        vertical-align: top;\n",
              "    }\n",
              "\n",
              "    .dataframe thead th {\n",
              "        text-align: right;\n",
              "    }\n",
              "</style>\n",
              "<table border=\"1\" class=\"dataframe\">\n",
              "  <thead>\n",
              "    <tr style=\"text-align: right;\">\n",
              "      <th></th>\n",
              "      <th>movieId</th>\n",
              "      <th>title</th>\n",
              "      <th>genres</th>\n",
              "    </tr>\n",
              "  </thead>\n",
              "  <tbody>\n",
              "    <tr>\n",
              "      <th>0</th>\n",
              "      <td>1</td>\n",
              "      <td>Toy Story (1995)</td>\n",
              "      <td>Adventure</td>\n",
              "    </tr>\n",
              "    <tr>\n",
              "      <th>0</th>\n",
              "      <td>1</td>\n",
              "      <td>Toy Story (1995)</td>\n",
              "      <td>Animation</td>\n",
              "    </tr>\n",
              "    <tr>\n",
              "      <th>0</th>\n",
              "      <td>1</td>\n",
              "      <td>Toy Story (1995)</td>\n",
              "      <td>Children</td>\n",
              "    </tr>\n",
              "    <tr>\n",
              "      <th>0</th>\n",
              "      <td>1</td>\n",
              "      <td>Toy Story (1995)</td>\n",
              "      <td>Comedy</td>\n",
              "    </tr>\n",
              "    <tr>\n",
              "      <th>0</th>\n",
              "      <td>1</td>\n",
              "      <td>Toy Story (1995)</td>\n",
              "      <td>Fantasy</td>\n",
              "    </tr>\n",
              "    <tr>\n",
              "      <th>1</th>\n",
              "      <td>2</td>\n",
              "      <td>Jumanji (1995)</td>\n",
              "      <td>Adventure</td>\n",
              "    </tr>\n",
              "    <tr>\n",
              "      <th>1</th>\n",
              "      <td>2</td>\n",
              "      <td>Jumanji (1995)</td>\n",
              "      <td>Children</td>\n",
              "    </tr>\n",
              "  </tbody>\n",
              "</table>\n",
              "</div>"
            ],
            "text/plain": [
              "   movieId             title     genres\n",
              "0        1  Toy Story (1995)  Adventure\n",
              "0        1  Toy Story (1995)  Animation\n",
              "0        1  Toy Story (1995)   Children\n",
              "0        1  Toy Story (1995)     Comedy\n",
              "0        1  Toy Story (1995)    Fantasy\n",
              "1        2    Jumanji (1995)  Adventure\n",
              "1        2    Jumanji (1995)   Children"
            ]
          },
          "metadata": {
            "tags": []
          },
          "execution_count": 23
        }
      ]
    },
    {
      "cell_type": "code",
      "metadata": {
        "id": "ZZSgNXOMnVte",
        "colab_type": "code",
        "colab": {
          "base_uri": "https://localhost:8080/",
          "height": 34
        },
        "outputId": "e497b673-7317-4b11-c504-723f3a57d31e"
      },
      "source": [
        "# How many different genres do we have?\n",
        "len(movies_split_genres['genres'].unique())"
      ],
      "execution_count": null,
      "outputs": [
        {
          "output_type": "execute_result",
          "data": {
            "text/plain": [
              "20"
            ]
          },
          "metadata": {
            "tags": []
          },
          "execution_count": 24
        }
      ]
    },
    {
      "cell_type": "markdown",
      "metadata": {
        "id": "Nj9A_uWwnVth",
        "colab_type": "text"
      },
      "source": [
        "We have a movies dataset from 20 unique genres.\n",
        "\n",
        "Next we will look at how many movies there are of each genre."
      ]
    },
    {
      "cell_type": "code",
      "metadata": {
        "id": "xIo1ZJF5nVti",
        "colab_type": "code",
        "colab": {
          "base_uri": "https://localhost:8080/",
          "height": 700
        },
        "outputId": "9ced524f-8cec-472a-83e5-babf13cc91e9"
      },
      "source": [
        "# Group movies by genre using title as unique identifier and display all genres.\n",
        "movies_genre = (pd.DataFrame(movies_split_genres.groupby('genres').title.nunique())).sort_values('title', ascending=True)\n",
        "movies_genre.head(20)"
      ],
      "execution_count": null,
      "outputs": [
        {
          "output_type": "execute_result",
          "data": {
            "text/html": [
              "<div>\n",
              "<style scoped>\n",
              "    .dataframe tbody tr th:only-of-type {\n",
              "        vertical-align: middle;\n",
              "    }\n",
              "\n",
              "    .dataframe tbody tr th {\n",
              "        vertical-align: top;\n",
              "    }\n",
              "\n",
              "    .dataframe thead th {\n",
              "        text-align: right;\n",
              "    }\n",
              "</style>\n",
              "<table border=\"1\" class=\"dataframe\">\n",
              "  <thead>\n",
              "    <tr style=\"text-align: right;\">\n",
              "      <th></th>\n",
              "      <th>title</th>\n",
              "    </tr>\n",
              "    <tr>\n",
              "      <th>genres</th>\n",
              "      <th></th>\n",
              "    </tr>\n",
              "  </thead>\n",
              "  <tbody>\n",
              "    <tr>\n",
              "      <th>IMAX</th>\n",
              "      <td>195</td>\n",
              "    </tr>\n",
              "    <tr>\n",
              "      <th>Film-Noir</th>\n",
              "      <td>353</td>\n",
              "    </tr>\n",
              "    <tr>\n",
              "      <th>Musical</th>\n",
              "      <td>1054</td>\n",
              "    </tr>\n",
              "    <tr>\n",
              "      <th>Western</th>\n",
              "      <td>1399</td>\n",
              "    </tr>\n",
              "    <tr>\n",
              "      <th>War</th>\n",
              "      <td>1874</td>\n",
              "    </tr>\n",
              "    <tr>\n",
              "      <th>Fantasy</th>\n",
              "      <td>2731</td>\n",
              "    </tr>\n",
              "    <tr>\n",
              "      <th>Mystery</th>\n",
              "      <td>2925</td>\n",
              "    </tr>\n",
              "    <tr>\n",
              "      <th>Animation</th>\n",
              "      <td>2928</td>\n",
              "    </tr>\n",
              "    <tr>\n",
              "      <th>Children</th>\n",
              "      <td>2934</td>\n",
              "    </tr>\n",
              "    <tr>\n",
              "      <th>Sci-Fi</th>\n",
              "      <td>3591</td>\n",
              "    </tr>\n",
              "    <tr>\n",
              "      <th>Adventure</th>\n",
              "      <td>4142</td>\n",
              "    </tr>\n",
              "    <tr>\n",
              "      <th>(no genres listed)</th>\n",
              "      <td>5062</td>\n",
              "    </tr>\n",
              "    <tr>\n",
              "      <th>Crime</th>\n",
              "      <td>5316</td>\n",
              "    </tr>\n",
              "    <tr>\n",
              "      <th>Documentary</th>\n",
              "      <td>5603</td>\n",
              "    </tr>\n",
              "    <tr>\n",
              "      <th>Horror</th>\n",
              "      <td>5983</td>\n",
              "    </tr>\n",
              "    <tr>\n",
              "      <th>Action</th>\n",
              "      <td>7346</td>\n",
              "    </tr>\n",
              "    <tr>\n",
              "      <th>Romance</th>\n",
              "      <td>7716</td>\n",
              "    </tr>\n",
              "    <tr>\n",
              "      <th>Thriller</th>\n",
              "      <td>8641</td>\n",
              "    </tr>\n",
              "    <tr>\n",
              "      <th>Comedy</th>\n",
              "      <td>16861</td>\n",
              "    </tr>\n",
              "    <tr>\n",
              "      <th>Drama</th>\n",
              "      <td>25581</td>\n",
              "    </tr>\n",
              "  </tbody>\n",
              "</table>\n",
              "</div>"
            ],
            "text/plain": [
              "                    title\n",
              "genres                   \n",
              "IMAX                  195\n",
              "Film-Noir             353\n",
              "Musical              1054\n",
              "Western              1399\n",
              "War                  1874\n",
              "Fantasy              2731\n",
              "Mystery              2925\n",
              "Animation            2928\n",
              "Children             2934\n",
              "Sci-Fi               3591\n",
              "Adventure            4142\n",
              "(no genres listed)   5062\n",
              "Crime                5316\n",
              "Documentary          5603\n",
              "Horror               5983\n",
              "Action               7346\n",
              "Romance              7716\n",
              "Thriller             8641\n",
              "Comedy              16861\n",
              "Drama               25581"
            ]
          },
          "metadata": {
            "tags": []
          },
          "execution_count": 25
        }
      ]
    },
    {
      "cell_type": "markdown",
      "metadata": {
        "id": "Fq6DrVqNxvLA",
        "colab_type": "text"
      },
      "source": [
        "As you can see, the Drama genre is by far the most popular genre in our Dataset. We will be visualising this in a Pie chart next."
      ]
    },
    {
      "cell_type": "code",
      "metadata": {
        "id": "BC1Fu4v6nVtk",
        "colab_type": "code",
        "colab": {
          "base_uri": "https://localhost:8080/",
          "height": 591
        },
        "outputId": "9bc4357d-f2b4-48f0-bc1a-2bccb0056768"
      },
      "source": [
        "# Pie chart showing percentage of movies in each genre\n",
        "movies_genre['title'].plot.pie(title= 'Movies per Genre in %', figsize=(10,10), autopct='%1.1f%%',fontsize=15);"
      ],
      "execution_count": null,
      "outputs": [
        {
          "output_type": "display_data",
          "data": {
            "image/png": "[encoded data removed]",
            "text/plain": [
              "<Figure size 720x720 with 1 Axes>"
            ]
          },
          "metadata": {
            "tags": []
          }
        }
      ]
    },
    {
      "cell_type": "markdown",
      "metadata": {
        "id": "6nxJVKtbnVtl",
        "colab_type": "text"
      },
      "source": [
        "\n",
        "In this bar graph we can see that Drama and Comedy are by far most popular."
      ]
    },
    {
      "cell_type": "code",
      "metadata": {
        "id": "p8w7Rh6bnVtm",
        "colab_type": "code",
        "colab": {
          "base_uri": "https://localhost:8080/",
          "height": 553
        },
        "outputId": "bec43fde-cc4b-4f90-cd96-6eaf90062c59"
      },
      "source": [
        "# Display in bar chart\n",
        "movies_genre['title'].plot.barh(title = 'Movies per Genre',color='DarkBlue', figsize=(10, 9));"
      ],
      "execution_count": null,
      "outputs": [
        {
          "output_type": "display_data",
          "data": {
            "image/png": "[encoded data removed]",
            "text/plain": [
              "<Figure size 720x648 with 1 Axes>"
            ]
          },
          "metadata": {
            "tags": [],
            "needs_background": "light"
          }
        }
      ]
    },
    {
      "cell_type": "markdown",
      "metadata": {
        "id": "Lcwboznnyv1n",
        "colab_type": "text"
      },
      "source": [
        "Lastly we will take a glimpse of the imdb dataset.\n",
        "\n",
        "We merged the imdb and movies dataframes for us to more effectively go about getting insights. "
      ]
    },
    {
      "cell_type": "code",
      "metadata": {
        "id": "Z6ASPgXLzNXR",
        "colab_type": "code",
        "colab": {
          "base_uri": "https://localhost:8080/",
          "height": 204
        },
        "outputId": "999b8f2f-87fb-4481-d453-c427ba1ccbbe"
      },
      "source": [
        "imd_movies = movies.merge(imdb, on='movieId')\n",
        "imd_movies.head()"
      ],
      "execution_count": null,
      "outputs": [
        {
          "output_type": "execute_result",
          "data": {
            "text/html": [
              "<div>\n",
              "<style scoped>\n",
              "    .dataframe tbody tr th:only-of-type {\n",
              "        vertical-align: middle;\n",
              "    }\n",
              "\n",
              "    .dataframe tbody tr th {\n",
              "        vertical-align: top;\n",
              "    }\n",
              "\n",
              "    .dataframe thead th {\n",
              "        text-align: right;\n",
              "    }\n",
              "</style>\n",
              "<table border=\"1\" class=\"dataframe\">\n",
              "  <thead>\n",
              "    <tr style=\"text-align: right;\">\n",
              "      <th></th>\n",
              "      <th>movieId</th>\n",
              "      <th>title</th>\n",
              "      <th>title_cast</th>\n",
              "      <th>director</th>\n",
              "      <th>runtime</th>\n",
              "      <th>budget</th>\n",
              "      <th>plot_keywords</th>\n",
              "    </tr>\n",
              "  </thead>\n",
              "  <tbody>\n",
              "    <tr>\n",
              "      <th>0</th>\n",
              "      <td>1</td>\n",
              "      <td>Toy Story (1995)</td>\n",
              "      <td>Tom Hanks|Tim Allen|Don Rickles|Jim Varney|Wal...</td>\n",
              "      <td>John Lasseter</td>\n",
              "      <td>81.0</td>\n",
              "      <td>$30,000,000</td>\n",
              "      <td>toy|rivalry|cowboy|cgi animation</td>\n",
              "    </tr>\n",
              "    <tr>\n",
              "      <th>1</th>\n",
              "      <td>2</td>\n",
              "      <td>Jumanji (1995)</td>\n",
              "      <td>Robin Williams|Jonathan Hyde|Kirsten Dunst|Bra...</td>\n",
              "      <td>Jonathan Hensleigh</td>\n",
              "      <td>104.0</td>\n",
              "      <td>$65,000,000</td>\n",
              "      <td>board game|adventurer|fight|game</td>\n",
              "    </tr>\n",
              "    <tr>\n",
              "      <th>2</th>\n",
              "      <td>3</td>\n",
              "      <td>Grumpier Old Men (1995)</td>\n",
              "      <td>Walter Matthau|Jack Lemmon|Sophia Loren|Ann-Ma...</td>\n",
              "      <td>Mark Steven Johnson</td>\n",
              "      <td>101.0</td>\n",
              "      <td>$25,000,000</td>\n",
              "      <td>boat|lake|neighbor|rivalry</td>\n",
              "    </tr>\n",
              "    <tr>\n",
              "      <th>3</th>\n",
              "      <td>4</td>\n",
              "      <td>Waiting to Exhale (1995)</td>\n",
              "      <td>Whitney Houston|Angela Bassett|Loretta Devine|...</td>\n",
              "      <td>Terry McMillan</td>\n",
              "      <td>124.0</td>\n",
              "      <td>$16,000,000</td>\n",
              "      <td>black american|husband wife relationship|betra...</td>\n",
              "    </tr>\n",
              "    <tr>\n",
              "      <th>4</th>\n",
              "      <td>5</td>\n",
              "      <td>Father of the Bride Part II (1995)</td>\n",
              "      <td>Steve Martin|Diane Keaton|Martin Short|Kimberl...</td>\n",
              "      <td>Albert Hackett</td>\n",
              "      <td>106.0</td>\n",
              "      <td>$30,000,000</td>\n",
              "      <td>fatherhood|doberman|dog|mansion</td>\n",
              "    </tr>\n",
              "  </tbody>\n",
              "</table>\n",
              "</div>"
            ],
            "text/plain": [
              "   movieId  ...                                      plot_keywords\n",
              "0        1  ...                   toy|rivalry|cowboy|cgi animation\n",
              "1        2  ...                   board game|adventurer|fight|game\n",
              "2        3  ...                         boat|lake|neighbor|rivalry\n",
              "3        4  ...  black american|husband wife relationship|betra...\n",
              "4        5  ...                    fatherhood|doberman|dog|mansion\n",
              "\n",
              "[5 rows x 7 columns]"
            ]
          },
          "metadata": {
            "tags": []
          },
          "execution_count": 28
        }
      ]
    },
    {
      "cell_type": "code",
      "metadata": {
        "id": "2QmkQpqbnVtr",
        "colab_type": "code",
        "colab": {}
      },
      "source": [
        "# Split genres and create a new entry for each of the genre a movie falls into\n",
        "z = imd_movies['title_cast'].str.split('|').apply(Series, 1).stack()\n",
        "z.index = z.index.droplevel(-1)\n",
        "z.name = 'title_cast'\n",
        "del imd_movies['title_cast']\n",
        "imd_movies_split_title_cast = imd_movies.join(z)"
      ],
      "execution_count": null,
      "outputs": []
    },
    {
      "cell_type": "markdown",
      "metadata": {
        "id": "XyOXGopfnVts",
        "colab_type": "text"
      },
      "source": [
        "Here we can see which actors have starred in the most movies."
      ]
    },
    {
      "cell_type": "code",
      "metadata": {
        "id": "68WdC_JHnVtt",
        "colab_type": "code",
        "colab": {
          "base_uri": "https://localhost:8080/",
          "height": 289
        },
        "outputId": "b6ac4524-e58b-4742-8265-461dd03ff502"
      },
      "source": [
        "imd_movies_split_title_cast['title_cast'].value_counts().head(15)"
      ],
      "execution_count": null,
      "outputs": [
        {
          "output_type": "execute_result",
          "data": {
            "text/plain": [
              "Samuel L. Jackson     79\n",
              "Steve Buscemi         65\n",
              "Robert De Niro        57\n",
              "Willem Dafoe          55\n",
              "Gérard Depardieu      55\n",
              "Nicolas Cage          55\n",
              "Bruce Willis          54\n",
              "Brian Cox             54\n",
              "Keith David           54\n",
              "Christopher Walken    54\n",
              "Stanley Tucci         53\n",
              "Morgan Freeman        53\n",
              "Danny Glover          53\n",
              "Richard Jenkins       53\n",
              "Woody Harrelson       53\n",
              "Name: title_cast, dtype: int64"
            ]
          },
          "metadata": {
            "tags": []
          },
          "execution_count": 30
        }
      ]
    },
    {
      "cell_type": "markdown",
      "metadata": {
        "id": "98-ie4URnVtv",
        "colab_type": "text"
      },
      "source": [
        "As to be expected: Samuel L. Jackson, Steve Buscemi and Robert De Niro have appeared in most movies."
      ]
    },
    {
      "cell_type": "markdown",
      "metadata": {
        "id": "5ruU692XnVtw",
        "colab_type": "text"
      },
      "source": [
        "Here we can see which director has directed the most movies."
      ]
    },
    {
      "cell_type": "code",
      "metadata": {
        "id": "WT6mUqAGnVtw",
        "colab_type": "code",
        "colab": {
          "base_uri": "https://localhost:8080/",
          "height": 289
        },
        "outputId": "7b1ad50d-a68d-444e-a709-ec1fa314a7af"
      },
      "source": [
        "imd_movies['director'].value_counts().head(15)"
      ],
      "execution_count": null,
      "outputs": [
        {
          "output_type": "execute_result",
          "data": {
            "text/plain": [
              "Luc Besson             26\n",
              "Woody Allen            26\n",
              "See full summary       25\n",
              "Stephen King           23\n",
              "William Shakespeare    18\n",
              "Lars von Trier         15\n",
              "Ki-duk Kim             15\n",
              "Tyler Perry            15\n",
              "Robert Rodriguez       14\n",
              "David Mamet            13\n",
              "Peter Farrelly         13\n",
              "Alex Gibney            13\n",
              "Olivier Assayas        12\n",
              "Takeshi Kitano         12\n",
              "Sang-soo Hong          12\n",
              "Name: director, dtype: int64"
            ]
          },
          "metadata": {
            "tags": []
          },
          "execution_count": 31
        }
      ]
    },
    {
      "cell_type": "markdown",
      "metadata": {
        "id": "R8mwgeNenVty",
        "colab_type": "text"
      },
      "source": [
        "Woody Allen and Luc Besson have directed the most movies.     \n",
        "       "
      ]
    },
    {
      "cell_type": "markdown",
      "metadata": {
        "id": "hg1TtqIhzNXz",
        "colab_type": "text"
      },
      "source": [
        "# Model Building"
      ]
    },
    {
      "cell_type": "markdown",
      "metadata": {
        "id": "aj5fQcy41oJn",
        "colab_type": "text"
      },
      "source": [
        "We will use a technique called ***collaborative filtering*** to make recommendations to movie watchers. Collaborative filtering is the most common technique used when it comes to building intelligent recommender systems that can learn to give better recommendations as more information about users is collected.Collaborative filtering provides many advantages over content-based filtering. A few of them are as follows: Not required to understand item content: The content of the items does not necessarily tell the whole story, such as movie type/genre, and so on.\n",
        "\n",
        "We will not be implementing collaborative filtering from scratch. Instead, we will use the Surprise library that used extremely powerful algorithms like Singular Value Decomposition (SVD) to minimise RMSE (Root Mean Square Error) and give great recommendations.\n",
        "\n",
        "Most websites like Amazon, YouTube, and Netflix use collaborative filtering as a part of their sophisticated recommendation systems. We can use this technique to build recommenders that give suggestions to a user on the basis of the likes and dislikes of similar users."
      ]
    },
    {
      "cell_type": "markdown",
      "metadata": {
        "id": "2LKYX9vVzNX0",
        "colab_type": "text"
      },
      "source": [
        "Our collaborative filtering model uses a **Single Value Decomposition (SVD)** algorithm:\n",
        "\n",
        "One way to handle the scalability and sparsity issue created by colaborative filtering is to leverage a latent factor model to capture the similarity between users and items. Essentially, we want to turn the recommendation problem into an optimization problem. We can view it as how good we are in predicting the rating for items given a user. One common metric is Root Mean Square Error (RMSE). The lower the RMSE, the better the performance.\n",
        "\n",
        "The latent factor you might be wondering is a broad idea which describes a property or concept that a user or an item has. SVD decreases the dimension of the utility matrix by extracting its latent factors. Essentially, we map each user and each item into a latent space with dimension r. Therefore, it helps us better understand the relationship between users and items as they become directly comparable. "
      ]
    },
    {
      "cell_type": "code",
      "metadata": {
        "id": "3XWQ3T_W2K6G",
        "colab_type": "code",
        "colab": {
          "base_uri": "https://localhost:8080/",
          "height": 102
        },
        "outputId": "dd7a4dcd-4508-4aad-890b-bd9ac78bc4f2"
      },
      "source": [
        "# Run if running from colab\n",
        "!pip install scikit-surprise"
      ],
      "execution_count": 39,
      "outputs": [
        {
          "output_type": "stream",
          "text": [
            "Requirement already satisfied: scikit-surprise in /usr/local/lib/python3.6/dist-packages (1.1.1)\n",
            "Requirement already satisfied: numpy>=1.11.2 in /usr/local/lib/python3.6/dist-packages (from scikit-surprise) (1.18.5)\n",
            "Requirement already satisfied: joblib>=0.11 in /usr/local/lib/python3.6/dist-packages (from scikit-surprise) (0.16.0)\n",
            "Requirement already satisfied: scipy>=1.0.0 in /usr/local/lib/python3.6/dist-packages (from scikit-surprise) (1.4.1)\n",
            "Requirement already satisfied: six>=1.10.0 in /usr/local/lib/python3.6/dist-packages (from scikit-surprise) (1.15.0)\n"
          ],
          "name": "stdout"
        }
      ]
    },
    {
      "cell_type": "code",
      "metadata": {
        "id": "NSPSbZEE2LAh",
        "colab_type": "code",
        "colab": {}
      },
      "source": [
        "# Importing the surprise packages we need\n",
        "from surprise.model_selection import KFold\n",
        "from surprise import NormalPredictor\n",
        "from surprise import SVD\n",
        "from surprise import Dataset\n",
        "from surprise import accuracy\n",
        "from surprise import Reader\n",
        "from surprise.model_selection import cross_validate\n",
        "reader = Reader(rating_scale=(1, 5))"
      ],
      "execution_count": null,
      "outputs": []
    },
    {
      "cell_type": "code",
      "metadata": {
        "id": "XhkbK8XK2LGe",
        "colab_type": "code",
        "colab": {
          "base_uri": "https://localhost:8080/",
          "height": 85
        },
        "outputId": "de55fecd-2555-4d8e-b55f-1b94befb5d2b"
      },
      "source": [
        "# Setting up our data variable to use in our surprise pacakage\n",
        "data = Dataset.load_from_df(train[['userId', 'movieId', 'rating']], reader=reader)\n",
        "cross_validate(NormalPredictor(), data, cv=2)\n",
        "# cross_validate(SVD(), data, cv=2)"
      ],
      "execution_count": null,
      "outputs": [
        {
          "output_type": "execute_result",
          "data": {
            "text/plain": [
              "{'fit_time': (12.653549909591675, 18.226059675216675),\n",
              " 'test_mae': array([1.15089397, 1.15017628]),\n",
              " 'test_rmse': array([1.44307856, 1.44243083]),\n",
              " 'test_time': (81.47926139831543, 63.25088667869568)}"
            ]
          },
          "metadata": {
            "tags": []
          },
          "execution_count": 34
        }
      ]
    },
    {
      "cell_type": "code",
      "metadata": {
        "id": "HIv57T-L3H6k",
        "colab_type": "code",
        "colab": {
          "base_uri": "https://localhost:8080/",
          "height": 68
        },
        "outputId": "31d37289-74b8-4dca-a543-7c2e8fcdcef0"
      },
      "source": [
        "kf = KFold(n_splits=3)\n",
        "algo = SVD()\n",
        "\n",
        "for trainset, testset in kf.split(data):\n",
        "\n",
        "    # train and test algorithm.\n",
        "    algo.fit(trainset)\n",
        "    predictions = algo.test(testset)\n",
        "\n",
        "    # Compute and print Root Mean Squared Error\n",
        "    accuracy.rmse(predictions, verbose=True)"
      ],
      "execution_count": 36,
      "outputs": [
        {
          "output_type": "stream",
          "text": [
            "RMSE: 0.8457\n",
            "RMSE: 0.8462\n",
            "RMSE: 0.8458\n"
          ],
          "name": "stdout"
        }
      ]
    },
    {
      "cell_type": "markdown",
      "metadata": {
        "id": "fIjlPixjzNX7",
        "colab_type": "text"
      },
      "source": [
        "Fitting our algorithm on the whole dataset."
      ]
    },
    {
      "cell_type": "code",
      "metadata": {
        "id": "_7wStM2vA1L6",
        "colab_type": "code",
        "colab": {
          "base_uri": "https://localhost:8080/",
          "height": 34
        },
        "outputId": "85a5bab2-e3c0-4b5a-97bf-bd1f662de947"
      },
      "source": [
        "# After gridsearch. Best parameters : n_epochs=10, lr_all=0.005, reg_all=0.4\n",
        "algo.fit(data.build_full_trainset())"
      ],
      "execution_count": 40,
      "outputs": [
        {
          "output_type": "execute_result",
          "data": {
            "text/plain": [
              "<surprise.prediction_algorithms.matrix_factorization.SVD at 0x7f0518188438>"
            ]
          },
          "metadata": {
            "tags": []
          },
          "execution_count": 40
        }
      ]
    },
    {
      "cell_type": "code",
      "metadata": {
        "id": "0aTEtfQzOeei",
        "colab_type": "code",
        "colab": {}
      },
      "source": [
        "# run to create a pickle file\n",
        "import pickle\n",
        "# Pickle the model\n",
        "model_save_path = \"SVD_full_dataset.pkl\"\n",
        "with open(model_save_path, 'wb') as file:\n",
        "  pickle.dump(algo, file)"
      ],
      "execution_count": 43,
      "outputs": []
    },
    {
      "cell_type": "code",
      "metadata": {
        "id": "D7bI9U5YA9-K",
        "colab_type": "code",
        "colab": {
          "base_uri": "https://localhost:8080/",
          "height": 187
        },
        "outputId": "4fb4744f-38eb-496d-d637-7a990059ae9f"
      },
      "source": [
        "# This for loop generates a list containing all our predictions.\n",
        "ratings = []\n",
        "for _, row in test.iterrows():\n",
        "    ratings.append(algo.predict(row.userId, row.movieId).est)\n",
        "\n",
        "ratings[0:10]"
      ],
      "execution_count": 41,
      "outputs": [
        {
          "output_type": "execute_result",
          "data": {
            "text/plain": [
              "[3.598133906808338,\n",
              " 4.295366644380127,\n",
              " 3.6799874303176563,\n",
              " 4.423686382893926,\n",
              " 2.9567473562897186,\n",
              " 3.7358433156685558,\n",
              " 4.233049231233722,\n",
              " 3.6390966440183443,\n",
              " 3.6348234991937023,\n",
              " 3.142550830216438]"
            ]
          },
          "metadata": {
            "tags": []
          },
          "execution_count": 41
        }
      ]
    },
    {
      "cell_type": "code",
      "metadata": {
        "id": "IFLrgi7pzNYN",
        "colab_type": "code",
        "colab": {}
      },
      "source": [
        "# setting up our test dataframe for submission.\n",
        "test['rating'] = ratings\n",
        "test['Id'] = test[['userId', 'movieId']].astype(str).agg('_'.join, axis=1)\n",
        "test.head()"
      ],
      "execution_count": null,
      "outputs": []
    },
    {
      "cell_type": "code",
      "metadata": {
        "id": "Uo-HSd5fzNYX",
        "colab_type": "code",
        "colab": {}
      },
      "source": [
        "# Creating our submission csv file. Score of 0.81885.\n",
        "test_df = test.copy()\n",
        "test_df.drop(columns=['movieId', 'userId'], inplace=True)\n",
        "test_df.to_csv('Submission_5.csv', index=False)\n",
        "test_df"
      ],
      "execution_count": null,
      "outputs": []
    },
    {
      "cell_type": "code",
      "metadata": {
        "id": "Kp6zq8kDzNYe",
        "colab_type": "code",
        "colab": {}
      },
      "source": [
        "ratings_dict = {'itemId': list(train.movieId),\n",
        "                'userId': list(train.userId),\n",
        "                'rating': list(train.rating)}\n",
        "\n",
        "df = pd.DataFrame(ratings_dict)\n",
        "df.head()\n"
      ],
      "execution_count": null,
      "outputs": []
    },
    {
      "cell_type": "markdown",
      "metadata": {
        "id": "ckzI44HszNYj",
        "colab_type": "text"
      },
      "source": [
        "\n",
        "The following function will create a pandas data frame which will consist of these columns:\n",
        "\n",
        "UID: user-id\n",
        "\n",
        "iid: item id\n",
        "\n",
        "Rui: the rating given by the user\n",
        "\n",
        "est: rating estimated by the model\n",
        "\n",
        "Iu: No of items rated by the user\n",
        "\n",
        "UI: number of users that have rated this item\n",
        "\n",
        "err: abs difference between predicted rating and the actual rating."
      ]
    },
    {
      "cell_type": "code",
      "metadata": {
        "id": "GfxM9n_wzNYk",
        "colab_type": "code",
        "colab": {}
      },
      "source": [
        "def get_Iu(uid):\n",
        "    \"\"\" \n",
        "    args: \n",
        "      uid: the id of the user\n",
        "    returns: \n",
        "      the number of items rated by the user\n",
        "    \"\"\"\n",
        "    try:\n",
        "        return len(trainset.ur[trainset.to_inner_uid(uid)])\n",
        "    except ValueError:  # user was not part of the trainset\n",
        "        return 0\n",
        "    \n",
        "def get_Ui(iid):\n",
        "    \"\"\" \n",
        "    args:\n",
        "      iid: the raw id of the item\n",
        "    returns:\n",
        "      the number of users that have rated the item.\n",
        "    \"\"\"\n",
        "    try: \n",
        "        return len(trainset.ir[trainset.to_inner_iid(iid)])\n",
        "    except ValueError:\n",
        "        return 0\n",
        "\n",
        "    \n",
        "df_predictions = pd.DataFrame(predictions, columns=['uid', 'iid', 'rui', 'est', 'details'])\n",
        "df_predictions['Iu'] = df_predictions.uid.apply(get_Iu)\n",
        "df_predictions['Ui'] = df_predictions.iid.apply(get_Ui)\n",
        "df_predictions['err'] = abs(df_predictions.est - df_predictions.rui)\n"
      ],
      "execution_count": null,
      "outputs": []
    },
    {
      "cell_type": "code",
      "metadata": {
        "id": "EPilhVFCzNYr",
        "colab_type": "code",
        "colab": {}
      },
      "source": [
        "df_predictions.head()"
      ],
      "execution_count": null,
      "outputs": []
    },
    {
      "cell_type": "markdown",
      "metadata": {
        "id": "hg1A7-ZAqVSg",
        "colab_type": "text"
      },
      "source": [
        "# Evaluating our Model's predictive ability and accuracy:\n",
        "\n",
        "By doing analysis on our Model's findings we can extract some important findings."
      ]
    },
    {
      "cell_type": "markdown",
      "metadata": {
        "id": "40mSEIqJzNYy",
        "colab_type": "text"
      },
      "source": [
        " # Top 10 best and worst predictions by model\n",
        "\n",
        " Here we can see our model's 10 best and worst predictions. This shows us where we have room for improvement."
      ]
    },
    {
      "cell_type": "code",
      "metadata": {
        "id": "NXwZmRQdzNYz",
        "colab_type": "code",
        "colab": {}
      },
      "source": [
        "# Best and Worst predictions\n",
        "best_predictions = df_predictions.sort_values(by='err')[:10]\n",
        "worst_predictions = df_predictions.sort_values(by='err')[-10:]"
      ],
      "execution_count": null,
      "outputs": []
    },
    {
      "cell_type": "code",
      "metadata": {
        "id": "iU8Bn8ZnzNY6",
        "colab_type": "code",
        "colab": {}
      },
      "source": [
        "# Viewing 10 best predictions\n",
        "best_predictions"
      ],
      "execution_count": null,
      "outputs": []
    },
    {
      "cell_type": "code",
      "metadata": {
        "id": "UAHV51WazNZB",
        "colab_type": "code",
        "colab": {}
      },
      "source": [
        "# Viewing 10 worst predictions\n",
        "worst_predictions"
      ],
      "execution_count": null,
      "outputs": []
    },
    {
      "cell_type": "markdown",
      "metadata": {
        "id": "CutMg5P1zNZb",
        "colab_type": "text"
      },
      "source": [
        "# K Recommendations"
      ]
    },
    {
      "cell_type": "markdown",
      "metadata": {
        "id": "AsGk_hF5zNZc",
        "colab_type": "text"
      },
      "source": [
        "Recall and precision at K Recall and precision are the classical evaluation metric and are used to evaluate the binary metric and so we have to convert our rating which is scaled from (1-5) into a binary problem relevant and not relevant items."
      ]
    },
    {
      "cell_type": "markdown",
      "metadata": {
        "id": "E2rd4yBRzNZe",
        "colab_type": "text"
      },
      "source": [
        "#Conversion to binary\n",
        "\n",
        "To do the translation we have to select an arbitrary value on which we can say any rating above that will be considered relevant. There are many methods on selecting that value but for now, we will select 3.5 as the threshold, which means any true rating above 3.5 will be considered relevant and below will be not relevant."
      ]
    },
    {
      "cell_type": "markdown",
      "metadata": {
        "id": "8jr_p608zNZf",
        "colab_type": "text"
      },
      "source": [
        "Deciding 'k'\n",
        "\n",
        "In recommendation systems, we are interested in showing the top N items to users and so the best way is to compute precision and recall on top N values instead of calculating on all the items."
      ]
    },
    {
      "cell_type": "markdown",
      "metadata": {
        "id": "E7ERZCx6zNZh",
        "colab_type": "text"
      },
      "source": [
        "Definition of Relevant and Recommended\n",
        "Relevant: True Rating > = 3.5\n",
        "\n",
        "Irrelevant: True Rating < 3.5\n",
        "\n",
        "Recommended item: Predicted Rating > = 3.5\n",
        "\n",
        "Not Recommended item: Predicted Rating > = 3.5"
      ]
    },
    {
      "cell_type": "markdown",
      "metadata": {
        "id": "YvXjroJqzNZi",
        "colab_type": "text"
      },
      "source": [
        "Definition of Precision and Recall\n",
        "Precision: It tries to answer \"What proportion of positive identifications was actually correct?\" i.e True positive / (True positive+False Positive) in RecSys we can say (number of recommended items at k that are relevant) / (number of recommended items at k)\n",
        "\n",
        "Recall: It tries to answer \"What proportion of actual positives were identified correctly?\" i.e True positive / (True Positive+False Negative) in RecSys we can say (# of recommended items @k that are relevant) / (# of relevant items @k)"
      ]
    },
    {
      "cell_type": "markdown",
      "metadata": {
        "id": "XLQLD9u4zNZk",
        "colab_type": "text"
      },
      "source": [
        "While recall expresses the ability to find all relevant instances in a dataset, precision expresses the proportion of the data points our model says was relevant actually were relevant."
      ]
    },
    {
      "cell_type": "markdown",
      "metadata": {
        "id": "zD_RSX06zNZm",
        "colab_type": "text"
      },
      "source": [
        "In some circumstances, we might know that we need to maximize either recall or precision at the cost of the other metric. For example, in disease screening of patients, we would probably want a recall near 1.0 i.e. we want to find all patients who have the disease.\n",
        "\n",
        "However, in cases where we want to obtain an optimal blend of precision and recall, we can use F1 score which is the harmonic mean of precision and recall taking both metrics into account while calculating it.\n",
        "\n",
        "f1 score = 2 * (precision * recall) / (precision + recall)"
      ]
    },
    {
      "cell_type": "markdown",
      "metadata": {
        "id": "c5IbRJ3gzNZn",
        "colab_type": "text"
      },
      "source": [
        "The below function computes precision and recall and F1 socre as explained above."
      ]
    },
    {
      "cell_type": "code",
      "metadata": {
        "id": "GFGhyV9OzNZo",
        "colab_type": "code",
        "colab": {}
      },
      "source": [
        "#Calculate TP,FP,TN,FN at every threshold level (0.0 - 5.0)\n",
        "final = []\n",
        "\n",
        "for threshold in np.arange(0, 5.5, 0.5):\n",
        "    tp=0\n",
        "    fn=0\n",
        "    fp=0\n",
        "    tn=0\n",
        "    temp = []\n",
        "\n",
        "    for uid, _, true_r, est, _ in predictions:\n",
        "        if(true_r>=threshold):\n",
        "            if(est>=threshold):\n",
        "                tp = tp+1\n",
        "            else:\n",
        "                fn = fn+1\n",
        "        else:\n",
        "            if(est>=threshold):\n",
        "                fp = fp+1\n",
        "            else:\n",
        "                tn = tn+1   \n",
        "\n",
        "        if tp == 0:\n",
        "            precision = 0\n",
        "            recall = 0\n",
        "            f1 = 0\n",
        "        else:\n",
        "            precision = tp / (tp + fp)\n",
        "            recall = tp / (tp + fn)\n",
        "            f1 = 2 * (precision * recall) / (precision + recall)  \n",
        "\n",
        "    temp = [threshold, tp,fp,tn ,fn, precision, recall, f1]\n",
        "    final.append(temp)\n",
        "\n",
        "results = pd.DataFrame(final)\n",
        "results.rename(columns={0:'threshold', 1:'tp', 2: 'fp', 3: 'tn', 4:'fn', 5: 'Precision', 6:'Recall', 7:'F1'}, inplace=True)\n",
        "results"
      ],
      "execution_count": null,
      "outputs": []
    },
    {
      "cell_type": "markdown",
      "metadata": {
        "id": "EIrRALn-zNZu",
        "colab_type": "text"
      },
      "source": [
        "As per the results above, the optimal value for threshold is 2.5.\n",
        "\n",
        "The next step is to find the optimal K value, and to find if we have to first calculate precision and recall for all the K values(2-10) having threshold value 2.5.\n",
        "\n",
        "Below is the function to calculate precision and recall at K."
      ]
    },
    {
      "cell_type": "code",
      "metadata": {
        "id": "r0wacnznzNZw",
        "colab_type": "code",
        "colab": {}
      },
      "source": [
        "def precision_recall_at_k(predictions, k, threshold):\n",
        "    '''Return precision and recall at k metrics for each user.'''\n",
        "\n",
        "    # First map the predictions to each user.\n",
        "    user_est_true = defaultdict(list)\n",
        "    for uid, _, true_r, est, _ in predictions:\n",
        "        user_est_true[uid].append((est, true_r))\n",
        "\n",
        "    precisions = dict()\n",
        "    recalls = dict()\n",
        "    for uid, user_ratings in user_est_true.items():\n",
        "\n",
        "        # Sort user ratings by estimated value\n",
        "        user_ratings.sort(key=lambda x: x[0], reverse=True)\n",
        "\n",
        "        # Number of relevant items\n",
        "        n_rel = sum((true_r >= threshold) for (_, true_r) in user_ratings)\n",
        "\n",
        "        # Number of recommended items in top k\n",
        "        n_rec_k = sum((est >= threshold) for (est, _) in user_ratings[:k])\n",
        "\n",
        "        # Number of relevant and recommended items in top k\n",
        "        n_rel_and_rec_k = sum(((true_r >= threshold) and (est >= threshold))\n",
        "                              for (est, true_r) in user_ratings[:k])\n",
        "\n",
        "        # Precision@K: Proportion of recommended items that are relevant\n",
        "        precisions[uid] = n_rel_and_rec_k / n_rec_k if n_rec_k != 0 else 1\n",
        "\n",
        "        # Recall@K: Proportion of relevant items that are recommended\n",
        "        recalls[uid] = n_rel_and_rec_k / n_rel if n_rel != 0 else 1\n",
        "\n",
        "    #tp = n_rel_and_rec_k\n",
        "    #fn =  n_rel - tp\n",
        "    #fp = n_rec_k - tp\n",
        "    return precisions, recalls\n",
        "    "
      ],
      "execution_count": null,
      "outputs": []
    },
    {
      "cell_type": "code",
      "metadata": {
        "id": "8hD7jGUPzNZ0",
        "colab_type": "code",
        "colab": {}
      },
      "source": [
        "results=[]\n",
        "for i in range(2, 11):\n",
        "    precisions, recalls = precision_recall_at_k(predictions, k=i, threshold=2.5)\n",
        "\n",
        "    # Precision and recall can then be averaged over all users\n",
        "    prec = sum(prec for prec in precisions.values()) / len(precisions)\n",
        "    rec = sum(rec for rec in recalls.values()) / len(recalls)\n",
        "    results.append({'K': i, 'Precision': prec, 'Recall': rec})"
      ],
      "execution_count": null,
      "outputs": []
    },
    {
      "cell_type": "code",
      "metadata": {
        "id": "06oLGgEQzNZ4",
        "colab_type": "code",
        "colab": {}
      },
      "source": [
        "Rec = []\n",
        "Precision = []\n",
        "Recall = []\n",
        "for i in range(0, 9):\n",
        "    Rec.append(results[i]['K'])\n",
        "    Precision.append(results[i]['Precision'])\n",
        "    Recall.append(results[i]['Recall'])\n",
        "\n",
        "plt.plot(Rec, Precision)\n",
        "plt.xlabel('# of Recommendations')\n",
        "plt.ylabel('Precision')\n",
        "plt2 = plt.twinx()\n",
        "plt2.plot(Rec, Recall, 'r')\n",
        "plt.ylabel('Recall')\n",
        "\n",
        "for tl in plt2.get_yticklabels():\n",
        "    tl.set_color('r')\n"
      ],
      "execution_count": null,
      "outputs": []
    },
    {
      "cell_type": "markdown",
      "metadata": {
        "id": "gm2wHW8YzNZ9",
        "colab_type": "text"
      },
      "source": [
        "As the graph states, Precision drops significantly when K=4\n",
        "\n",
        "So we will consider the value of K to be 4."
      ]
    },
    {
      "cell_type": "markdown",
      "metadata": {
        "id": "xw23eYWPzNZ-",
        "colab_type": "text"
      },
      "source": [
        " #  Testing Model's Recommendation Ability"
      ]
    },
    {
      "cell_type": "markdown",
      "metadata": {
        "id": "0uU3cAtJzNZ_",
        "colab_type": "text"
      },
      "source": [
        "As we know the optimal number of recommendations to provide, it's time to give recommendations to users. To do so we have to predict ratings for the movies which user have not yet watched."
      ]
    },
    {
      "cell_type": "markdown",
      "metadata": {
        "id": "55_KYU_4zNaA",
        "colab_type": "text"
      },
      "source": [
        "Here we will be using build_anti_testset() method to get the data for testset as we have to predict ratings for the (user, item) pairs which are not present."
      ]
    },
    {
      "cell_type": "code",
      "metadata": {
        "id": "ic_g24YzzNaG",
        "colab_type": "code",
        "colab": {}
      },
      "source": [
        "def get_all_predictions(predictions):\n",
        "    \n",
        "    # First map the predictions to each user.\n",
        "    top_n = defaultdict(list)    \n",
        "    for uid, iid, true_r, est, _ in predictions:\n",
        "        top_n[uid].append((iid, est))\n",
        "\n",
        "    # Then sort the predictions for each user\n",
        "    for uid, user_ratings in top_n.items():\n",
        "        user_ratings.sort(key=lambda x: x[1], reverse=True)\n",
        "\n",
        "    return top_n\n",
        "    "
      ],
      "execution_count": null,
      "outputs": []
    },
    {
      "cell_type": "code",
      "metadata": {
        "id": "OOCoCqFszNaN",
        "colab_type": "code",
        "colab": {}
      },
      "source": [
        "all_pred = get_all_predictions(predictions)\n"
      ],
      "execution_count": null,
      "outputs": []
    },
    {
      "cell_type": "markdown",
      "metadata": {
        "id": "WoLU5WDGzNaW",
        "colab_type": "text"
      },
      "source": [
        "As we have all the predicted rating, we'll subset to only top K movies for every user, where K is 4"
      ]
    },
    {
      "cell_type": "code",
      "metadata": {
        "id": "g8J083adzNaX",
        "colab_type": "code",
        "colab": {}
      },
      "source": [
        "#To get top 4 recommendation\n",
        "n = 4\n",
        "\n",
        "for uid, user_ratings in all_pred.items():\n",
        "    user_ratings.sort(key=lambda x: x[1], reverse=True)\n",
        "    all_pred[uid] = user_ratings[:n]\n",
        "    "
      ],
      "execution_count": null,
      "outputs": []
    },
    {
      "cell_type": "code",
      "metadata": {
        "id": "KXSi38E5zNaf",
        "colab_type": "code",
        "colab": {}
      },
      "source": [
        "tmp2 = pd.DataFrame(dict([ (k,pd.Series(v)) for k,v in all_pred.items() ]))\n",
        "tmp2\n",
        "tmp_transpose = tmp2.transpose()\n"
      ],
      "execution_count": null,
      "outputs": []
    },
    {
      "cell_type": "code",
      "metadata": {
        "id": "KFUausRXzNaj",
        "colab_type": "code",
        "colab": {}
      },
      "source": [
        "tmp_transpose\n"
      ],
      "execution_count": null,
      "outputs": []
    },
    {
      "cell_type": "markdown",
      "metadata": {
        "id": "af9kJbx_zNao",
        "colab_type": "text"
      },
      "source": [
        "Now we have a dataframe which consits of top 4 movies recommended to every user.\n",
        "Let's try one example and find recommendations for user 67.\n",
        "\n",
        "Also in our streamlit app."
      ]
    },
    {
      "cell_type": "code",
      "metadata": {
        "id": "DhQXQC0uzNap",
        "colab_type": "code",
        "colab": {}
      },
      "source": [
        "def get_predictions(user_id):\n",
        "    results = tmp_transpose.loc[user_id]\n",
        "    return results\n",
        "    "
      ],
      "execution_count": null,
      "outputs": []
    },
    {
      "cell_type": "code",
      "metadata": {
        "id": "FwksLDfAzNat",
        "colab_type": "code",
        "colab": {}
      },
      "source": [
        "user_id = 67\n",
        "results = get_predictions(user_id)\n",
        "results\n"
      ],
      "execution_count": null,
      "outputs": []
    },
    {
      "cell_type": "markdown",
      "metadata": {
        "id": "btNjVdgHzNax",
        "colab_type": "text"
      },
      "source": [
        "Above matrix is showing top \"4\" recommendations for user 67. (Movie-id, Predicted-Rating).\n",
        "But we just need the movies not the ratings, so let's extract the movie id's from the result."
      ]
    },
    {
      "cell_type": "code",
      "metadata": {
        "id": "ZkrQts7YzNay",
        "colab_type": "code",
        "colab": {}
      },
      "source": [
        "recommended_movie_ids = []\n",
        "for x in range(0, n):\n",
        "    recommended_movie_ids.append(results[x][0])\n",
        "\n",
        "recommended_movie_ids\n"
      ],
      "execution_count": null,
      "outputs": []
    },
    {
      "cell_type": "markdown",
      "metadata": {
        "id": "HjB2C1S_zNa5",
        "colab_type": "text"
      },
      "source": [
        "Now as we have the movie-id's to be recommended, Let's find out the movie details of those id's by reading the movie data."
      ]
    },
    {
      "cell_type": "code",
      "metadata": {
        "id": "VCR-CStwzNa6",
        "colab_type": "code",
        "colab": {}
      },
      "source": [
        "movies = pd.read_csv('movies.csv')\n",
        "movies.head()\n",
        "recommended_movies = movies[movies['movieId'].isin(recommended_movie_ids)]\n",
        "recommended_movies\n"
      ],
      "execution_count": null,
      "outputs": []
    },
    {
      "cell_type": "code",
      "metadata": {
        "id": "-nMnqVdxzNbB",
        "colab_type": "code",
        "colab": {}
      },
      "source": [
        "ratings_dict = {'itemId': list(train.movieId),\n",
        "                'userId': list(train.userId),\n",
        "                'rating': list(train.rating)}\n",
        "\n",
        "df = pd.DataFrame(ratings_dict)\n",
        "df.head()\n"
      ],
      "execution_count": null,
      "outputs": []
    },
    {
      "cell_type": "code",
      "metadata": {
        "id": "aM0a6aJ6zNbL",
        "colab_type": "code",
        "colab": {}
      },
      "source": [
        "temp = df[df['userId'] == 67].sort_values(\"rating\", ascending = False)\n",
        "temp.head()\n"
      ],
      "execution_count": null,
      "outputs": []
    },
    {
      "cell_type": "code",
      "metadata": {
        "id": "x_LjTifSzNbO",
        "colab_type": "code",
        "colab": {}
      },
      "source": [
        "temp.shape\n"
      ],
      "execution_count": null,
      "outputs": []
    },
    {
      "cell_type": "markdown",
      "metadata": {
        "id": "pbPTpI0WzNbT",
        "colab_type": "text"
      },
      "source": [
        "We can see that user 67 have rated 49 movies"
      ]
    },
    {
      "cell_type": "code",
      "metadata": {
        "id": "WeaAye2WzNbT",
        "colab_type": "code",
        "colab": {}
      },
      "source": [
        "history_movie_ids = temp['itemId']\n",
        "user_history = movies[movies['movieId'].isin(history_movie_ids)]\n"
      ],
      "execution_count": null,
      "outputs": []
    },
    {
      "cell_type": "code",
      "metadata": {
        "id": "OSHNL7TBzNbX",
        "colab_type": "code",
        "colab": {}
      },
      "source": [
        "user_history[:n]\n"
      ],
      "execution_count": null,
      "outputs": []
    },
    {
      "cell_type": "markdown",
      "metadata": {
        "id": "w6A_guk5zNba",
        "colab_type": "text"
      },
      "source": [
        "Now we can compare the results with the user history and see how relevant the recommendations are.\n",
        "\n",
        "\n",
        "Above is the user history and below the recommended movies"
      ]
    },
    {
      "cell_type": "code",
      "metadata": {
        "id": "CsvtRxCqzNbb",
        "colab_type": "code",
        "colab": {}
      },
      "source": [
        "recommended_movies\n"
      ],
      "execution_count": null,
      "outputs": []
    },
    {
      "cell_type": "markdown",
      "metadata": {
        "id": "-z7xLI-GzNbe",
        "colab_type": "text"
      },
      "source": [
        "The history of the user tells that they enjoy movies in the Adventure, Children,Animation, Drama, Comedy, Action and War genres. Our model recommends movies in the same genres, this gives us a good indication that our model has very good predictive/recommendation ability."
      ]
    },
    {
      "cell_type": "markdown",
      "metadata": {
        "id": "ozFV9un6MOQv",
        "colab_type": "text"
      },
      "source": [
        "# Conclusion"
      ]
    },
    {
      "cell_type": "markdown",
      "metadata": {
        "id": "Cb7bL1y4MP0P",
        "colab_type": "text"
      },
      "source": [
        "Our model was able to give great recommendations for movies and accurately predict a user's rating towards a movie, before they have even seen it, using a Collaborative filtering algorithm.\n",
        "\n",
        "As we assessed the overall performance of the model based on other non-statistical aspects we can conclude that the model has high predictive ability.\n",
        "\n",
        "This has an immense economic potential for the service providers and provides a pleasant experience to the consumers of the content"
      ]
    },
    {
      "cell_type": "markdown",
      "metadata": {
        "id": "IhfmzFB5zNbf",
        "colab_type": "text"
      },
      "source": [
        "# Appendix A"
      ]
    },
    {
      "cell_type": "markdown",
      "metadata": {
        "id": "3hNNKTj_zNbf",
        "colab_type": "text"
      },
      "source": [
        "This section contains things that might have not worked, our previous models and some testing we did. Feel free to have a look at everything we attempted. \n"
      ]
    },
    {
      "cell_type": "code",
      "metadata": {
        "id": "iP8ew6_BF7Pv",
        "colab_type": "code",
        "colab": {}
      },
      "source": [
        "from surprise.model_selection import GridSearchCV\n",
        "param_grid = {'n_epochs': [5, 10],\n",
        "              'lr_all': [0.002, 0.005],\n",
        "              'reg_all': [0.4, 0.6]}\n",
        "gs = GridSearchCV(SVD, param_grid, measures=['rmse', 'mae'], cv=3)\n",
        "gs.fit(data)\n",
        "\n",
        "# best RMSE score\n",
        "print(gs.best_score['rmse'])\n",
        "\n",
        "# combination of parameters that gave the best RMSE score\n",
        "print(gs.best_params['rmse'])\n"
      ],
      "execution_count": null,
      "outputs": []
    },
    {
      "cell_type": "code",
      "metadata": {
        "id": "nZhlvHoT8A0S",
        "colab_type": "code",
        "colab": {}
      },
      "source": [
        "from surprise.model_selection import train_test_split\n",
        "\n",
        "# Setting the data variable and using the Reader() object.\n",
        "data = Dataset.load_from_df(train[['userId', 'movieId', 'rating']], reader=reader)\n",
        "\n",
        "# sample random trainset and testset\n",
        "# test set is made of 25% of the ratings.\n",
        "trainset, testset = train_test_split(data, test_size=.25)\n",
        "\n",
        "# We'll use the famous SVD algorithm.\n",
        "algo = SVD(n_epochs=10, lr_all=0.005, reg_all=0.4)\n",
        "\n",
        "# Train the algorithm on the trainset, and predict ratings for the testset\n",
        "algo.fit(trainset)\n",
        "predictions = algo.test(testset)\n",
        "\n",
        "# Then compute RMSE\n",
        "accuracy.rmse(predictions)"
      ],
      "execution_count": null,
      "outputs": []
    },
    {
      "cell_type": "code",
      "metadata": {
        "id": "AbfFsEcqIulQ",
        "colab_type": "code",
        "colab": {}
      },
      "source": [
        "# Using algorithm with best 'rmse'\n",
        "algo = gs.best_estimator['rmse']\n",
        "\n",
        "# Fitting it to our full trainset\n",
        "algo.fit(data.build_full_trainset())"
      ],
      "execution_count": null,
      "outputs": []
    },
    {
      "cell_type": "code",
      "metadata": {
        "id": "2b5Lruq-9gNQ",
        "colab_type": "code",
        "colab": {}
      },
      "source": [
        "ratings = []\n",
        "for _, row in test.iterrows():\n",
        "    ratings.append(algo.predict(row.userId, row.movieId).est)\n",
        "\n",
        "ratings"
      ],
      "execution_count": null,
      "outputs": []
    },
    {
      "cell_type": "code",
      "metadata": {
        "id": "1vot8YY7LOQk",
        "colab_type": "code",
        "colab": {}
      },
      "source": [
        "results_df = pd.DataFrame.from_dict(gs.cv_results)\n",
        "results_df"
      ],
      "execution_count": null,
      "outputs": []
    },
    {
      "cell_type": "markdown",
      "metadata": {
        "id": "D35SH_2PurW-",
        "colab_type": "text"
      },
      "source": [
        "Looking at the other data:"
      ]
    },
    {
      "cell_type": "code",
      "metadata": {
        "id": "oB8jn_v5uahf",
        "colab_type": "code",
        "colab": {}
      },
      "source": [
        "movies = pd.read_csv('movies.csv')\n",
        "genome_scores = pd.read_csv('genome_scores.csv')\n",
        "genome_tags = pd.read_csv('genome_tags.csv')\n",
        "imdb_data = pd.read_csv('imdb_data.csv')\n",
        "tags = pd.read_csv('tags.csv')\n",
        "links = pd.read_csv('links.csv')\n",
        "sample = pd.read_csv('sample_submission.csv')\n"
      ],
      "execution_count": null,
      "outputs": []
    }
  ]
}